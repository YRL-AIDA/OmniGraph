{
 "cells": [
  {
   "cell_type": "code",
   "execution_count": 21,
   "id": "c2120088",
   "metadata": {},
   "outputs": [
    {
     "name": "stdout",
     "output_type": "stream",
     "text": [
      "Requirement already satisfied: accelerate in /opt/conda/lib/python3.8/site-packages (1.0.1)\n",
      "Requirement already satisfied: huggingface-hub>=0.21.0 in /opt/conda/lib/python3.8/site-packages (from accelerate) (0.25.2)\n",
      "Requirement already satisfied: safetensors>=0.4.3 in /opt/conda/lib/python3.8/site-packages (from accelerate) (0.4.5)\n",
      "Requirement already satisfied: torch>=1.10.0 in /opt/conda/lib/python3.8/site-packages (from accelerate) (2.4.1)\n",
      "Requirement already satisfied: pyyaml in /opt/conda/lib/python3.8/site-packages (from accelerate) (5.4.1)\n",
      "Requirement already satisfied: psutil in /opt/conda/lib/python3.8/site-packages (from accelerate) (6.0.0)\n",
      "Requirement already satisfied: packaging>=20.0 in /opt/conda/lib/python3.8/site-packages (from accelerate) (20.9)\n",
      "Requirement already satisfied: numpy<3.0.0,>=1.17 in /opt/conda/lib/python3.8/site-packages (from accelerate) (1.24.4)\n",
      "Requirement already satisfied: typing-extensions>=3.7.4.3 in /opt/conda/lib/python3.8/site-packages (from huggingface-hub>=0.21.0->accelerate) (4.9.0)\n",
      "Requirement already satisfied: tqdm>=4.42.1 in /opt/conda/lib/python3.8/site-packages (from huggingface-hub>=0.21.0->accelerate) (4.66.5)\n",
      "Requirement already satisfied: requests in /opt/conda/lib/python3.8/site-packages (from huggingface-hub>=0.21.0->accelerate) (2.32.3)\n",
      "Requirement already satisfied: filelock in /opt/conda/lib/python3.8/site-packages (from huggingface-hub>=0.21.0->accelerate) (3.16.1)\n",
      "Requirement already satisfied: fsspec>=2023.5.0 in /opt/conda/lib/python3.8/site-packages (from huggingface-hub>=0.21.0->accelerate) (2024.6.1)\n",
      "Requirement already satisfied: pyparsing>=2.0.2 in /opt/conda/lib/python3.8/site-packages (from packaging>=20.0->accelerate) (2.4.7)\n",
      "Requirement already satisfied: nvidia-cublas-cu12==12.1.3.1 in /opt/conda/lib/python3.8/site-packages (from torch>=1.10.0->accelerate) (12.1.3.1)\n",
      "Requirement already satisfied: nvidia-cudnn-cu12==9.1.0.70 in /opt/conda/lib/python3.8/site-packages (from torch>=1.10.0->accelerate) (9.1.0.70)\n",
      "Requirement already satisfied: nvidia-cuda-runtime-cu12==12.1.105 in /opt/conda/lib/python3.8/site-packages (from torch>=1.10.0->accelerate) (12.1.105)\n",
      "Requirement already satisfied: nvidia-cusolver-cu12==11.4.5.107 in /opt/conda/lib/python3.8/site-packages (from torch>=1.10.0->accelerate) (11.4.5.107)\n",
      "Requirement already satisfied: nvidia-cuda-nvrtc-cu12==12.1.105 in /opt/conda/lib/python3.8/site-packages (from torch>=1.10.0->accelerate) (12.1.105)\n",
      "Requirement already satisfied: nvidia-cusparse-cu12==12.1.0.106 in /opt/conda/lib/python3.8/site-packages (from torch>=1.10.0->accelerate) (12.1.0.106)\n",
      "Requirement already satisfied: triton==3.0.0 in /opt/conda/lib/python3.8/site-packages (from torch>=1.10.0->accelerate) (3.0.0)\n",
      "Requirement already satisfied: nvidia-cuda-cupti-cu12==12.1.105 in /opt/conda/lib/python3.8/site-packages (from torch>=1.10.0->accelerate) (12.1.105)\n",
      "Requirement already satisfied: sympy in /opt/conda/lib/python3.8/site-packages (from torch>=1.10.0->accelerate) (1.13.3)\n",
      "Requirement already satisfied: nvidia-nccl-cu12==2.20.5 in /opt/conda/lib/python3.8/site-packages (from torch>=1.10.0->accelerate) (2.20.5)\n",
      "Requirement already satisfied: networkx in /opt/conda/lib/python3.8/site-packages (from torch>=1.10.0->accelerate) (2.5.1)\n",
      "Requirement already satisfied: nvidia-cufft-cu12==11.0.2.54 in /opt/conda/lib/python3.8/site-packages (from torch>=1.10.0->accelerate) (11.0.2.54)\n",
      "Requirement already satisfied: nvidia-curand-cu12==10.3.2.106 in /opt/conda/lib/python3.8/site-packages (from torch>=1.10.0->accelerate) (10.3.2.106)\n",
      "Requirement already satisfied: jinja2 in /opt/conda/lib/python3.8/site-packages (from torch>=1.10.0->accelerate) (3.1.0)\n",
      "Requirement already satisfied: nvidia-nvtx-cu12==12.1.105 in /opt/conda/lib/python3.8/site-packages (from torch>=1.10.0->accelerate) (12.1.105)\n",
      "Requirement already satisfied: nvidia-nvjitlink-cu12 in /opt/conda/lib/python3.8/site-packages (from nvidia-cusolver-cu12==11.4.5.107->torch>=1.10.0->accelerate) (12.6.77)\n",
      "Requirement already satisfied: MarkupSafe>=2.0 in /opt/conda/lib/python3.8/site-packages (from jinja2->torch>=1.10.0->accelerate) (2.1.5)\n",
      "Requirement already satisfied: decorator<5,>=4.3 in /opt/conda/lib/python3.8/site-packages (from networkx->torch>=1.10.0->accelerate) (4.4.2)\n",
      "Requirement already satisfied: certifi>=2017.4.17 in /opt/conda/lib/python3.8/site-packages (from requests->huggingface-hub>=0.21.0->accelerate) (2023.11.17)\n",
      "Requirement already satisfied: urllib3<3,>=1.21.1 in /opt/conda/lib/python3.8/site-packages (from requests->huggingface-hub>=0.21.0->accelerate) (1.26.4)\n",
      "Requirement already satisfied: charset-normalizer<4,>=2 in /opt/conda/lib/python3.8/site-packages (from requests->huggingface-hub>=0.21.0->accelerate) (2.1.1)\n",
      "Requirement already satisfied: idna<4,>=2.5 in /opt/conda/lib/python3.8/site-packages (from requests->huggingface-hub>=0.21.0->accelerate) (2.10)\n",
      "Requirement already satisfied: mpmath<1.4,>=1.1.0 in /opt/conda/lib/python3.8/site-packages (from sympy->torch>=1.10.0->accelerate) (1.3.0)\n"
     ]
    }
   ],
   "source": [
    "!pip install accelerate"
   ]
  },
  {
   "cell_type": "code",
   "execution_count": 39,
   "id": "60549f9d",
   "metadata": {},
   "outputs": [],
   "source": [
    "from transformers import AutoTokenizer, AutoModelForSeq2SeqLM, AutoConfig,AutoModelForCausalLM\n",
    "import pandas as pd\n",
    "import random\n",
    "from tqdm import tqdm"
   ]
  },
  {
   "cell_type": "code",
   "execution_count": 2,
   "id": "c172e7bc",
   "metadata": {},
   "outputs": [],
   "source": [
    "import torch"
   ]
  },
  {
   "cell_type": "code",
   "execution_count": 3,
   "id": "c193cad8",
   "metadata": {},
   "outputs": [
    {
     "data": {
      "text/plain": [
       "BartForConditionalGeneration(\n",
       "  (model): BartModel(\n",
       "    (shared): BartScaledWordEmbedding(50265, 1024, padding_idx=1)\n",
       "    (encoder): BartEncoder(\n",
       "      (embed_tokens): BartScaledWordEmbedding(50265, 1024, padding_idx=1)\n",
       "      (embed_positions): BartLearnedPositionalEmbedding(1026, 1024)\n",
       "      (layers): ModuleList(\n",
       "        (0-11): 12 x BartEncoderLayer(\n",
       "          (self_attn): BartSdpaAttention(\n",
       "            (k_proj): Linear(in_features=1024, out_features=1024, bias=True)\n",
       "            (v_proj): Linear(in_features=1024, out_features=1024, bias=True)\n",
       "            (q_proj): Linear(in_features=1024, out_features=1024, bias=True)\n",
       "            (out_proj): Linear(in_features=1024, out_features=1024, bias=True)\n",
       "          )\n",
       "          (self_attn_layer_norm): LayerNorm((1024,), eps=1e-05, elementwise_affine=True)\n",
       "          (activation_fn): GELUActivation()\n",
       "          (fc1): Linear(in_features=1024, out_features=4096, bias=True)\n",
       "          (fc2): Linear(in_features=4096, out_features=1024, bias=True)\n",
       "          (final_layer_norm): LayerNorm((1024,), eps=1e-05, elementwise_affine=True)\n",
       "        )\n",
       "      )\n",
       "      (layernorm_embedding): LayerNorm((1024,), eps=1e-05, elementwise_affine=True)\n",
       "    )\n",
       "    (decoder): BartDecoder(\n",
       "      (embed_tokens): BartScaledWordEmbedding(50265, 1024, padding_idx=1)\n",
       "      (embed_positions): BartLearnedPositionalEmbedding(1026, 1024)\n",
       "      (layers): ModuleList(\n",
       "        (0-11): 12 x BartDecoderLayer(\n",
       "          (self_attn): BartSdpaAttention(\n",
       "            (k_proj): Linear(in_features=1024, out_features=1024, bias=True)\n",
       "            (v_proj): Linear(in_features=1024, out_features=1024, bias=True)\n",
       "            (q_proj): Linear(in_features=1024, out_features=1024, bias=True)\n",
       "            (out_proj): Linear(in_features=1024, out_features=1024, bias=True)\n",
       "          )\n",
       "          (activation_fn): GELUActivation()\n",
       "          (self_attn_layer_norm): LayerNorm((1024,), eps=1e-05, elementwise_affine=True)\n",
       "          (encoder_attn): BartSdpaAttention(\n",
       "            (k_proj): Linear(in_features=1024, out_features=1024, bias=True)\n",
       "            (v_proj): Linear(in_features=1024, out_features=1024, bias=True)\n",
       "            (q_proj): Linear(in_features=1024, out_features=1024, bias=True)\n",
       "            (out_proj): Linear(in_features=1024, out_features=1024, bias=True)\n",
       "          )\n",
       "          (encoder_attn_layer_norm): LayerNorm((1024,), eps=1e-05, elementwise_affine=True)\n",
       "          (fc1): Linear(in_features=1024, out_features=4096, bias=True)\n",
       "          (fc2): Linear(in_features=4096, out_features=1024, bias=True)\n",
       "          (final_layer_norm): LayerNorm((1024,), eps=1e-05, elementwise_affine=True)\n",
       "        )\n",
       "      )\n",
       "      (layernorm_embedding): LayerNorm((1024,), eps=1e-05, elementwise_affine=True)\n",
       "    )\n",
       "  )\n",
       "  (lm_head): Linear(in_features=1024, out_features=50265, bias=False)\n",
       ")"
      ]
     },
     "execution_count": 3,
     "metadata": {},
     "output_type": "execute_result"
    }
   ],
   "source": [
    "config = AutoConfig.from_pretrained(\"neulab/omnitab-large-finetuned-wtq\")\n",
    "# IMPORTANT: the initial BART model's decoding is penalized by no_repeat_ngram_size, and thus\n",
    "# we should disable it here to avoid problematic generation\n",
    "config.no_repeat_ngram_size = 3 # В omnitab = 3, part exec = 0\n",
    "config.max_length = 1024\n",
    "#config.early_stopping = False #  В омнитаб нет\n",
    "\n",
    "#model = AutoModel.from_config(config) # Для создания экземпляра модели без предобученных весов\n",
    "tokenizer = AutoTokenizer.from_pretrained('neulab/omnitab-large-finetuned-wtq')\n",
    "model = AutoModelForSeq2SeqLM.from_pretrained('neulab/omnitab-large-finetuned-wtq')\n",
    "#model = AutoModelForCausalLM.from_pretrained(\"bert-base-uncased\", device_map = 'auto')\n",
    "device = \"cpu\"#\"cuda\" if torch.cuda.is_available() else \"cpu\"\n",
    "\n",
    "model.to(device)"
   ]
  },
  {
   "cell_type": "code",
   "execution_count": 4,
   "id": "7bbeceea",
   "metadata": {},
   "outputs": [
    {
     "name": "stdout",
     "output_type": "stream",
     "text": [
      "[' 2008']\n"
     ]
    }
   ],
   "source": [
    "data = {\n",
    "    'year': [1896, 1900, 1904, 2004, 2008, 2012],\n",
    "    'city': ['athens', 'paris', 'st. louis', 'athens', 'beijing', 'london']\n",
    "}\n",
    "table = pd.DataFrame.from_dict(data)\n",
    "\n",
    "query = 'In which year did beijing host the Olympic Games?'\n",
    "encoding = tokenizer(table=table, query=query, return_tensors='pt')\n",
    "\n",
    "outputs = model.generate(**encoding)\n",
    "\n",
    "print(tokenizer.batch_decode(outputs, skip_special_tokens=True))"
   ]
  },
  {
   "cell_type": "code",
   "execution_count": 5,
   "id": "6265fb2d",
   "metadata": {},
   "outputs": [
    {
     "data": {
      "text/plain": [
       "device(type='cpu')"
      ]
     },
     "execution_count": 5,
     "metadata": {},
     "output_type": "execute_result"
    }
   ],
   "source": [
    "next(model.parameters()).device"
   ]
  },
  {
   "cell_type": "code",
   "execution_count": 7,
   "id": "0d400d66",
   "metadata": {},
   "outputs": [],
   "source": [
    "device = \"cuda\" if torch.cuda.is_available() else \"cpu\"\n",
    "device = \"cpu\""
   ]
  },
  {
   "cell_type": "code",
   "execution_count": 8,
   "id": "c5ea624a",
   "metadata": {},
   "outputs": [],
   "source": [
    "from datasets import load_dataset\n"
   ]
  },
  {
   "cell_type": "code",
   "execution_count": 44,
   "id": "d47faa32",
   "metadata": {},
   "outputs": [
    {
     "data": {
      "text/plain": [
       "DatasetDict({\n",
       "    train: Dataset({\n",
       "        features: ['id', 'question', 'answers', 'table', 'lf_p', 'lf_pc', 'lf_pcs', 'lf_pcsgbh', 'lf_pcsgbhob', 'lf_pcsgbhoba', 'lf_pcsgbhobaop', 'lf_pcsgbhobaopl', 'sql'],\n",
       "        num_rows: 8610\n",
       "    })\n",
       "    test: Dataset({\n",
       "        features: ['id', 'question', 'answers', 'table', 'lf_p', 'lf_pc', 'lf_pcs', 'lf_pcsgbh', 'lf_pcsgbhob', 'lf_pcsgbhoba', 'lf_pcsgbhobaop', 'lf_pcsgbhobaopl', 'sql'],\n",
       "        num_rows: 4344\n",
       "    })\n",
       "    validation: Dataset({\n",
       "        features: ['id', 'question', 'answers', 'table', 'lf_p', 'lf_pc', 'lf_pcs', 'lf_pcsgbh', 'lf_pcsgbhob', 'lf_pcsgbhoba', 'lf_pcsgbhobaop', 'lf_pcsgbhobaopl', 'sql'],\n",
       "        num_rows: 2092\n",
       "    })\n",
       "})"
      ]
     },
     "execution_count": 44,
     "metadata": {},
     "output_type": "execute_result"
    }
   ],
   "source": [
    "data_files = {\"train\":\"data/wtq_lf_preorder/train/data-00000-of-00001.arrow\",\n",
    "              \"test\":\"data/wtq_lf_preorder/test/data-00000-of-00001.arrow\",\n",
    "              \"validation\":\"data/wtq_lf_preorder/validation/data-00000-of-00001.arrow\"}\n",
    "datasets = load_dataset(\"arrow\", data_files=data_files)\n",
    "#datasets = load_dataset(\"Stanford/wikitablequestions\")\n",
    "datasets"
   ]
  },
  {
   "cell_type": "code",
   "execution_count": 45,
   "id": "64842ee6",
   "metadata": {},
   "outputs": [
    {
     "data": {
      "text/plain": [
       "Dataset({\n",
       "    features: ['id', 'question', 'answers', 'table', 'lf_p', 'lf_pc', 'lf_pcs', 'lf_pcsgbh', 'lf_pcsgbhob', 'lf_pcsgbhoba', 'lf_pcsgbhobaop', 'lf_pcsgbhobaopl', 'sql'],\n",
       "    num_rows: 4344\n",
       "})"
      ]
     },
     "execution_count": 45,
     "metadata": {},
     "output_type": "execute_result"
    }
   ],
   "source": [
    "datasets = datasets[\"test\"]\n",
    "datasets"
   ]
  },
  {
   "cell_type": "code",
   "execution_count": 11,
   "id": "94a65563",
   "metadata": {},
   "outputs": [],
   "source": [
    "target_col_name = f\"lf_pcs\"\n"
   ]
  },
  {
   "cell_type": "code",
   "execution_count": null,
   "id": "87b45013",
   "metadata": {},
   "outputs": [],
   "source": [
    "#features = [\"question\",\"table\"]\n",
    "#def length_filter(example):\n",
    "#    return {f\"length_{target_col_name}\": len(tokenizer.tokenize(example[target_col_name]))<=max_target_length}\n",
    "#\n",
    "#for mode in ['train',\"validation\"]:#\n",
    "#\n",
    "#   if mode ==\"train\":\n",
    "#        datasets[mode] = datasets[mode].map(length_filter)\n",
    "#        filter_col = [idx for idx, i in enumerate(datasets[mode][filter_col_name]) if i==1]\n",
    "#        logger.info(f\"remove {len(datasets[mode])-len(filter_col)} observations with length > {max_target_length}.\")\n",
    "#        logger.info(f\"Previous {mode} size {len(datasets[mode])} actual {mode} size {len(filter_col)}\")\n",
    "#        datasets[mode] = datasets[mode].select(filter_col)\n",
    "#\n",
    "#    removed_cols = set(datasets[mode].features.keys())-set([target_col_name]+features)\n",
    "#    datasets[mode] = datasets[mode].remove_columns(removed_cols)\n",
    "#    datasets[mode] = datasets[mode].rename_column(target_col_name, 'answers')"
   ]
  },
  {
   "cell_type": "code",
   "execution_count": 12,
   "id": "d4510036",
   "metadata": {},
   "outputs": [
    {
     "name": "stderr",
     "output_type": "stream",
     "text": [
      "/opt/conda/lib/python3.8/site-packages/fuzzywuzzy/fuzz.py:11: UserWarning: Using slow pure-python SequenceMatcher. Install python-Levenshtein to remove this warning\n",
      "  warnings.warn('Using slow pure-python SequenceMatcher. Install python-Levenshtein to remove this warning')\n"
     ]
    },
    {
     "name": "stdout",
     "output_type": "stream",
     "text": [
      "<ipykernel.iostream.OutStream object at 0x7f3f1d6b0460> Reading dataset from /home/jovyan/cloud/postgraduate/works/Partial-Exec/data/tables/tagged/pristine-seen-tables.tagged\n",
      "<ipykernel.iostream.OutStream object at 0x7f3f1d6b0460> Reading dataset from /home/jovyan/cloud/postgraduate/works/Partial-Exec/data/tables/tagged/pristine-unseen-tables.tagged\n",
      "<ipykernel.iostream.OutStream object at 0x7f3f1d6b0460> Reading dataset from /home/jovyan/cloud/postgraduate/works/Partial-Exec/data/tables/tagged/training.tagged\n"
     ]
    }
   ],
   "source": [
    "from data_processing.metrics import (to_value_list,\n",
    "                                     to_value,\n",
    "                                     plot_and_save_model_performance,\n",
    "                                     fuzzy_matching,\n",
    "                                     strict_denotation_accuracy,\n",
    "                                     flexible_denotation_accuracy)"
   ]
  },
  {
   "cell_type": "code",
   "execution_count": 14,
   "id": "89106836",
   "metadata": {},
   "outputs": [],
   "source": [
    "path_model_folder = \"./models/OmniTab\"\n",
    "output_file = f'{path_model_folder}/model_evaluation_results.json'\n",
    "#target_col_name = f\"lf_{Omega_include.lower()}\"\n",
    "#Omega_include = path_model_folder.split('/')[-1].split('_')[1]"
   ]
  },
  {
   "cell_type": "code",
   "execution_count": null,
   "id": "2c60ea0d",
   "metadata": {},
   "outputs": [],
   "source": [
    "#removed_cols = set(datasets[\"validation\"].features.keys())-set([target_col_name]+features+[\"answers\"])\n",
    "#datasets[\"validation\"] = datasets[\"validation\"].remove_columns(removed_cols)\n",
    "#datasets[\"validation\"] = datasets[\"validation\"].rename_column(target_col_name, 'answers_lf')\n",
    "#datasets[\"validation\"] = datasets[\"validation\"].rename_column(\"answers\", 'answers_exec')\n",
    "#datasets[\"test\"] = datasets[\"test\"].rename_column(\"answers\", 'answers_exec')"
   ]
  },
  {
   "cell_type": "code",
   "execution_count": 21,
   "id": "5dd894ee",
   "metadata": {},
   "outputs": [],
   "source": [
    "rnd = random.randint(0, len(datasets))"
   ]
  },
  {
   "cell_type": "code",
   "execution_count": 26,
   "id": "e8930ebf",
   "metadata": {},
   "outputs": [
    {
     "data": {
      "text/plain": [
       "1758"
      ]
     },
     "execution_count": 26,
     "metadata": {},
     "output_type": "execute_result"
    }
   ],
   "source": [
    "rnd"
   ]
  },
  {
   "cell_type": "code",
   "execution_count": 66,
   "id": "8b762b6b",
   "metadata": {},
   "outputs": [],
   "source": [
    "def preprocess_tableqa_function(example, is_test=False):\n",
    "\n",
    "        question = example[\"question\"].lower()\n",
    "        example_table = example[\"table\"]\n",
    "        table = pd.DataFrame.from_records(example_table[\"rows\"], columns=example_table[\"header\"])\n",
    "        \n",
    "        model_input = tokenizer(\n",
    "            table=table, query=question, max_length=1024, padding=False, truncation=True\n",
    "        )\n",
    "            \n",
    "        return model_input\n"
   ]
  },
  {
   "cell_type": "code",
   "execution_count": 75,
   "id": "6c6db88d",
   "metadata": {},
   "outputs": [],
   "source": [
    "def evaluate_model(model, dataset, comp_graph = False, is_test=False,flatten_mode=\"preorder\"):\n",
    "        model.eval()\n",
    "        perfs={ \"Strict_Denotation_Accuracy_Execs\":[]}\n",
    "        for idx, example in tqdm(enumerate(dataset), total=len(dataset)):\n",
    "            proces_example = preprocess_tableqa_function(example)\n",
    "            input_ids = proces_example[\"input_ids\"]\n",
    "            attention_mask = proces_example[\"attention_mask\"]\n",
    "\n",
    "            input_ids = torch.tensor(input_ids).unsqueeze(0).to(device)\n",
    "            attention_mask = torch.tensor(attention_mask).unsqueeze(0).to(device)\n",
    "            generated_ids = model.generate(input_ids=input_ids, attention_mask=attention_mask)\n",
    "            prediction_lf = tokenizer.decode(generated_ids.squeeze(), skip_special_tokens=True).strip()\n",
    "            if comp_graph:\n",
    "                header=tokenizer.decode(input_ids.squeeze(), skip_special_tokens=True)\n",
    "                header=header.split(' col : ')[1].split(' row 1 : ')[0].split(' |')\n",
    "                header=[h.strip() for h in header]\n",
    "                #G=parse(prediction_lf, header, flatten_mode=args.flatten_mode)\n",
    "                try:\n",
    "                    print('1')\n",
    "                    G=parse(prediction_lf, header, flatten_mode=flatten_mode)\n",
    "                    print('2')\n",
    "                    prediction_exec = G.executed_last_node()\n",
    "                    print(f'answers_exec {answers_exec} prediction_exec {prediction_exec}')\n",
    "                    acc_ex_stric = strict_denotation_accuracy(to_value_list(answers_exec), to_value_list(prediction_exec))\n",
    "\n",
    "                except Exception as e:\n",
    "                    print(e)\n",
    "                    acc_ex_stric = False\n",
    "\n",
    "            \n",
    "            else:\n",
    "                prediction_exec = prediction_lf\n",
    "                answers_exec = example['answers']\n",
    "                print(prediction_exec,answers_exec)\n",
    "                acc_ex_stric = strict_denotation_accuracy(to_value_list(answers_exec), to_value_list([prediction_exec]))\n",
    "            print(f'Strict_Denotation_Accuracy_Execs {acc_ex_stric}')\n",
    "            perfs[\"Strict_Denotation_Accuracy_Execs\"].append(acc_ex_stric)\n",
    "\n",
    "        Strict_Denotation_Accuracy_Exec = sum(perfs[\"Strict_Denotation_Accuracy_Execs\"])/len(perfs[\"Strict_Denotation_Accuracy_Execs\"])\n",
    "\n",
    "        return {'Strict_Denotation_Accuracy_Exec': Strict_Denotation_Accuracy_Exec}  # example\n"
   ]
  },
  {
   "cell_type": "code",
   "execution_count": null,
   "id": "5d2c77f9",
   "metadata": {},
   "outputs": [
    {
     "name": "stderr",
     "output_type": "stream",
     "text": [
      "  0%|          | 1/4344 [00:00<22:22,  3.24it/s]"
     ]
    },
    {
     "name": "stdout",
     "output_type": "stream",
     "text": [
      "Spain ['Italy']\n",
      "Strict_Denotation_Accuracy_Execs False\n"
     ]
    },
    {
     "name": "stderr",
     "output_type": "stream",
     "text": [
      "\r",
      "  0%|          | 2/4344 [00:00<23:47,  3.04it/s]"
     ]
    },
    {
     "name": "stdout",
     "output_type": "stream",
     "text": [
      "100,000 ['100,000']\n",
      "Strict_Denotation_Accuracy_Execs True\n"
     ]
    },
    {
     "name": "stderr",
     "output_type": "stream",
     "text": [
      "\r",
      "  0%|          | 3/4344 [00:01<28:40,  2.52it/s]"
     ]
    },
    {
     "name": "stdout",
     "output_type": "stream",
     "text": [
      "1 year ['17 years']\n",
      "Strict_Denotation_Accuracy_Execs False\n"
     ]
    },
    {
     "name": "stderr",
     "output_type": "stream",
     "text": [
      "\r",
      "  0%|          | 4/4344 [00:01<29:15,  2.47it/s]"
     ]
    },
    {
     "name": "stdout",
     "output_type": "stream",
     "text": [
      "January 26, 1995 ['January 26, 1995']\n",
      "Strict_Denotation_Accuracy_Execs True\n"
     ]
    },
    {
     "name": "stderr",
     "output_type": "stream",
     "text": [
      "\r",
      "  0%|          | 5/4344 [00:01<29:05,  2.49it/s]"
     ]
    },
    {
     "name": "stdout",
     "output_type": "stream",
     "text": [
      "17 ['17']\n",
      "Strict_Denotation_Accuracy_Execs True\n"
     ]
    },
    {
     "name": "stderr",
     "output_type": "stream",
     "text": [
      "\r",
      "  0%|          | 6/4344 [00:02<26:06,  2.77it/s]"
     ]
    },
    {
     "name": "stdout",
     "output_type": "stream",
     "text": [
      "World Junior Championships ['World Junior Championships']\n",
      "Strict_Denotation_Accuracy_Execs True\n"
     ]
    },
    {
     "name": "stderr",
     "output_type": "stream",
     "text": [
      "\r",
      "  0%|          | 7/4344 [00:02<24:23,  2.96it/s]"
     ]
    },
    {
     "name": "stdout",
     "output_type": "stream",
     "text": [
      "15 ['15']\n",
      "Strict_Denotation_Accuracy_Execs True\n"
     ]
    },
    {
     "name": "stderr",
     "output_type": "stream",
     "text": [
      "\r",
      "  0%|          | 8/4344 [00:02<25:56,  2.79it/s]"
     ]
    },
    {
     "name": "stdout",
     "output_type": "stream",
     "text": [
      "363 ['363']\n",
      "Strict_Denotation_Accuracy_Execs True\n"
     ]
    },
    {
     "name": "stderr",
     "output_type": "stream",
     "text": [
      "\r",
      "  0%|          | 9/4344 [00:03<24:51,  2.91it/s]"
     ]
    },
    {
     "name": "stdout",
     "output_type": "stream",
     "text": [
      "1982-1985 ['1982-1985']\n",
      "Strict_Denotation_Accuracy_Execs True\n"
     ]
    },
    {
     "name": "stderr",
     "output_type": "stream",
     "text": [
      "\r",
      "  0%|          | 10/4344 [00:03<24:49,  2.91it/s]"
     ]
    },
    {
     "name": "stdout",
     "output_type": "stream",
     "text": [
      "2000 ['2000']\n",
      "Strict_Denotation_Accuracy_Execs True\n"
     ]
    },
    {
     "name": "stderr",
     "output_type": "stream",
     "text": [
      "\r",
      "  0%|          | 11/4344 [00:04<35:33,  2.03it/s]"
     ]
    },
    {
     "name": "stdout",
     "output_type": "stream",
     "text": [
      "1970, 1971, 1972, 1973 ['2004', '2005', '2006']\n",
      "Strict_Denotation_Accuracy_Execs False\n"
     ]
    },
    {
     "name": "stderr",
     "output_type": "stream",
     "text": [
      "\r",
      "  0%|          | 12/4344 [00:04<32:14,  2.24it/s]"
     ]
    },
    {
     "name": "stdout",
     "output_type": "stream",
     "text": [
      "John O'Flynn ['John']\n",
      "Strict_Denotation_Accuracy_Execs False\n"
     ]
    },
    {
     "name": "stderr",
     "output_type": "stream",
     "text": [
      "\r",
      "  0%|          | 13/4344 [00:05<34:01,  2.12it/s]"
     ]
    },
    {
     "name": "stdout",
     "output_type": "stream",
     "text": [
      "41 ['440']\n",
      "Strict_Denotation_Accuracy_Execs False\n"
     ]
    },
    {
     "name": "stderr",
     "output_type": "stream",
     "text": [
      "\r",
      "  0%|          | 14/4344 [00:05<28:45,  2.51it/s]"
     ]
    },
    {
     "name": "stdout",
     "output_type": "stream",
     "text": [
      "6 ['7']\n",
      "Strict_Denotation_Accuracy_Execs False\n"
     ]
    },
    {
     "name": "stderr",
     "output_type": "stream",
     "text": [
      "\r",
      "  0%|          | 15/4344 [00:06<32:50,  2.20it/s]"
     ]
    },
    {
     "name": "stdout",
     "output_type": "stream",
     "text": [
      "zero ['space']\n",
      "Strict_Denotation_Accuracy_Execs False\n"
     ]
    },
    {
     "name": "stderr",
     "output_type": "stream",
     "text": [
      "\r",
      "  0%|          | 16/4344 [00:06<31:31,  2.29it/s]"
     ]
    },
    {
     "name": "stdout",
     "output_type": "stream",
     "text": [
      "123 ['68']\n",
      "Strict_Denotation_Accuracy_Execs False\n"
     ]
    },
    {
     "name": "stderr",
     "output_type": "stream",
     "text": [
      "\r",
      "  0%|          | 17/4344 [00:06<31:54,  2.26it/s]"
     ]
    },
    {
     "name": "stdout",
     "output_type": "stream",
     "text": [
      "Tomomi Manako ['Tomomi Manako']\n",
      "Strict_Denotation_Accuracy_Execs True\n"
     ]
    },
    {
     "name": "stderr",
     "output_type": "stream",
     "text": [
      "\r",
      "  0%|          | 18/4344 [00:07<30:22,  2.37it/s]"
     ]
    },
    {
     "name": "stdout",
     "output_type": "stream",
     "text": [
      "5 ['5']\n",
      "Strict_Denotation_Accuracy_Execs True\n"
     ]
    },
    {
     "name": "stderr",
     "output_type": "stream",
     "text": [
      "\r",
      "  0%|          | 19/4344 [00:08<37:02,  1.95it/s]"
     ]
    },
    {
     "name": "stdout",
     "output_type": "stream",
     "text": [
      "Vidant Bertie Hospital ['Vidant Bertie Hospital']\n",
      "Strict_Denotation_Accuracy_Execs True\n"
     ]
    },
    {
     "name": "stderr",
     "output_type": "stream",
     "text": [
      "\r",
      "  0%|          | 20/4344 [00:08<37:23,  1.93it/s]"
     ]
    },
    {
     "name": "stdout",
     "output_type": "stream",
     "text": [
      "45,655 ['492,111']\n",
      "Strict_Denotation_Accuracy_Execs False\n"
     ]
    },
    {
     "name": "stderr",
     "output_type": "stream",
     "text": [
      "\r",
      "  0%|          | 21/4344 [00:09<36:29,  1.97it/s]"
     ]
    },
    {
     "name": "stdout",
     "output_type": "stream",
     "text": [
      "1 ['1']\n",
      "Strict_Denotation_Accuracy_Execs True\n"
     ]
    },
    {
     "name": "stderr",
     "output_type": "stream",
     "text": [
      "\r",
      "  1%|          | 22/4344 [00:09<29:58,  2.40it/s]"
     ]
    },
    {
     "name": "stdout",
     "output_type": "stream",
     "text": [
      "Brazil ['Brazil']\n",
      "Strict_Denotation_Accuracy_Execs True\n"
     ]
    },
    {
     "name": "stderr",
     "output_type": "stream",
     "text": [
      "\r",
      "  1%|          | 23/4344 [00:09<27:05,  2.66it/s]"
     ]
    },
    {
     "name": "stdout",
     "output_type": "stream",
     "text": [
      "5 ['7']\n",
      "Strict_Denotation_Accuracy_Execs False\n"
     ]
    },
    {
     "name": "stderr",
     "output_type": "stream",
     "text": [
      "\r",
      "  1%|          | 24/4344 [00:09<27:40,  2.60it/s]"
     ]
    },
    {
     "name": "stdout",
     "output_type": "stream",
     "text": [
      "Sayonara ['Brindabella']\n",
      "Strict_Denotation_Accuracy_Execs False\n"
     ]
    },
    {
     "name": "stderr",
     "output_type": "stream",
     "text": [
      "\r",
      "  1%|          | 25/4344 [00:10<26:04,  2.76it/s]"
     ]
    },
    {
     "name": "stdout",
     "output_type": "stream",
     "text": [
      "GL-B-6 ['GL-B-6']\n",
      "Strict_Denotation_Accuracy_Execs True\n"
     ]
    },
    {
     "name": "stderr",
     "output_type": "stream",
     "text": [
      "\r",
      "  1%|          | 26/4344 [00:10<25:58,  2.77it/s]"
     ]
    },
    {
     "name": "stdout",
     "output_type": "stream",
     "text": [
      "2 ['3']\n",
      "Strict_Denotation_Accuracy_Execs False\n"
     ]
    },
    {
     "name": "stderr",
     "output_type": "stream",
     "text": [
      "\r",
      "  1%|          | 27/4344 [00:10<25:07,  2.86it/s]"
     ]
    },
    {
     "name": "stdout",
     "output_type": "stream",
     "text": [
      "20 ['20']\n",
      "Strict_Denotation_Accuracy_Execs True\n"
     ]
    },
    {
     "name": "stderr",
     "output_type": "stream",
     "text": [
      "\r",
      "  1%|          | 28/4344 [00:11<32:47,  2.19it/s]"
     ]
    },
    {
     "name": "stdout",
     "output_type": "stream",
     "text": [
      "Ebbe Sand ['Simon Makienok Christoffersen']\n",
      "Strict_Denotation_Accuracy_Execs False\n"
     ]
    },
    {
     "name": "stderr",
     "output_type": "stream",
     "text": [
      "\r",
      "  1%|          | 29/4344 [00:12<32:18,  2.23it/s]"
     ]
    },
    {
     "name": "stdout",
     "output_type": "stream",
     "text": [
      "11 ['9']\n",
      "Strict_Denotation_Accuracy_Execs False\n"
     ]
    },
    {
     "name": "stderr",
     "output_type": "stream",
     "text": [
      "\r",
      "  1%|          | 30/4344 [00:12<29:01,  2.48it/s]"
     ]
    },
    {
     "name": "stdout",
     "output_type": "stream",
     "text": [
      "1 ['1']\n",
      "Strict_Denotation_Accuracy_Execs True\n"
     ]
    },
    {
     "name": "stderr",
     "output_type": "stream",
     "text": [
      "\r",
      "  1%|          | 31/4344 [00:13<36:09,  1.99it/s]"
     ]
    },
    {
     "name": "stdout",
     "output_type": "stream",
     "text": [
      "Pennsylvania Avenue Metro Extra Line ['Pennsylvania Avenue Metro Extra Line']\n",
      "Strict_Denotation_Accuracy_Execs True\n"
     ]
    },
    {
     "name": "stderr",
     "output_type": "stream",
     "text": [
      "\r",
      "  1%|          | 32/4344 [00:13<32:07,  2.24it/s]"
     ]
    },
    {
     "name": "stdout",
     "output_type": "stream",
     "text": [
      "DW Stadium ['DW Stadium']\n",
      "Strict_Denotation_Accuracy_Execs True\n"
     ]
    },
    {
     "name": "stderr",
     "output_type": "stream",
     "text": [
      "\r",
      "  1%|          | 33/4344 [00:13<26:50,  2.68it/s]"
     ]
    },
    {
     "name": "stdout",
     "output_type": "stream",
     "text": [
      "2 ['2']\n",
      "Strict_Denotation_Accuracy_Execs True\n"
     ]
    },
    {
     "name": "stderr",
     "output_type": "stream",
     "text": [
      "\r",
      "  1%|          | 34/4344 [00:13<24:34,  2.92it/s]"
     ]
    },
    {
     "name": "stdout",
     "output_type": "stream",
     "text": [
      "1914-15 ['1914-15']\n",
      "Strict_Denotation_Accuracy_Execs True\n"
     ]
    },
    {
     "name": "stderr",
     "output_type": "stream",
     "text": [
      "\r",
      "  1%|          | 35/4344 [00:15<43:31,  1.65it/s]"
     ]
    },
    {
     "name": "stdout",
     "output_type": "stream",
     "text": [
      "Jahaira Novgorodova, Carmen Jenockova, Mariesea Mnesiču ['Jahaira Novgorodova', 'Carmen Jenockova', 'Mariesea Mnesiču', 'Patricia Valiahmetova', 'Anastasija Larkova']\n",
      "Strict_Denotation_Accuracy_Execs False\n"
     ]
    },
    {
     "name": "stderr",
     "output_type": "stream",
     "text": [
      "\r",
      "  1%|          | 36/4344 [00:15<35:49,  2.00it/s]"
     ]
    },
    {
     "name": "stdout",
     "output_type": "stream",
     "text": [
      "6 ['0']\n",
      "Strict_Denotation_Accuracy_Execs False\n"
     ]
    },
    {
     "name": "stderr",
     "output_type": "stream",
     "text": [
      "\r",
      "  1%|          | 37/4344 [00:15<33:01,  2.17it/s]"
     ]
    },
    {
     "name": "stdout",
     "output_type": "stream",
     "text": [
      "4 ['4']\n",
      "Strict_Denotation_Accuracy_Execs True\n",
      "3 ['10']"
     ]
    },
    {
     "name": "stderr",
     "output_type": "stream",
     "text": [
      "\r",
      "  1%|          | 38/4344 [00:15<27:25,  2.62it/s]"
     ]
    },
    {
     "name": "stdout",
     "output_type": "stream",
     "text": [
      "\n",
      "Strict_Denotation_Accuracy_Execs False\n"
     ]
    },
    {
     "name": "stderr",
     "output_type": "stream",
     "text": [
      "\r",
      "  1%|          | 39/4344 [00:16<25:20,  2.83it/s]"
     ]
    },
    {
     "name": "stdout",
     "output_type": "stream",
     "text": [
      "2 ['2']\n",
      "Strict_Denotation_Accuracy_Execs True\n"
     ]
    },
    {
     "name": "stderr",
     "output_type": "stream",
     "text": [
      "\r",
      "  1%|          | 40/4344 [00:16<22:29,  3.19it/s]"
     ]
    },
    {
     "name": "stdout",
     "output_type": "stream",
     "text": [
      "2013 ['2005']\n",
      "Strict_Denotation_Accuracy_Execs False\n"
     ]
    },
    {
     "name": "stderr",
     "output_type": "stream",
     "text": [
      "\r",
      "  1%|          | 41/4344 [00:16<23:31,  3.05it/s]"
     ]
    },
    {
     "name": "stdout",
     "output_type": "stream",
     "text": [
      "5 ['5']\n",
      "Strict_Denotation_Accuracy_Execs True\n"
     ]
    },
    {
     "name": "stderr",
     "output_type": "stream",
     "text": [
      "\r",
      "  1%|          | 42/4344 [00:17<21:20,  3.36it/s]"
     ]
    },
    {
     "name": "stdout",
     "output_type": "stream",
     "text": [
      "Clint Dempsey ['Clint Dempsey']\n",
      "Strict_Denotation_Accuracy_Execs True\n"
     ]
    },
    {
     "name": "stderr",
     "output_type": "stream",
     "text": [
      "\r",
      "  1%|          | 43/4344 [00:17<23:15,  3.08it/s]"
     ]
    },
    {
     "name": "stdout",
     "output_type": "stream",
     "text": [
      "Strasbourg Cathedral [\"St. Mary's Church\"]\n",
      "Strict_Denotation_Accuracy_Execs False\n"
     ]
    },
    {
     "name": "stderr",
     "output_type": "stream",
     "text": [
      "\r",
      "  1%|          | 44/4344 [00:17<28:40,  2.50it/s]"
     ]
    },
    {
     "name": "stdout",
     "output_type": "stream",
     "text": [
      "Independent ['Independent']\n",
      "Strict_Denotation_Accuracy_Execs True\n"
     ]
    },
    {
     "name": "stderr",
     "output_type": "stream",
     "text": [
      "\r",
      "  1%|          | 45/4344 [00:18<32:48,  2.18it/s]"
     ]
    },
    {
     "name": "stdout",
     "output_type": "stream",
     "text": [
      "1926 ['1992']\n",
      "Strict_Denotation_Accuracy_Execs False\n"
     ]
    },
    {
     "name": "stderr",
     "output_type": "stream",
     "text": [
      "\r",
      "  1%|          | 46/4344 [00:18<29:00,  2.47it/s]"
     ]
    },
    {
     "name": "stdout",
     "output_type": "stream",
     "text": [
      "504,000 ['504,000']\n",
      "Strict_Denotation_Accuracy_Execs True\n"
     ]
    },
    {
     "name": "stderr",
     "output_type": "stream",
     "text": [
      "\r",
      "  1%|          | 47/4344 [00:19<31:27,  2.28it/s]"
     ]
    },
    {
     "name": "stdout",
     "output_type": "stream",
     "text": [
      "9 ['20']\n",
      "Strict_Denotation_Accuracy_Execs False\n"
     ]
    },
    {
     "name": "stderr",
     "output_type": "stream",
     "text": [
      "\r",
      "  1%|          | 48/4344 [00:19<27:33,  2.60it/s]"
     ]
    },
    {
     "name": "stdout",
     "output_type": "stream",
     "text": [
      "7 ['7']\n",
      "Strict_Denotation_Accuracy_Execs True\n"
     ]
    },
    {
     "name": "stderr",
     "output_type": "stream",
     "text": [
      "\r",
      "  1%|          | 49/4344 [00:19<24:56,  2.87it/s]"
     ]
    },
    {
     "name": "stdout",
     "output_type": "stream",
     "text": [
      "Chile, Ecuador ['Chile', 'Ecuador']\n",
      "Strict_Denotation_Accuracy_Execs False\n"
     ]
    },
    {
     "name": "stderr",
     "output_type": "stream",
     "text": [
      "\r",
      "  1%|          | 50/4344 [00:20<29:40,  2.41it/s]"
     ]
    },
    {
     "name": "stdout",
     "output_type": "stream",
     "text": [
      "2 ['1']\n",
      "Strict_Denotation_Accuracy_Execs False\n"
     ]
    },
    {
     "name": "stderr",
     "output_type": "stream",
     "text": [
      "\r",
      "  1%|          | 51/4344 [00:20<27:29,  2.60it/s]"
     ]
    },
    {
     "name": "stdout",
     "output_type": "stream",
     "text": [
      "Carlin ['Carlin']\n",
      "Strict_Denotation_Accuracy_Execs True\n"
     ]
    },
    {
     "name": "stderr",
     "output_type": "stream",
     "text": [
      "\r",
      "  1%|          | 52/4344 [00:21<24:13,  2.95it/s]"
     ]
    },
    {
     "name": "stdout",
     "output_type": "stream",
     "text": [
      "10 ['10']\n",
      "Strict_Denotation_Accuracy_Execs True\n"
     ]
    },
    {
     "name": "stderr",
     "output_type": "stream",
     "text": [
      "\r",
      "  1%|          | 53/4344 [00:21<22:41,  3.15it/s]"
     ]
    },
    {
     "name": "stdout",
     "output_type": "stream",
     "text": [
      "Yankton ['Yankton']\n",
      "Strict_Denotation_Accuracy_Execs True\n"
     ]
    },
    {
     "name": "stderr",
     "output_type": "stream",
     "text": [
      "\r",
      "  1%|          | 54/4344 [00:21<27:15,  2.62it/s]"
     ]
    },
    {
     "name": "stdout",
     "output_type": "stream",
     "text": [
      "1935-1962 ['1935']\n",
      "Strict_Denotation_Accuracy_Execs False\n"
     ]
    },
    {
     "name": "stderr",
     "output_type": "stream",
     "text": [
      "\r",
      "  1%|▏         | 55/4344 [00:22<24:17,  2.94it/s]"
     ]
    },
    {
     "name": "stdout",
     "output_type": "stream",
     "text": [
      "David Russell ['David Russell']\n",
      "Strict_Denotation_Accuracy_Execs True\n"
     ]
    },
    {
     "name": "stderr",
     "output_type": "stream",
     "text": [
      "\r",
      "  1%|▏         | 56/4344 [00:22<22:21,  3.20it/s]"
     ]
    },
    {
     "name": "stdout",
     "output_type": "stream",
     "text": [
      "World Championships ['World Championships']\n",
      "Strict_Denotation_Accuracy_Execs True\n"
     ]
    },
    {
     "name": "stderr",
     "output_type": "stream",
     "text": [
      "\r",
      "  1%|▏         | 57/4344 [00:22<27:44,  2.58it/s]"
     ]
    },
    {
     "name": "stdout",
     "output_type": "stream",
     "text": [
      "449,758 ['460,252']\n",
      "Strict_Denotation_Accuracy_Execs False\n"
     ]
    },
    {
     "name": "stderr",
     "output_type": "stream",
     "text": [
      "\r",
      "  1%|▏         | 58/4344 [00:23<26:18,  2.72it/s]"
     ]
    },
    {
     "name": "stdout",
     "output_type": "stream",
     "text": [
      "Mig-15 ['Mig-15']\n",
      "Strict_Denotation_Accuracy_Execs True\n"
     ]
    },
    {
     "name": "stderr",
     "output_type": "stream",
     "text": [
      "\r",
      "  1%|▏         | 59/4344 [00:23<29:24,  2.43it/s]"
     ]
    },
    {
     "name": "stdout",
     "output_type": "stream",
     "text": [
      "Ze'ev Friedman ['Esther Shahamorov']\n",
      "Strict_Denotation_Accuracy_Execs False\n"
     ]
    },
    {
     "name": "stderr",
     "output_type": "stream",
     "text": [
      "\r",
      "  1%|▏         | 60/4344 [00:24<35:48,  1.99it/s]"
     ]
    },
    {
     "name": "stdout",
     "output_type": "stream",
     "text": [
      "$250,000 ['no']\n",
      "Strict_Denotation_Accuracy_Execs False\n"
     ]
    },
    {
     "name": "stderr",
     "output_type": "stream",
     "text": [
      "  1%|▏         | 62/4344 [00:25<29:04,  2.46it/s]"
     ]
    },
    {
     "name": "stdout",
     "output_type": "stream",
     "text": [
      "Kranjska Gora, Slovenia ['Giant Slalom']\n",
      "Strict_Denotation_Accuracy_Execs False\n",
      "S ['S']\n",
      "Strict_Denotation_Accuracy_Execs True\n"
     ]
    },
    {
     "name": "stderr",
     "output_type": "stream",
     "text": [
      "\r",
      "  1%|▏         | 63/4344 [00:25<27:10,  2.63it/s]"
     ]
    },
    {
     "name": "stdout",
     "output_type": "stream",
     "text": [
      "Ph.D ['Ph.D']\n",
      "Strict_Denotation_Accuracy_Execs True\n"
     ]
    },
    {
     "name": "stderr",
     "output_type": "stream",
     "text": [
      "\r",
      "  1%|▏         | 64/4344 [00:25<26:26,  2.70it/s]"
     ]
    },
    {
     "name": "stdout",
     "output_type": "stream",
     "text": [
      "18 ['18']\n",
      "Strict_Denotation_Accuracy_Execs True\n"
     ]
    },
    {
     "name": "stderr",
     "output_type": "stream",
     "text": [
      "\r",
      "  1%|▏         | 65/4344 [00:26<27:12,  2.62it/s]"
     ]
    },
    {
     "name": "stdout",
     "output_type": "stream",
     "text": [
      "5 ['5']\n",
      "Strict_Denotation_Accuracy_Execs True\n"
     ]
    },
    {
     "name": "stderr",
     "output_type": "stream",
     "text": [
      "\r",
      "  2%|▏         | 66/4344 [00:26<34:26,  2.07it/s]"
     ]
    },
    {
     "name": "stdout",
     "output_type": "stream",
     "text": [
      "Alissa Joanndova ['Alissa Joanndova']\n",
      "Strict_Denotation_Accuracy_Execs True\n"
     ]
    },
    {
     "name": "stderr",
     "output_type": "stream",
     "text": [
      "\r",
      "  2%|▏         | 67/4344 [00:27<29:49,  2.39it/s]"
     ]
    },
    {
     "name": "stdout",
     "output_type": "stream",
     "text": [
      "September 6, 2010 ['December 6, 2010']\n",
      "Strict_Denotation_Accuracy_Execs False\n"
     ]
    },
    {
     "name": "stderr",
     "output_type": "stream",
     "text": [
      "\r",
      "  2%|▏         | 68/4344 [00:27<28:48,  2.47it/s]"
     ]
    },
    {
     "name": "stdout",
     "output_type": "stream",
     "text": [
      "1 ['1']\n",
      "Strict_Denotation_Accuracy_Execs True\n"
     ]
    },
    {
     "name": "stderr",
     "output_type": "stream",
     "text": [
      "\r",
      "  2%|▏         | 69/4344 [00:27<28:36,  2.49it/s]"
     ]
    },
    {
     "name": "stdout",
     "output_type": "stream",
     "text": [
      "18 ['18']\n",
      "Strict_Denotation_Accuracy_Execs True\n"
     ]
    },
    {
     "name": "stderr",
     "output_type": "stream",
     "text": [
      "\r",
      "  2%|▏         | 70/4344 [00:28<27:03,  2.63it/s]"
     ]
    },
    {
     "name": "stdout",
     "output_type": "stream",
     "text": [
      "Justiciar ['Justiciar']\n",
      "Strict_Denotation_Accuracy_Execs True\n"
     ]
    },
    {
     "name": "stderr",
     "output_type": "stream",
     "text": [
      "\r",
      "  2%|▏         | 71/4344 [00:28<32:10,  2.21it/s]"
     ]
    },
    {
     "name": "stdout",
     "output_type": "stream",
     "text": [
      "Karolína Plíšková ['Karolína Plíšková']\n",
      "Strict_Denotation_Accuracy_Execs True\n"
     ]
    },
    {
     "name": "stderr",
     "output_type": "stream",
     "text": [
      "\r",
      "  2%|▏         | 72/4344 [00:29<27:15,  2.61it/s]"
     ]
    },
    {
     "name": "stdout",
     "output_type": "stream",
     "text": [
      "2 ['2']\n",
      "Strict_Denotation_Accuracy_Execs True\n"
     ]
    },
    {
     "name": "stderr",
     "output_type": "stream",
     "text": [
      "  2%|▏         | 74/4344 [00:29<21:01,  3.38it/s]"
     ]
    },
    {
     "name": "stdout",
     "output_type": "stream",
     "text": [
      "2003 ['2003']\n",
      "Strict_Denotation_Accuracy_Execs True\n",
      "10 ['9']\n",
      "Strict_Denotation_Accuracy_Execs False\n"
     ]
    },
    {
     "name": "stderr",
     "output_type": "stream",
     "text": [
      "\r",
      "  2%|▏         | 75/4344 [00:29<19:17,  3.69it/s]"
     ]
    },
    {
     "name": "stdout",
     "output_type": "stream",
     "text": [
      "3 ['3']\n",
      "Strict_Denotation_Accuracy_Execs True\n"
     ]
    },
    {
     "name": "stderr",
     "output_type": "stream",
     "text": [
      "\r",
      "  2%|▏         | 76/4344 [00:30<19:03,  3.73it/s]"
     ]
    },
    {
     "name": "stdout",
     "output_type": "stream",
     "text": [
      "4 ['4']\n",
      "Strict_Denotation_Accuracy_Execs True\n"
     ]
    },
    {
     "name": "stderr",
     "output_type": "stream",
     "text": [
      "\r",
      "  2%|▏         | 77/4344 [00:30<20:11,  3.52it/s]"
     ]
    },
    {
     "name": "stdout",
     "output_type": "stream",
     "text": [
      "1938 ['1926']\n",
      "Strict_Denotation_Accuracy_Execs False\n"
     ]
    },
    {
     "name": "stderr",
     "output_type": "stream",
     "text": [
      "\r",
      "  2%|▏         | 78/4344 [00:30<19:24,  3.66it/s]"
     ]
    },
    {
     "name": "stdout",
     "output_type": "stream",
     "text": [
      "736 ['736']\n",
      "Strict_Denotation_Accuracy_Execs True\n"
     ]
    },
    {
     "name": "stderr",
     "output_type": "stream",
     "text": [
      "\r",
      "  2%|▏         | 79/4344 [00:31<25:03,  2.84it/s]"
     ]
    },
    {
     "name": "stdout",
     "output_type": "stream",
     "text": [
      "Mike Conway ['Mike Conway']\n",
      "Strict_Denotation_Accuracy_Execs True\n"
     ]
    },
    {
     "name": "stderr",
     "output_type": "stream",
     "text": [
      "\r",
      "  2%|▏         | 80/4344 [00:31<23:36,  3.01it/s]"
     ]
    },
    {
     "name": "stdout",
     "output_type": "stream",
     "text": [
      "Athens, Greece ['Athens, Greece']\n",
      "Strict_Denotation_Accuracy_Execs True\n"
     ]
    },
    {
     "name": "stderr",
     "output_type": "stream",
     "text": [
      "\r",
      "  2%|▏         | 81/4344 [00:31<22:03,  3.22it/s]"
     ]
    },
    {
     "name": "stdout",
     "output_type": "stream",
     "text": [
      "3 ['3']\n",
      "Strict_Denotation_Accuracy_Execs True\n"
     ]
    },
    {
     "name": "stderr",
     "output_type": "stream",
     "text": [
      "\r",
      "  2%|▏         | 82/4344 [00:32<29:30,  2.41it/s]"
     ]
    },
    {
     "name": "stdout",
     "output_type": "stream",
     "text": [
      "6 ['5']\n",
      "Strict_Denotation_Accuracy_Execs False\n"
     ]
    },
    {
     "name": "stderr",
     "output_type": "stream",
     "text": [
      "\r",
      "  2%|▏         | 83/4344 [00:32<27:00,  2.63it/s]"
     ]
    },
    {
     "name": "stdout",
     "output_type": "stream",
     "text": [
      "1 ['1']\n",
      "Strict_Denotation_Accuracy_Execs True\n"
     ]
    },
    {
     "name": "stderr",
     "output_type": "stream",
     "text": [
      "\r",
      "  2%|▏         | 84/4344 [00:33<30:03,  2.36it/s]"
     ]
    },
    {
     "name": "stdout",
     "output_type": "stream",
     "text": [
      "Doriano Romboni ['Doriano Romboni']\n",
      "Strict_Denotation_Accuracy_Execs True\n"
     ]
    },
    {
     "name": "stderr",
     "output_type": "stream",
     "text": [
      "\r",
      "  2%|▏         | 85/4344 [00:33<28:20,  2.50it/s]"
     ]
    },
    {
     "name": "stdout",
     "output_type": "stream",
     "text": [
      "Wigan Warriors ['Wigan Warriors']\n",
      "Strict_Denotation_Accuracy_Execs True\n"
     ]
    },
    {
     "name": "stderr",
     "output_type": "stream",
     "text": [
      "\r",
      "  2%|▏         | 86/4344 [00:33<26:22,  2.69it/s]"
     ]
    },
    {
     "name": "stdout",
     "output_type": "stream",
     "text": [
      "14 ['14']\n",
      "Strict_Denotation_Accuracy_Execs True\n"
     ]
    },
    {
     "name": "stderr",
     "output_type": "stream",
     "text": [
      "\r",
      "  2%|▏         | 87/4344 [00:34<27:39,  2.57it/s]"
     ]
    },
    {
     "name": "stdout",
     "output_type": "stream",
     "text": [
      "4 ['4']\n",
      "Strict_Denotation_Accuracy_Execs True\n"
     ]
    },
    {
     "name": "stderr",
     "output_type": "stream",
     "text": [
      "\r",
      "  2%|▏         | 88/4344 [00:34<27:03,  2.62it/s]"
     ]
    },
    {
     "name": "stdout",
     "output_type": "stream",
     "text": [
      "5 ['1965-1970']\n",
      "Strict_Denotation_Accuracy_Execs False\n"
     ]
    },
    {
     "name": "stderr",
     "output_type": "stream",
     "text": [
      "  2%|▏         | 90/4344 [00:35<21:56,  3.23it/s]"
     ]
    },
    {
     "name": "stdout",
     "output_type": "stream",
     "text": [
      "Russia ['Russia']\n",
      "Strict_Denotation_Accuracy_Execs True\n",
      "2 ['2']\n",
      "Strict_Denotation_Accuracy_Execs True\n"
     ]
    },
    {
     "name": "stderr",
     "output_type": "stream",
     "text": [
      "\r",
      "  2%|▏         | 91/4344 [00:35<22:38,  3.13it/s]"
     ]
    },
    {
     "name": "stdout",
     "output_type": "stream",
     "text": [
      "2 ['2']\n",
      "Strict_Denotation_Accuracy_Execs True\n"
     ]
    },
    {
     "name": "stderr",
     "output_type": "stream",
     "text": [
      "\r",
      "  2%|▏         | 92/4344 [00:35<23:14,  3.05it/s]"
     ]
    },
    {
     "name": "stdout",
     "output_type": "stream",
     "text": [
      "United States ['USA']\n",
      "Strict_Denotation_Accuracy_Execs False\n",
      "Brazil ['Yes']\n",
      "Strict_Denotation_Accuracy_Execs False\n"
     ]
    },
    {
     "name": "stderr",
     "output_type": "stream",
     "text": [
      "  2%|▏         | 94/4344 [00:36<19:55,  3.56it/s]"
     ]
    },
    {
     "name": "stdout",
     "output_type": "stream",
     "text": [
      "1928 ['1928']\n",
      "Strict_Denotation_Accuracy_Execs True\n"
     ]
    },
    {
     "name": "stderr",
     "output_type": "stream",
     "text": [
      "\r",
      "  2%|▏         | 95/4344 [00:36<27:00,  2.62it/s]"
     ]
    },
    {
     "name": "stdout",
     "output_type": "stream",
     "text": [
      "6 ['11']\n",
      "Strict_Denotation_Accuracy_Execs False\n"
     ]
    },
    {
     "name": "stderr",
     "output_type": "stream",
     "text": [
      "\r",
      "  2%|▏         | 96/4344 [00:37<24:39,  2.87it/s]"
     ]
    },
    {
     "name": "stdout",
     "output_type": "stream",
     "text": [
      "20 ['22']\n",
      "Strict_Denotation_Accuracy_Execs False\n"
     ]
    },
    {
     "name": "stderr",
     "output_type": "stream",
     "text": [
      "\r",
      "  2%|▏         | 97/4344 [00:37<26:01,  2.72it/s]"
     ]
    },
    {
     "name": "stdout",
     "output_type": "stream",
     "text": [
      "$1.95 billion ['$1.56 billion']\n",
      "Strict_Denotation_Accuracy_Execs False\n"
     ]
    },
    {
     "name": "stderr",
     "output_type": "stream",
     "text": [
      "\r",
      "  2%|▏         | 98/4344 [00:37<23:01,  3.07it/s]"
     ]
    },
    {
     "name": "stdout",
     "output_type": "stream",
     "text": [
      "October 2011 ['October 2011']\n",
      "Strict_Denotation_Accuracy_Execs True\n"
     ]
    },
    {
     "name": "stderr",
     "output_type": "stream",
     "text": [
      "\r",
      "  2%|▏         | 99/4344 [00:38<25:58,  2.72it/s]"
     ]
    },
    {
     "name": "stdout",
     "output_type": "stream",
     "text": [
      "Mike Imrie ['Mike Imrie']\n",
      "Strict_Denotation_Accuracy_Execs True\n"
     ]
    },
    {
     "name": "stderr",
     "output_type": "stream",
     "text": [
      "\r",
      "  2%|▏         | 100/4344 [00:38<24:51,  2.84it/s]"
     ]
    },
    {
     "name": "stdout",
     "output_type": "stream",
     "text": [
      "Chester Township, Ohio ['Chester Township, Ohio']\n",
      "Strict_Denotation_Accuracy_Execs True\n"
     ]
    },
    {
     "name": "stderr",
     "output_type": "stream",
     "text": [
      "\r",
      "  2%|▏         | 101/4344 [00:38<24:52,  2.84it/s]"
     ]
    },
    {
     "name": "stdout",
     "output_type": "stream",
     "text": [
      "Kyrylo Fesenko ['Kyrylo Fesenko']\n",
      "Strict_Denotation_Accuracy_Execs True\n"
     ]
    },
    {
     "name": "stderr",
     "output_type": "stream",
     "text": [
      "\r",
      "  2%|▏         | 102/4344 [00:39<29:11,  2.42it/s]"
     ]
    },
    {
     "name": "stdout",
     "output_type": "stream",
     "text": [
      "\"Blue Train (Of the Heartbreak Line)\" ['\"Blue Train (Of the Heartbreak Line)\"']\n",
      "Strict_Denotation_Accuracy_Execs True\n"
     ]
    },
    {
     "name": "stderr",
     "output_type": "stream",
     "text": [
      "\r",
      "  2%|▏         | 103/4344 [00:40<33:38,  2.10it/s]"
     ]
    },
    {
     "name": "stdout",
     "output_type": "stream",
     "text": [
      "Yelena Kondulaynen ['Yelena Kondulaynen']\n",
      "Strict_Denotation_Accuracy_Execs True\n"
     ]
    },
    {
     "name": "stderr",
     "output_type": "stream",
     "text": [
      "\r",
      "  2%|▏         | 104/4344 [00:40<29:50,  2.37it/s]"
     ]
    },
    {
     "name": "stdout",
     "output_type": "stream",
     "text": [
      "Westwood ['Westwood']\n",
      "Strict_Denotation_Accuracy_Execs True\n"
     ]
    },
    {
     "name": "stderr",
     "output_type": "stream",
     "text": [
      "\r",
      "  2%|▏         | 105/4344 [00:40<29:03,  2.43it/s]"
     ]
    },
    {
     "name": "stdout",
     "output_type": "stream",
     "text": [
      "4 months ['6 days']\n",
      "Strict_Denotation_Accuracy_Execs False\n"
     ]
    },
    {
     "name": "stderr",
     "output_type": "stream",
     "text": [
      "\r",
      "  2%|▏         | 106/4344 [00:41<29:54,  2.36it/s]"
     ]
    },
    {
     "name": "stdout",
     "output_type": "stream",
     "text": [
      "Maurice Bolwerk ['Henk Van De Lagemaat']\n",
      "Strict_Denotation_Accuracy_Execs False\n"
     ]
    },
    {
     "name": "stderr",
     "output_type": "stream",
     "text": [
      "\r",
      "  2%|▏         | 107/4344 [00:41<26:12,  2.69it/s]"
     ]
    },
    {
     "name": "stdout",
     "output_type": "stream",
     "text": [
      "2011 ['2011']\n",
      "Strict_Denotation_Accuracy_Execs True\n"
     ]
    },
    {
     "name": "stderr",
     "output_type": "stream",
     "text": [
      "\r",
      "  2%|▏         | 108/4344 [00:41<24:24,  2.89it/s]"
     ]
    },
    {
     "name": "stdout",
     "output_type": "stream",
     "text": [
      "Africa ['Africa']\n",
      "Strict_Denotation_Accuracy_Execs True\n"
     ]
    },
    {
     "name": "stderr",
     "output_type": "stream",
     "text": [
      "\r",
      "  3%|▎         | 109/4344 [00:42<24:03,  2.93it/s]"
     ]
    },
    {
     "name": "stdout",
     "output_type": "stream",
     "text": [
      "1939/40 ['1939/40']\n",
      "Strict_Denotation_Accuracy_Execs True\n"
     ]
    },
    {
     "name": "stderr",
     "output_type": "stream",
     "text": [
      "\r",
      "  3%|▎         | 110/4344 [00:42<21:44,  3.25it/s]"
     ]
    },
    {
     "name": "stdout",
     "output_type": "stream",
     "text": [
      "11 ['11']\n",
      "Strict_Denotation_Accuracy_Execs True\n"
     ]
    },
    {
     "name": "stderr",
     "output_type": "stream",
     "text": [
      "\r",
      "  3%|▎         | 111/4344 [00:42<25:04,  2.81it/s]"
     ]
    },
    {
     "name": "stdout",
     "output_type": "stream",
     "text": [
      "3 ['3']\n",
      "Strict_Denotation_Accuracy_Execs True\n"
     ]
    },
    {
     "name": "stderr",
     "output_type": "stream",
     "text": [
      "\r",
      "  3%|▎         | 112/4344 [00:43<22:39,  3.11it/s]"
     ]
    },
    {
     "name": "stdout",
     "output_type": "stream",
     "text": [
      "0 ['0']\n",
      "Strict_Denotation_Accuracy_Execs True\n"
     ]
    },
    {
     "name": "stderr",
     "output_type": "stream",
     "text": [
      "\r",
      "  3%|▎         | 113/4344 [00:43<24:14,  2.91it/s]"
     ]
    },
    {
     "name": "stdout",
     "output_type": "stream",
     "text": [
      "24 ['1']\n",
      "Strict_Denotation_Accuracy_Execs False\n"
     ]
    },
    {
     "name": "stderr",
     "output_type": "stream",
     "text": [
      "\r",
      "  3%|▎         | 114/4344 [00:43<22:55,  3.07it/s]"
     ]
    },
    {
     "name": "stdout",
     "output_type": "stream",
     "text": [
      "3 ['3']\n",
      "Strict_Denotation_Accuracy_Execs True\n"
     ]
    },
    {
     "name": "stderr",
     "output_type": "stream",
     "text": [
      "\r",
      "  3%|▎         | 115/4344 [00:44<28:14,  2.50it/s]"
     ]
    },
    {
     "name": "stdout",
     "output_type": "stream",
     "text": [
      "21 ['29']\n",
      "Strict_Denotation_Accuracy_Execs False\n"
     ]
    },
    {
     "name": "stderr",
     "output_type": "stream",
     "text": [
      "\r",
      "  3%|▎         | 116/4344 [00:44<27:36,  2.55it/s]"
     ]
    },
    {
     "name": "stdout",
     "output_type": "stream",
     "text": [
      "Seán McLoughlin ['Seán McLoughlin']\n",
      "Strict_Denotation_Accuracy_Execs True\n"
     ]
    },
    {
     "name": "stderr",
     "output_type": "stream",
     "text": [
      "\r",
      "  3%|▎         | 117/4344 [00:45<31:22,  2.25it/s]"
     ]
    },
    {
     "name": "stdout",
     "output_type": "stream",
     "text": [
      "Yes ['yes']\n",
      "Strict_Denotation_Accuracy_Execs True\n"
     ]
    },
    {
     "name": "stderr",
     "output_type": "stream",
     "text": [
      "\r",
      "  3%|▎         | 118/4344 [00:45<29:03,  2.42it/s]"
     ]
    },
    {
     "name": "stdout",
     "output_type": "stream",
     "text": [
      "Joel Smith ['Joel Smith']\n",
      "Strict_Denotation_Accuracy_Execs True\n"
     ]
    },
    {
     "name": "stderr",
     "output_type": "stream",
     "text": [
      "\r",
      "  3%|▎         | 119/4344 [00:45<27:22,  2.57it/s]"
     ]
    },
    {
     "name": "stdout",
     "output_type": "stream",
     "text": [
      "October 17 ['October 17']\n",
      "Strict_Denotation_Accuracy_Execs True\n"
     ]
    },
    {
     "name": "stderr",
     "output_type": "stream",
     "text": [
      "\r",
      "  3%|▎         | 120/4344 [00:46<25:51,  2.72it/s]"
     ]
    },
    {
     "name": "stdout",
     "output_type": "stream",
     "text": [
      "3 ['3']\n",
      "Strict_Denotation_Accuracy_Execs True\n"
     ]
    },
    {
     "name": "stderr",
     "output_type": "stream",
     "text": [
      "  3%|▎         | 122/4344 [00:46<19:43,  3.57it/s]"
     ]
    },
    {
     "name": "stdout",
     "output_type": "stream",
     "text": [
      "6 ['6']\n",
      "Strict_Denotation_Accuracy_Execs True\n",
      "France ['France']\n",
      "Strict_Denotation_Accuracy_Execs True\n"
     ]
    },
    {
     "name": "stderr",
     "output_type": "stream",
     "text": [
      "\r",
      "  3%|▎         | 123/4344 [00:47<27:24,  2.57it/s]"
     ]
    },
    {
     "name": "stdout",
     "output_type": "stream",
     "text": [
      "5 ['6']\n",
      "Strict_Denotation_Accuracy_Execs False\n"
     ]
    },
    {
     "name": "stderr",
     "output_type": "stream",
     "text": [
      "\r",
      "  3%|▎         | 124/4344 [00:47<24:17,  2.89it/s]"
     ]
    },
    {
     "name": "stdout",
     "output_type": "stream",
     "text": [
      "3 ['Becket']\n",
      "Strict_Denotation_Accuracy_Execs False\n"
     ]
    },
    {
     "name": "stderr",
     "output_type": "stream",
     "text": [
      "\r",
      "  3%|▎         | 125/4344 [00:47<21:33,  3.26it/s]"
     ]
    },
    {
     "name": "stdout",
     "output_type": "stream",
     "text": [
      "10 ['10']\n",
      "Strict_Denotation_Accuracy_Execs True\n"
     ]
    },
    {
     "name": "stderr",
     "output_type": "stream",
     "text": [
      "\r",
      "  3%|▎         | 126/4344 [00:48<27:12,  2.58it/s]"
     ]
    },
    {
     "name": "stdout",
     "output_type": "stream",
     "text": [
      "Democrat ['Republican']\n",
      "Strict_Denotation_Accuracy_Execs False\n"
     ]
    },
    {
     "name": "stderr",
     "output_type": "stream",
     "text": [
      "\r",
      "  3%|▎         | 127/4344 [00:48<24:57,  2.82it/s]"
     ]
    },
    {
     "name": "stdout",
     "output_type": "stream",
     "text": [
      "United States ['United States']\n",
      "Strict_Denotation_Accuracy_Execs True\n"
     ]
    },
    {
     "name": "stderr",
     "output_type": "stream",
     "text": [
      "\r",
      "  3%|▎         | 128/4344 [00:48<24:41,  2.85it/s]"
     ]
    },
    {
     "name": "stdout",
     "output_type": "stream",
     "text": [
      "2008-09 ['2010-11']\n",
      "Strict_Denotation_Accuracy_Execs False\n"
     ]
    },
    {
     "name": "stderr",
     "output_type": "stream",
     "text": [
      "\r",
      "  3%|▎         | 129/4344 [00:49<29:48,  2.36it/s]"
     ]
    },
    {
     "name": "stdout",
     "output_type": "stream",
     "text": [
      "27 August 2005 ['27 August 2005']\n",
      "Strict_Denotation_Accuracy_Execs True\n"
     ]
    },
    {
     "name": "stderr",
     "output_type": "stream",
     "text": [
      "\r",
      "  3%|▎         | 130/4344 [00:49<27:48,  2.53it/s]"
     ]
    },
    {
     "name": "stdout",
     "output_type": "stream",
     "text": [
      "6 ['7']\n",
      "Strict_Denotation_Accuracy_Execs False\n"
     ]
    },
    {
     "name": "stderr",
     "output_type": "stream",
     "text": [
      "\r",
      "  3%|▎         | 131/4344 [00:50<27:40,  2.54it/s]"
     ]
    },
    {
     "name": "stdout",
     "output_type": "stream",
     "text": [
      "25 ['25']\n",
      "Strict_Denotation_Accuracy_Execs True\n"
     ]
    },
    {
     "name": "stderr",
     "output_type": "stream",
     "text": [
      "\r",
      "  3%|▎         | 132/4344 [00:50<26:52,  2.61it/s]"
     ]
    },
    {
     "name": "stdout",
     "output_type": "stream",
     "text": [
      "Honda ['Honda']\n",
      "Strict_Denotation_Accuracy_Execs True\n"
     ]
    },
    {
     "name": "stderr",
     "output_type": "stream",
     "text": [
      "\r",
      "  3%|▎         | 133/4344 [00:51<30:11,  2.32it/s]"
     ]
    },
    {
     "name": "stdout",
     "output_type": "stream",
     "text": [
      "32 ['22']\n",
      "Strict_Denotation_Accuracy_Execs False\n"
     ]
    },
    {
     "name": "stderr",
     "output_type": "stream",
     "text": [
      "\r",
      "  3%|▎         | 134/4344 [00:51<26:38,  2.63it/s]"
     ]
    },
    {
     "name": "stdout",
     "output_type": "stream",
     "text": [
      "Los Angeles ['Los Angeles']\n",
      "Strict_Denotation_Accuracy_Execs True\n"
     ]
    },
    {
     "name": "stderr",
     "output_type": "stream",
     "text": [
      "\r",
      "  3%|▎         | 135/4344 [00:51<26:31,  2.64it/s]"
     ]
    },
    {
     "name": "stdout",
     "output_type": "stream",
     "text": [
      "Epoxides ['Epoxides']\n",
      "Strict_Denotation_Accuracy_Execs True\n"
     ]
    },
    {
     "name": "stderr",
     "output_type": "stream",
     "text": [
      "\r",
      "  3%|▎         | 136/4344 [00:52<30:10,  2.32it/s]"
     ]
    },
    {
     "name": "stdout",
     "output_type": "stream",
     "text": [
      "7 ['6']\n",
      "Strict_Denotation_Accuracy_Execs False\n"
     ]
    },
    {
     "name": "stderr",
     "output_type": "stream",
     "text": [
      "\r",
      "  3%|▎         | 137/4344 [00:52<30:24,  2.31it/s]"
     ]
    },
    {
     "name": "stdout",
     "output_type": "stream",
     "text": [
      "FmM7 ['E']\n",
      "Strict_Denotation_Accuracy_Execs False\n"
     ]
    },
    {
     "name": "stderr",
     "output_type": "stream",
     "text": [
      "\r",
      "  3%|▎         | 138/4344 [00:53<28:56,  2.42it/s]"
     ]
    },
    {
     "name": "stdout",
     "output_type": "stream",
     "text": [
      "6 ['6']\n",
      "Strict_Denotation_Accuracy_Execs True\n"
     ]
    },
    {
     "name": "stderr",
     "output_type": "stream",
     "text": [
      "\r",
      "  3%|▎         | 139/4344 [00:53<32:21,  2.17it/s]"
     ]
    },
    {
     "name": "stdout",
     "output_type": "stream",
     "text": [
      "2570 BC-1311 years ['3881']\n",
      "Strict_Denotation_Accuracy_Execs False\n"
     ]
    },
    {
     "name": "stderr",
     "output_type": "stream",
     "text": [
      "\r",
      "  3%|▎         | 140/4344 [00:53<28:40,  2.44it/s]"
     ]
    },
    {
     "name": "stdout",
     "output_type": "stream",
     "text": [
      "10 ['9']\n",
      "Strict_Denotation_Accuracy_Execs False\n"
     ]
    },
    {
     "name": "stderr",
     "output_type": "stream",
     "text": [
      "\r",
      "  3%|▎         | 141/4344 [00:54<32:41,  2.14it/s]"
     ]
    },
    {
     "name": "stdout",
     "output_type": "stream",
     "text": [
      "Italy ['Italy']\n",
      "Strict_Denotation_Accuracy_Execs True\n"
     ]
    },
    {
     "name": "stderr",
     "output_type": "stream",
     "text": [
      "\r",
      "  3%|▎         | 142/4344 [00:55<35:27,  1.98it/s]"
     ]
    },
    {
     "name": "stdout",
     "output_type": "stream",
     "text": [
      "3 ['6']\n",
      "Strict_Denotation_Accuracy_Execs False\n"
     ]
    },
    {
     "name": "stderr",
     "output_type": "stream",
     "text": [
      "\r",
      "  3%|▎         | 143/4344 [00:55<31:34,  2.22it/s]"
     ]
    },
    {
     "name": "stdout",
     "output_type": "stream",
     "text": [
      "14 June 2005 ['14 June 2005']\n",
      "Strict_Denotation_Accuracy_Execs True\n"
     ]
    },
    {
     "name": "stderr",
     "output_type": "stream",
     "text": [
      "\r",
      "  3%|▎         | 144/4344 [00:55<28:35,  2.45it/s]"
     ]
    },
    {
     "name": "stdout",
     "output_type": "stream",
     "text": [
      "9 ['9']\n",
      "Strict_Denotation_Accuracy_Execs True\n"
     ]
    },
    {
     "name": "stderr",
     "output_type": "stream",
     "text": [
      "\r",
      "  3%|▎         | 145/4344 [00:56<35:27,  1.97it/s]"
     ]
    },
    {
     "name": "stdout",
     "output_type": "stream",
     "text": [
      "Plummer Homestead ['Samuel Wyatt House']\n",
      "Strict_Denotation_Accuracy_Execs False\n"
     ]
    },
    {
     "name": "stderr",
     "output_type": "stream",
     "text": [
      "\r",
      "  3%|▎         | 146/4344 [00:56<32:26,  2.16it/s]"
     ]
    },
    {
     "name": "stdout",
     "output_type": "stream",
     "text": [
      "Giuseppe Aquaro ['Giuseppe Aquaro']\n",
      "Strict_Denotation_Accuracy_Execs True\n"
     ]
    },
    {
     "name": "stderr",
     "output_type": "stream",
     "text": [
      "  3%|▎         | 148/4344 [00:57<27:22,  2.55it/s]"
     ]
    },
    {
     "name": "stdout",
     "output_type": "stream",
     "text": [
      "\"Call It What You Want\" ['\"Call It What You Want\"']\n",
      "Strict_Denotation_Accuracy_Execs True\n",
      "0 ['0']\n",
      "Strict_Denotation_Accuracy_Execs True\n"
     ]
    },
    {
     "name": "stderr",
     "output_type": "stream",
     "text": [
      "\r",
      "  3%|▎         | 149/4344 [00:57<24:27,  2.86it/s]"
     ]
    },
    {
     "name": "stdout",
     "output_type": "stream",
     "text": [
      "Olympic Games ['Olympic Games']\n",
      "Strict_Denotation_Accuracy_Execs True\n"
     ]
    },
    {
     "name": "stderr",
     "output_type": "stream",
     "text": [
      "\r",
      "  3%|▎         | 150/4344 [00:58<23:34,  2.96it/s]"
     ]
    },
    {
     "name": "stdout",
     "output_type": "stream",
     "text": [
      "17 ['17']\n",
      "Strict_Denotation_Accuracy_Execs True\n"
     ]
    },
    {
     "name": "stderr",
     "output_type": "stream",
     "text": [
      "  3%|▎         | 152/4344 [00:58<24:19,  2.87it/s]"
     ]
    },
    {
     "name": "stdout",
     "output_type": "stream",
     "text": [
      "George Washington ['George Washington']\n",
      "Strict_Denotation_Accuracy_Execs True\n",
      "97 ['96']\n",
      "Strict_Denotation_Accuracy_Execs False\n"
     ]
    },
    {
     "name": "stderr",
     "output_type": "stream",
     "text": [
      "\r",
      "  4%|▎         | 153/4344 [00:59<21:21,  3.27it/s]"
     ]
    },
    {
     "name": "stdout",
     "output_type": "stream",
     "text": [
      "10 ['10']\n",
      "Strict_Denotation_Accuracy_Execs True\n"
     ]
    },
    {
     "name": "stderr",
     "output_type": "stream",
     "text": [
      "\r",
      "  4%|▎         | 154/4344 [00:59<28:37,  2.44it/s]"
     ]
    },
    {
     "name": "stdout",
     "output_type": "stream",
     "text": [
      "22.52% ['48.4%', '22.52%', '25.29%', '3.79%']\n",
      "Strict_Denotation_Accuracy_Execs False\n"
     ]
    },
    {
     "name": "stderr",
     "output_type": "stream",
     "text": [
      "\r",
      "  4%|▎         | 155/4344 [01:00<24:24,  2.86it/s]"
     ]
    },
    {
     "name": "stdout",
     "output_type": "stream",
     "text": [
      "16 ['16']\n",
      "Strict_Denotation_Accuracy_Execs True\n"
     ]
    },
    {
     "name": "stderr",
     "output_type": "stream",
     "text": [
      "\r",
      "  4%|▎         | 156/4344 [01:00<30:55,  2.26it/s]"
     ]
    },
    {
     "name": "stdout",
     "output_type": "stream",
     "text": [
      "22 ['23']\n",
      "Strict_Denotation_Accuracy_Execs False\n"
     ]
    },
    {
     "name": "stderr",
     "output_type": "stream",
     "text": [
      "\r",
      "  4%|▎         | 157/4344 [01:01<33:07,  2.11it/s]"
     ]
    },
    {
     "name": "stdout",
     "output_type": "stream",
     "text": [
      "Narain Karthikeyan ['Jacques Villeneuve']\n",
      "Strict_Denotation_Accuracy_Execs False\n"
     ]
    },
    {
     "name": "stderr",
     "output_type": "stream",
     "text": [
      "\r",
      "  4%|▎         | 158/4344 [01:01<30:33,  2.28it/s]"
     ]
    },
    {
     "name": "stdout",
     "output_type": "stream",
     "text": [
      "10 ['10']\n",
      "Strict_Denotation_Accuracy_Execs True\n"
     ]
    },
    {
     "name": "stderr",
     "output_type": "stream",
     "text": [
      "\r",
      "  4%|▎         | 159/4344 [01:02<35:28,  1.97it/s]"
     ]
    },
    {
     "name": "stdout",
     "output_type": "stream",
     "text": [
      "3 ['6']\n",
      "Strict_Denotation_Accuracy_Execs False\n"
     ]
    },
    {
     "name": "stderr",
     "output_type": "stream",
     "text": [
      "\r",
      "  4%|▎         | 160/4344 [01:02<32:14,  2.16it/s]"
     ]
    },
    {
     "name": "stdout",
     "output_type": "stream",
     "text": [
      "10 ['16']\n",
      "Strict_Denotation_Accuracy_Execs False\n"
     ]
    },
    {
     "name": "stderr",
     "output_type": "stream",
     "text": [
      "  4%|▎         | 162/4344 [01:03<26:49,  2.60it/s]"
     ]
    },
    {
     "name": "stdout",
     "output_type": "stream",
     "text": [
      "6 ['6']\n",
      "Strict_Denotation_Accuracy_Execs True\n",
      "Malaysia ['Malaysia']\n",
      "Strict_Denotation_Accuracy_Execs True\n"
     ]
    },
    {
     "name": "stderr",
     "output_type": "stream",
     "text": [
      "\r",
      "  4%|▍         | 163/4344 [01:03<24:41,  2.82it/s]"
     ]
    },
    {
     "name": "stdout",
     "output_type": "stream",
     "text": [
      "4 ['4']\n",
      "Strict_Denotation_Accuracy_Execs True\n"
     ]
    },
    {
     "name": "stderr",
     "output_type": "stream",
     "text": [
      "\r",
      "  4%|▍         | 164/4344 [01:03<21:35,  3.23it/s]"
     ]
    },
    {
     "name": "stdout",
     "output_type": "stream",
     "text": [
      "1 ['1']\n",
      "Strict_Denotation_Accuracy_Execs True\n"
     ]
    },
    {
     "name": "stderr",
     "output_type": "stream",
     "text": [
      "\r",
      "  4%|▍         | 165/4344 [01:04<22:34,  3.09it/s]"
     ]
    },
    {
     "name": "stdout",
     "output_type": "stream",
     "text": [
      "3 ['2']\n",
      "Strict_Denotation_Accuracy_Execs False\n"
     ]
    },
    {
     "name": "stderr",
     "output_type": "stream",
     "text": [
      "\r",
      "  4%|▍         | 166/4344 [01:04<25:56,  2.68it/s]"
     ]
    },
    {
     "name": "stdout",
     "output_type": "stream",
     "text": [
      "Alejandro Valverde (ESP) ['Alejandro Valverde']\n",
      "Strict_Denotation_Accuracy_Execs True\n"
     ]
    },
    {
     "name": "stderr",
     "output_type": "stream",
     "text": [
      "\r",
      "  4%|▍         | 167/4344 [01:05<33:23,  2.08it/s]"
     ]
    },
    {
     "name": "stdout",
     "output_type": "stream",
     "text": [
      "The Heritage of the Desert ['The Heritage of the Desert']\n",
      "Strict_Denotation_Accuracy_Execs True\n"
     ]
    },
    {
     "name": "stderr",
     "output_type": "stream",
     "text": [
      "\r",
      "  4%|▍         | 168/4344 [01:05<29:41,  2.34it/s]"
     ]
    },
    {
     "name": "stdout",
     "output_type": "stream",
     "text": [
      "\"Thanks to You\" ['\"Thanks to You\"']\n",
      "Strict_Denotation_Accuracy_Execs True\n"
     ]
    },
    {
     "name": "stderr",
     "output_type": "stream",
     "text": [
      "\r",
      "  4%|▍         | 169/4344 [01:06<33:12,  2.10it/s]"
     ]
    },
    {
     "name": "stdout",
     "output_type": "stream",
     "text": [
      "1972 ['1972']\n",
      "Strict_Denotation_Accuracy_Execs True\n"
     ]
    },
    {
     "name": "stderr",
     "output_type": "stream",
     "text": [
      "\r",
      "  4%|▍         | 170/4344 [01:06<29:42,  2.34it/s]"
     ]
    },
    {
     "name": "stdout",
     "output_type": "stream",
     "text": [
      "10 ['10']\n",
      "Strict_Denotation_Accuracy_Execs True\n"
     ]
    },
    {
     "name": "stderr",
     "output_type": "stream",
     "text": [
      "  4%|▍         | 172/4344 [01:07<25:21,  2.74it/s]"
     ]
    },
    {
     "name": "stdout",
     "output_type": "stream",
     "text": [
      "Doha, Qatar, Bangkok, Thailand ['Doha, Qatar']\n",
      "Strict_Denotation_Accuracy_Execs False\n",
      "3 ['3']\n",
      "Strict_Denotation_Accuracy_Execs True\n"
     ]
    },
    {
     "name": "stderr",
     "output_type": "stream",
     "text": [
      "\r",
      "  4%|▍         | 173/4344 [01:07<25:53,  2.68it/s]"
     ]
    },
    {
     "name": "stdout",
     "output_type": "stream",
     "text": [
      "5 ['4']\n",
      "Strict_Denotation_Accuracy_Execs False\n"
     ]
    },
    {
     "name": "stderr",
     "output_type": "stream",
     "text": [
      "\r",
      "  4%|▍         | 174/4344 [01:08<31:16,  2.22it/s]"
     ]
    },
    {
     "name": "stdout",
     "output_type": "stream",
     "text": [
      "John McCain ['John McCain']\n",
      "Strict_Denotation_Accuracy_Execs True\n"
     ]
    },
    {
     "name": "stderr",
     "output_type": "stream",
     "text": [
      "\r",
      "  4%|▍         | 175/4344 [01:08<28:41,  2.42it/s]"
     ]
    },
    {
     "name": "stdout",
     "output_type": "stream",
     "text": [
      "Canada ['Canada']\n",
      "Strict_Denotation_Accuracy_Execs True\n"
     ]
    },
    {
     "name": "stderr",
     "output_type": "stream",
     "text": [
      "\r",
      "  4%|▍         | 176/4344 [01:09<30:35,  2.27it/s]"
     ]
    },
    {
     "name": "stdout",
     "output_type": "stream",
     "text": [
      "6 ['6']\n",
      "Strict_Denotation_Accuracy_Execs True\n"
     ]
    },
    {
     "name": "stderr",
     "output_type": "stream",
     "text": [
      "\r",
      "  4%|▍         | 177/4344 [01:09<29:21,  2.37it/s]"
     ]
    },
    {
     "name": "stdout",
     "output_type": "stream",
     "text": [
      "2 ['2']\n",
      "Strict_Denotation_Accuracy_Execs True\n"
     ]
    },
    {
     "name": "stderr",
     "output_type": "stream",
     "text": [
      "\r",
      "  4%|▍         | 178/4344 [01:09<29:36,  2.35it/s]"
     ]
    },
    {
     "name": "stdout",
     "output_type": "stream",
     "text": [
      "1967 ['1967']\n",
      "Strict_Denotation_Accuracy_Execs True\n"
     ]
    },
    {
     "name": "stderr",
     "output_type": "stream",
     "text": [
      "\r",
      "  4%|▍         | 179/4344 [01:10<29:04,  2.39it/s]"
     ]
    },
    {
     "name": "stdout",
     "output_type": "stream",
     "text": [
      "Left Wing ['Left Wing']\n",
      "Strict_Denotation_Accuracy_Execs True\n"
     ]
    },
    {
     "name": "stderr",
     "output_type": "stream",
     "text": [
      "\r",
      "  4%|▍         | 180/4344 [01:10<28:10,  2.46it/s]"
     ]
    },
    {
     "name": "stdout",
     "output_type": "stream",
     "text": [
      "5 ['3']\n",
      "Strict_Denotation_Accuracy_Execs False\n"
     ]
    },
    {
     "name": "stderr",
     "output_type": "stream",
     "text": [
      "\r",
      "  4%|▍         | 181/4344 [01:11<36:03,  1.92it/s]"
     ]
    },
    {
     "name": "stdout",
     "output_type": "stream",
     "text": [
      "Strontium ['Actinium']\n",
      "Strict_Denotation_Accuracy_Execs False\n"
     ]
    },
    {
     "name": "stderr",
     "output_type": "stream",
     "text": [
      "\r",
      "  4%|▍         | 182/4344 [01:12<38:24,  1.81it/s]"
     ]
    },
    {
     "name": "stdout",
     "output_type": "stream",
     "text": [
      "18 ['19']\n",
      "Strict_Denotation_Accuracy_Execs False\n"
     ]
    },
    {
     "name": "stderr",
     "output_type": "stream",
     "text": [
      "\r",
      "  4%|▍         | 183/4344 [01:12<33:57,  2.04it/s]"
     ]
    },
    {
     "name": "stdout",
     "output_type": "stream",
     "text": [
      "2009 ['2009']\n",
      "Strict_Denotation_Accuracy_Execs True\n"
     ]
    },
    {
     "name": "stderr",
     "output_type": "stream",
     "text": [
      "\r",
      "  4%|▍         | 184/4344 [01:13<38:22,  1.81it/s]"
     ]
    },
    {
     "name": "stdout",
     "output_type": "stream",
     "text": [
      "53,500 ['76,000']\n",
      "Strict_Denotation_Accuracy_Execs False\n"
     ]
    },
    {
     "name": "stderr",
     "output_type": "stream",
     "text": [
      "\r",
      "  4%|▍         | 185/4344 [01:13<31:43,  2.18it/s]"
     ]
    },
    {
     "name": "stdout",
     "output_type": "stream",
     "text": [
      "Eddie Johnson ['Eddie Johnson']\n",
      "Strict_Denotation_Accuracy_Execs True\n"
     ]
    },
    {
     "name": "stderr",
     "output_type": "stream",
     "text": [
      "\r",
      "  4%|▍         | 186/4344 [01:13<27:02,  2.56it/s]"
     ]
    },
    {
     "name": "stdout",
     "output_type": "stream",
     "text": [
      "United States ['United States']\n",
      "Strict_Denotation_Accuracy_Execs True\n"
     ]
    },
    {
     "name": "stderr",
     "output_type": "stream",
     "text": [
      "\r",
      "  4%|▍         | 187/4344 [01:13<25:27,  2.72it/s]"
     ]
    }
   ],
   "source": [
    "evaluate_model(model,datasets)"
   ]
  },
  {
   "cell_type": "code",
   "execution_count": 67,
   "id": "1e8ffdb5",
   "metadata": {},
   "outputs": [
    {
     "data": {
      "text/plain": [
       "{'input_ids': [0, 5488, 247, 56, 5, 144, 19294, 2073, 624, 5, 299, 158, 116, 11311, 4832, 17816, 1721, 25544, 661, 1721, 2711, 1721, 3421, 1721, 7437, 100, 1698, 31814, 37457, 282, 46340, 3236, 112, 4832, 112, 1721, 8445, 25787, 3767, 2802, 2794, 50141, 1640, 1723, 510, 43, 1721, 8316, 8035, 385, 108, 39318, 5384, 858, 1721, 195, 298, 1132, 108, 158, 113, 1721, 843, 3236, 132, 4832, 132, 1721, 21441, 338, 16052, 2413, 858, 705, 50141, 1640, 500, 3048, 43, 1721, 2711, 230, 3632, 22506, 139, 788, 1721, 579, 4, 90, 4, 1721, 389, 3236, 155, 4832, 155, 1721, 7234, 1949, 47045, 179, 50141, 1640, 2068, 250, 43, 1721, 7965, 1168, 7864, 254, 1721, 579, 4, 90, 4, 1721, 564, 3236, 204, 4832, 204, 1721, 5476, 5675, 23479, 2531, 50141, 1640, 2068, 250, 43, 1721, 13287, 10577, 1721, 579, 4, 90, 4, 1721, 291, 3236, 195, 4832, 195, 1721, 14185, 29755, 1210, 14683, 50141, 1640, 2068, 250, 43, 1721, 26185, 1023, 281, 1721, 579, 4, 90, 4, 1721, 379, 3236, 231, 4832, 231, 1721, 16439, 4011, 611, 1417, 50141, 1640, 500, 3048, 43, 1721, 14040, 2413, 3153, 1721, 579, 4, 90, 4, 1721, 365, 3236, 262, 4832, 262, 1721, 9581, 208, 7499, 2871, 329, 50141, 1640, 1723, 510, 43, 1721, 381, 14570, 3967, 523, 12, 717, 14570, 5416, 1721, 579, 4, 90, 4, 1721, 262, 3236, 290, 4832, 290, 1721, 312, 1140, 3792, 1728, 33291, 6747, 50141, 1640, 597, 4396, 43, 1721, 3303, 176, 338, 12, 10766, 21387, 2617, 242, 1721, 2055, 132, 113, 1721, 195, 3236, 361, 4832, 361, 1721, 289, 7146, 271, 525, 13345, 4779, 493, 50141, 1640, 1723, 510, 43, 1721, 381, 14570, 3967, 523, 12, 717, 14570, 5416, 1721, 2055, 132, 113, 1721, 155, 3236, 158, 4832, 158, 1721, 871, 3385, 438, 995, 118, 1140, 50141, 1640, 597, 4396, 43, 1721, 230, 1116, 22831, 1721, 2055, 132, 113, 1721, 112, 2], 'attention_mask': [1, 1, 1, 1, 1, 1, 1, 1, 1, 1, 1, 1, 1, 1, 1, 1, 1, 1, 1, 1, 1, 1, 1, 1, 1, 1, 1, 1, 1, 1, 1, 1, 1, 1, 1, 1, 1, 1, 1, 1, 1, 1, 1, 1, 1, 1, 1, 1, 1, 1, 1, 1, 1, 1, 1, 1, 1, 1, 1, 1, 1, 1, 1, 1, 1, 1, 1, 1, 1, 1, 1, 1, 1, 1, 1, 1, 1, 1, 1, 1, 1, 1, 1, 1, 1, 1, 1, 1, 1, 1, 1, 1, 1, 1, 1, 1, 1, 1, 1, 1, 1, 1, 1, 1, 1, 1, 1, 1, 1, 1, 1, 1, 1, 1, 1, 1, 1, 1, 1, 1, 1, 1, 1, 1, 1, 1, 1, 1, 1, 1, 1, 1, 1, 1, 1, 1, 1, 1, 1, 1, 1, 1, 1, 1, 1, 1, 1, 1, 1, 1, 1, 1, 1, 1, 1, 1, 1, 1, 1, 1, 1, 1, 1, 1, 1, 1, 1, 1, 1, 1, 1, 1, 1, 1, 1, 1, 1, 1, 1, 1, 1, 1, 1, 1, 1, 1, 1, 1, 1, 1, 1, 1, 1, 1, 1, 1, 1, 1, 1, 1, 1, 1, 1, 1, 1, 1, 1, 1, 1, 1, 1, 1, 1, 1, 1, 1, 1, 1, 1, 1, 1, 1, 1, 1, 1, 1, 1, 1, 1, 1, 1, 1, 1, 1, 1, 1, 1, 1, 1, 1, 1, 1, 1, 1, 1, 1, 1, 1, 1, 1, 1, 1, 1, 1, 1, 1, 1, 1, 1, 1, 1, 1, 1, 1, 1, 1, 1, 1, 1, 1, 1, 1, 1, 1, 1, 1, 1, 1, 1, 1, 1, 1, 1, 1, 1, 1, 1, 1, 1, 1, 1, 1, 1, 1, 1, 1, 1, 1, 1, 1, 1, 1, 1, 1, 1, 1, 1, 1, 1, 1, 1, 1, 1, 1]}"
      ]
     },
     "execution_count": 67,
     "metadata": {},
     "output_type": "execute_result"
    }
   ],
   "source": [
    "preprocess_tableqa_function(datasets[0])\n"
   ]
  },
  {
   "cell_type": "code",
   "execution_count": 72,
   "id": "677c79f1",
   "metadata": {},
   "outputs": [
    {
     "data": {
      "text/plain": [
       "['Italy']"
      ]
     },
     "execution_count": 72,
     "metadata": {},
     "output_type": "execute_result"
    }
   ],
   "source": [
    "datasets[0][\"answers\"]"
   ]
  },
  {
   "cell_type": "code",
   "execution_count": null,
   "id": "7926b4aa",
   "metadata": {},
   "outputs": [],
   "source": []
  }
 ],
 "metadata": {
  "kernelspec": {
   "display_name": "Python 3",
   "language": "python",
   "name": "python3"
  },
  "language_info": {
   "codemirror_mode": {
    "name": "ipython",
    "version": 3
   },
   "file_extension": ".py",
   "mimetype": "text/x-python",
   "name": "python",
   "nbconvert_exporter": "python",
   "pygments_lexer": "ipython3",
   "version": "3.8.8"
  }
 },
 "nbformat": 4,
 "nbformat_minor": 5
}
