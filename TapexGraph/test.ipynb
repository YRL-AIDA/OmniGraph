{
 "cells": [
  {
   "cell_type": "code",
   "execution_count": 1,
   "id": "b38fc1fd",
   "metadata": {},
   "outputs": [
    {
     "name": "stderr",
     "output_type": "stream",
     "text": [
      "<frozen importlib._bootstrap>:219: RuntimeWarning: scipy._lib.messagestream.MessageStream size changed, may indicate binary incompatibility. Expected 56 from C header, got 64 from PyObject\n",
      "/opt/conda/lib/python3.8/site-packages/fuzzywuzzy/fuzz.py:11: UserWarning: Using slow pure-python SequenceMatcher. Install python-Levenshtein to remove this warning\n",
      "  warnings.warn('Using slow pure-python SequenceMatcher. Install python-Levenshtein to remove this warning')\n"
     ]
    },
    {
     "name": "stdout",
     "output_type": "stream",
     "text": [
      "<ipykernel.iostream.OutStream object at 0x7f1ee9d8c460> Reading dataset from /home/jovyan/cloud/postgraduate/works/Partial-Exec/data/tables/tagged/pristine-seen-tables.tagged\n",
      "<ipykernel.iostream.OutStream object at 0x7f1ee9d8c460> Reading dataset from /home/jovyan/cloud/postgraduate/works/Partial-Exec/data/tables/tagged/pristine-unseen-tables.tagged\n",
      "<ipykernel.iostream.OutStream object at 0x7f1ee9d8c460> Reading dataset from /home/jovyan/cloud/postgraduate/works/Partial-Exec/data/tables/tagged/training.tagged\n"
     ]
    }
   ],
   "source": [
    "from sql_graph_translate.seq_to_graph import parse\n",
    "from sql_graph_translate.nodes import create_nodes\n",
    "from sql_graph_translate.metrics import target_values_map, flexible_denotation_accuracy, to_value_list"
   ]
  },
  {
   "cell_type": "code",
   "execution_count": 2,
   "id": "6c2b4744",
   "metadata": {},
   "outputs": [],
   "source": [
    "from datasets import load_dataset,load_from_disk"
   ]
  },
  {
   "cell_type": "code",
   "execution_count": 3,
   "id": "f611f889",
   "metadata": {},
   "outputs": [],
   "source": [
    "data = load_dataset('text', data_files={\n",
    "                           'train': ['tapex_pretrain/train.src', 'tapex_pretrain/train.tgt']\n",
    "                       },\n",
    "\n",
    "                       split='train')"
   ]
  },
  {
   "cell_type": "code",
   "execution_count": 4,
   "id": "4f5d8f63",
   "metadata": {},
   "outputs": [],
   "source": [
    "train_tgt = data['text'][int(data.num_rows/2):]\n",
    "train_src = data['text'][:int(data.num_rows/2)]"
   ]
  },
  {
   "cell_type": "code",
   "execution_count": 39,
   "id": "fa25a82a",
   "metadata": {},
   "outputs": [
    {
     "data": {
      "text/plain": [
       "\"select year opened where termini = 'west portal station' col : line | year opened | termini | termini row 1 : j church | 1917 | embarcadero station | balboa park station row 2 : k ingleside | 1918 | embarcadero station | balboa park station row 3 : l taraval | 1919 | embarcadero station | 46th avenue and wawona san francisco zoo row 4 : m ocean view | 1925 | embarcadero station | san jose and geneva balboa park station row 5 : n judah | 1928 | 4th and king station caltrain depot | judah and la playa ocean beach row 6 : t third street | 2007 | west portal station | sunnydale station row 7 : s castro shuttle (peak hours & game days) | none | embarcadero station 4th and king station (game days) | castro station west portal station (game days)\""
      ]
     },
     "execution_count": 39,
     "metadata": {},
     "output_type": "execute_result"
    }
   ],
   "source": [
    "train_src[7]"
   ]
  },
  {
   "cell_type": "code",
   "execution_count": 40,
   "id": "5b681b19",
   "metadata": {},
   "outputs": [
    {
     "data": {
      "text/plain": [
       "'2007'"
      ]
     },
     "execution_count": 40,
     "metadata": {},
     "output_type": "execute_result"
    }
   ],
   "source": [
    "train_tgt[7]"
   ]
  },
  {
   "cell_type": "markdown",
   "id": "8653630a",
   "metadata": {},
   "source": [
    "# linear Table Desearilization"
   ]
  },
  {
   "cell_type": "code",
   "execution_count": 5,
   "id": "f5c67414",
   "metadata": {},
   "outputs": [],
   "source": [
    "import json"
   ]
  },
  {
   "cell_type": "code",
   "execution_count": 6,
   "id": "ad996e04",
   "metadata": {},
   "outputs": [],
   "source": [
    "import re\n",
    "import pandas as pd\n",
    "def deserializ_tapex_linear_table(linear_table):\n",
    "    \n",
    "    head_pattern = r\" col :(.*) row 1 : \"\n",
    "    row_pattern = r\" row \\d+ : \"\n",
    "    coll_delimetr = \" | \"\n",
    "    heads = [h.strip() for h in \n",
    "             re.search(head_pattern,linear_table)[0].replace(\" col : \",\"\",1).replace(\" row 1 : \",\"\",1).split(coll_delimetr)]\n",
    "    rows = [[r.strip() for r in row.split(coll_delimetr)] for row in re.split(row_pattern,linear_table)[1:]]\n",
    "    return pd.DataFrame(rows,columns=heads)"
   ]
  },
  {
   "cell_type": "code",
   "execution_count": 7,
   "id": "0a986ae7",
   "metadata": {},
   "outputs": [],
   "source": [
    "def serialize_table_to_tapex_format(df):\n",
    "    head_pattern = \" col : \"\n",
    "    row_pattern = \" row {num} : \"\n",
    "    coll_delimetr = \" | \"\n",
    "    \n",
    "    lin_table = head_pattern+coll_delimetr.join(df.columns)\n",
    "    for i,row in df.iterrows():\n",
    "        print(row_pattern.format(num=i+1))\n",
    "        lin_table+=row_pattern.format(num=i+1)+coll_delimetr.join(str(r) for r in row.values)\n",
    "    \n",
    "    return lin_table"
   ]
  },
  {
   "cell_type": "code",
   "execution_count": 8,
   "id": "a59b7cf2",
   "metadata": {},
   "outputs": [
    {
     "name": "stdout",
     "output_type": "stream",
     "text": [
      "select post season result order by regular season win % desc limit 1\n"
     ]
    }
   ],
   "source": [
    "pattern = ' col : '\n",
    "try:\n",
    "    sql,_ = train_src[28050].split(pattern)\n",
    "    print(sql)\n",
    "except Exception as e:\n",
    "    print(e)\n",
    "sql  = sql.strip()\n",
    "lin_table = \" col : \"+train_src[28050].split(\" col : \")[1]\n",
    "df = deserializ_tapex_linear_table(lin_table)"
   ]
  },
  {
   "cell_type": "code",
   "execution_count": 9,
   "id": "a730b1c4",
   "metadata": {},
   "outputs": [
    {
     "data": {
      "text/plain": [
       "' col : team | year | regular season won | regular season lost | regular season ties | regular season win % | regular season finish | post season won | post season lost | post season win % | post season result row 1 : den | 1981 | 10 | 6 | 0 | 0.625 | 2nd in afc west | none | none | none | none row 2 : den | 1982 | 2 | 7 | 0 | 0.222 | 5th in afc west | none | none | none | none row 3 : den | 1983 | 9 | 7 | 0 | 0.563 | 2nd in afc west | 0 | 1 | 0 | lost to seattle seahawks in afc wild card game row 4 : den | 1984 | 13 | 3 | 0 | 0.813 | 1st in afc west | 0 | 1 | 0 | lost to pittsburgh steelers in afc divisional game row 5 : den | 1985 | 11 | 5 | 0 | 0.688 | 2nd in afc west | none | none | none | none row 6 : den | 1986 | 11 | 5 | 0 | 0.688 | 1st in afc west | 2 | 1 | 0.667 | lost to new york giants in super bowl xxi row 7 : den | 1987 | 10 | 4 | 1 | 0.714 | 1st in afc west | 2 | 1 | 0.667 | lost to washington redskins in super bowl xxii row 8 : den | 1988 | 8 | 8 | 0 | 0.5 | 2nd in afc west | none | none | none | none row 9 : den | 1989 | 11 | 5 | 0 | 0.688 | 1st in afc west | 2 | 1 | 0.667 | lost to san francisco 49ers in super bowl xxiv row 10 : den | 1990 | 5 | 11 | 0 | 0.313 | 5th in afc west | none | none | none | none row 11 : den | 1991 | 12 | 4 | 0 | 0.75 | 1st in afc west | 1 | 1 | 0.5 | lost to buffalo bills in afc championship game row 12 : den | 1992 | 8 | 8 | 0 | 0.5 | 3rd in afc west | none | none | none | none row 13 : den total | den total | 110 | 73 | 1 | 0.601 | none | 7 | 6 | 0.538 | none row 14 : nyg | 1993 | 11 | 5 | 0 | 0.688 | 2nd in nfc east | 1 | 1 | 0.5 | lost to san francisco 49ers in nfc divisional game row 15 : nyg | 1994 | 9 | 7 | 0 | 0.563 | 2nd in nfc east | none | none | none | none row 16 : nyg | 1995 | 5 | 11 | 0 | 0.313 | 4th in nfc east | none | none | none | none row 17 : nyg | 1996 | 6 | 10 | 0 | 0.375 | 5th in nfc east | none | none | none | none row 18 : nyg total | nyg total | 31 | 33 | 0 | 0.484 | none | 1 | 1 | 0.5 | none row 19 : atl | 1997 | 7 | 9 | 0 | 0.438 | 2nd in nfc west | none | none | none | none row 20 : atl | 1998 | 14 | 2 | 0 | 0.875 | 1st in nfc west | 2 | 1 | 0.667 | lost to denver broncos in super bowl xxxiii row 21 : atl | 1999 | 5 | 11 | 0 | 0.313 | 3rd in nfc west | none | none | none | none row 22 : atl | 2000 | 4 | 12 | 0 | 0.25 | 5th in nfc west | none | none | none | none row 23 : atl | 2001 | 7 | 9 | 0 | 0.438 | 3rd in nfc south | none | none | none | none row 24 : atl | 2002 | 9 | 6 | 1 | 0.594 | 2nd in nfc south | 1 | 1 | 0.5 | lost to philadelphia eagles in nfc divisional game row 25 : atl | 2003 | 3 | 10 | 0 | 0.231 | 4th in nfc south | none | none | none | none row 26 : atl total | atl total | 49 | 59 | 1 | 0.454 | none | 3 | 2 | 0.6 | none row 27 : total | total | 190 | 165 | 2 | 0.535 | none | 11 | 9 | 0.55 | none'"
      ]
     },
     "execution_count": 9,
     "metadata": {},
     "output_type": "execute_result"
    }
   ],
   "source": [
    "lin_table"
   ]
  },
  {
   "cell_type": "markdown",
   "id": "571abaec",
   "metadata": {},
   "source": [
    "### Correcting sql query"
   ]
  },
  {
   "cell_type": "code",
   "execution_count": 10,
   "id": "4d96bfb3",
   "metadata": {},
   "outputs": [],
   "source": [
    "new_column_names = []\n",
    "for head in df.columns:\n",
    "    if len(head.split(\" \"))>1:\n",
    "        head_new = \"_\".join(head.split(' '))\n",
    "        sql = re.sub(head,f'\"{head_new}\"',sql)\n",
    "        new_column_names.append(f'\"{head_new}\"')\n",
    "    else:\n",
    "        new_column_names.append(head)\n",
    "df.columns = new_column_names"
   ]
  },
  {
   "cell_type": "code",
   "execution_count": 11,
   "id": "eda16ef5",
   "metadata": {},
   "outputs": [
    {
     "data": {
      "text/plain": [
       "['team',\n",
       " 'year',\n",
       " '\"regular_season_won\"',\n",
       " '\"regular_season_lost\"',\n",
       " '\"regular_season_ties\"',\n",
       " '\"regular_season_win_%\"',\n",
       " '\"regular_season_finish\"',\n",
       " '\"post_season_won\"',\n",
       " '\"post_season_lost\"',\n",
       " '\"post_season_win_%\"',\n",
       " '\"post_season_result\"']"
      ]
     },
     "execution_count": 11,
     "metadata": {},
     "output_type": "execute_result"
    }
   ],
   "source": [
    "new_column_names"
   ]
  },
  {
   "cell_type": "code",
   "execution_count": 12,
   "id": "a875ad93",
   "metadata": {},
   "outputs": [
    {
     "data": {
      "text/html": [
       "<div>\n",
       "<style scoped>\n",
       "    .dataframe tbody tr th:only-of-type {\n",
       "        vertical-align: middle;\n",
       "    }\n",
       "\n",
       "    .dataframe tbody tr th {\n",
       "        vertical-align: top;\n",
       "    }\n",
       "\n",
       "    .dataframe thead th {\n",
       "        text-align: right;\n",
       "    }\n",
       "</style>\n",
       "<table border=\"1\" class=\"dataframe\">\n",
       "  <thead>\n",
       "    <tr style=\"text-align: right;\">\n",
       "      <th></th>\n",
       "      <th>team</th>\n",
       "      <th>year</th>\n",
       "      <th>\"regular_season_won\"</th>\n",
       "      <th>\"regular_season_lost\"</th>\n",
       "      <th>\"regular_season_ties\"</th>\n",
       "      <th>\"regular_season_win_%\"</th>\n",
       "      <th>\"regular_season_finish\"</th>\n",
       "      <th>\"post_season_won\"</th>\n",
       "      <th>\"post_season_lost\"</th>\n",
       "      <th>\"post_season_win_%\"</th>\n",
       "      <th>\"post_season_result\"</th>\n",
       "    </tr>\n",
       "  </thead>\n",
       "  <tbody>\n",
       "    <tr>\n",
       "      <th>0</th>\n",
       "      <td>den</td>\n",
       "      <td>1981</td>\n",
       "      <td>10</td>\n",
       "      <td>6</td>\n",
       "      <td>0</td>\n",
       "      <td>0.625</td>\n",
       "      <td>2nd in afc west</td>\n",
       "      <td>none</td>\n",
       "      <td>none</td>\n",
       "      <td>none</td>\n",
       "      <td>none</td>\n",
       "    </tr>\n",
       "    <tr>\n",
       "      <th>1</th>\n",
       "      <td>den</td>\n",
       "      <td>1982</td>\n",
       "      <td>2</td>\n",
       "      <td>7</td>\n",
       "      <td>0</td>\n",
       "      <td>0.222</td>\n",
       "      <td>5th in afc west</td>\n",
       "      <td>none</td>\n",
       "      <td>none</td>\n",
       "      <td>none</td>\n",
       "      <td>none</td>\n",
       "    </tr>\n",
       "    <tr>\n",
       "      <th>2</th>\n",
       "      <td>den</td>\n",
       "      <td>1983</td>\n",
       "      <td>9</td>\n",
       "      <td>7</td>\n",
       "      <td>0</td>\n",
       "      <td>0.563</td>\n",
       "      <td>2nd in afc west</td>\n",
       "      <td>0</td>\n",
       "      <td>1</td>\n",
       "      <td>0</td>\n",
       "      <td>lost to seattle seahawks in afc wild card game</td>\n",
       "    </tr>\n",
       "    <tr>\n",
       "      <th>3</th>\n",
       "      <td>den</td>\n",
       "      <td>1984</td>\n",
       "      <td>13</td>\n",
       "      <td>3</td>\n",
       "      <td>0</td>\n",
       "      <td>0.813</td>\n",
       "      <td>1st in afc west</td>\n",
       "      <td>0</td>\n",
       "      <td>1</td>\n",
       "      <td>0</td>\n",
       "      <td>lost to pittsburgh steelers in afc divisional ...</td>\n",
       "    </tr>\n",
       "    <tr>\n",
       "      <th>4</th>\n",
       "      <td>den</td>\n",
       "      <td>1985</td>\n",
       "      <td>11</td>\n",
       "      <td>5</td>\n",
       "      <td>0</td>\n",
       "      <td>0.688</td>\n",
       "      <td>2nd in afc west</td>\n",
       "      <td>none</td>\n",
       "      <td>none</td>\n",
       "      <td>none</td>\n",
       "      <td>none</td>\n",
       "    </tr>\n",
       "    <tr>\n",
       "      <th>5</th>\n",
       "      <td>den</td>\n",
       "      <td>1986</td>\n",
       "      <td>11</td>\n",
       "      <td>5</td>\n",
       "      <td>0</td>\n",
       "      <td>0.688</td>\n",
       "      <td>1st in afc west</td>\n",
       "      <td>2</td>\n",
       "      <td>1</td>\n",
       "      <td>0.667</td>\n",
       "      <td>lost to new york giants in super bowl xxi</td>\n",
       "    </tr>\n",
       "    <tr>\n",
       "      <th>6</th>\n",
       "      <td>den</td>\n",
       "      <td>1987</td>\n",
       "      <td>10</td>\n",
       "      <td>4</td>\n",
       "      <td>1</td>\n",
       "      <td>0.714</td>\n",
       "      <td>1st in afc west</td>\n",
       "      <td>2</td>\n",
       "      <td>1</td>\n",
       "      <td>0.667</td>\n",
       "      <td>lost to washington redskins in super bowl xxii</td>\n",
       "    </tr>\n",
       "    <tr>\n",
       "      <th>7</th>\n",
       "      <td>den</td>\n",
       "      <td>1988</td>\n",
       "      <td>8</td>\n",
       "      <td>8</td>\n",
       "      <td>0</td>\n",
       "      <td>0.5</td>\n",
       "      <td>2nd in afc west</td>\n",
       "      <td>none</td>\n",
       "      <td>none</td>\n",
       "      <td>none</td>\n",
       "      <td>none</td>\n",
       "    </tr>\n",
       "    <tr>\n",
       "      <th>8</th>\n",
       "      <td>den</td>\n",
       "      <td>1989</td>\n",
       "      <td>11</td>\n",
       "      <td>5</td>\n",
       "      <td>0</td>\n",
       "      <td>0.688</td>\n",
       "      <td>1st in afc west</td>\n",
       "      <td>2</td>\n",
       "      <td>1</td>\n",
       "      <td>0.667</td>\n",
       "      <td>lost to san francisco 49ers in super bowl xxiv</td>\n",
       "    </tr>\n",
       "    <tr>\n",
       "      <th>9</th>\n",
       "      <td>den</td>\n",
       "      <td>1990</td>\n",
       "      <td>5</td>\n",
       "      <td>11</td>\n",
       "      <td>0</td>\n",
       "      <td>0.313</td>\n",
       "      <td>5th in afc west</td>\n",
       "      <td>none</td>\n",
       "      <td>none</td>\n",
       "      <td>none</td>\n",
       "      <td>none</td>\n",
       "    </tr>\n",
       "    <tr>\n",
       "      <th>10</th>\n",
       "      <td>den</td>\n",
       "      <td>1991</td>\n",
       "      <td>12</td>\n",
       "      <td>4</td>\n",
       "      <td>0</td>\n",
       "      <td>0.75</td>\n",
       "      <td>1st in afc west</td>\n",
       "      <td>1</td>\n",
       "      <td>1</td>\n",
       "      <td>0.5</td>\n",
       "      <td>lost to buffalo bills in afc championship game</td>\n",
       "    </tr>\n",
       "    <tr>\n",
       "      <th>11</th>\n",
       "      <td>den</td>\n",
       "      <td>1992</td>\n",
       "      <td>8</td>\n",
       "      <td>8</td>\n",
       "      <td>0</td>\n",
       "      <td>0.5</td>\n",
       "      <td>3rd in afc west</td>\n",
       "      <td>none</td>\n",
       "      <td>none</td>\n",
       "      <td>none</td>\n",
       "      <td>none</td>\n",
       "    </tr>\n",
       "    <tr>\n",
       "      <th>12</th>\n",
       "      <td>den total</td>\n",
       "      <td>den total</td>\n",
       "      <td>110</td>\n",
       "      <td>73</td>\n",
       "      <td>1</td>\n",
       "      <td>0.601</td>\n",
       "      <td>none</td>\n",
       "      <td>7</td>\n",
       "      <td>6</td>\n",
       "      <td>0.538</td>\n",
       "      <td>none</td>\n",
       "    </tr>\n",
       "    <tr>\n",
       "      <th>13</th>\n",
       "      <td>nyg</td>\n",
       "      <td>1993</td>\n",
       "      <td>11</td>\n",
       "      <td>5</td>\n",
       "      <td>0</td>\n",
       "      <td>0.688</td>\n",
       "      <td>2nd in nfc east</td>\n",
       "      <td>1</td>\n",
       "      <td>1</td>\n",
       "      <td>0.5</td>\n",
       "      <td>lost to san francisco 49ers in nfc divisional ...</td>\n",
       "    </tr>\n",
       "    <tr>\n",
       "      <th>14</th>\n",
       "      <td>nyg</td>\n",
       "      <td>1994</td>\n",
       "      <td>9</td>\n",
       "      <td>7</td>\n",
       "      <td>0</td>\n",
       "      <td>0.563</td>\n",
       "      <td>2nd in nfc east</td>\n",
       "      <td>none</td>\n",
       "      <td>none</td>\n",
       "      <td>none</td>\n",
       "      <td>none</td>\n",
       "    </tr>\n",
       "    <tr>\n",
       "      <th>15</th>\n",
       "      <td>nyg</td>\n",
       "      <td>1995</td>\n",
       "      <td>5</td>\n",
       "      <td>11</td>\n",
       "      <td>0</td>\n",
       "      <td>0.313</td>\n",
       "      <td>4th in nfc east</td>\n",
       "      <td>none</td>\n",
       "      <td>none</td>\n",
       "      <td>none</td>\n",
       "      <td>none</td>\n",
       "    </tr>\n",
       "    <tr>\n",
       "      <th>16</th>\n",
       "      <td>nyg</td>\n",
       "      <td>1996</td>\n",
       "      <td>6</td>\n",
       "      <td>10</td>\n",
       "      <td>0</td>\n",
       "      <td>0.375</td>\n",
       "      <td>5th in nfc east</td>\n",
       "      <td>none</td>\n",
       "      <td>none</td>\n",
       "      <td>none</td>\n",
       "      <td>none</td>\n",
       "    </tr>\n",
       "    <tr>\n",
       "      <th>17</th>\n",
       "      <td>nyg total</td>\n",
       "      <td>nyg total</td>\n",
       "      <td>31</td>\n",
       "      <td>33</td>\n",
       "      <td>0</td>\n",
       "      <td>0.484</td>\n",
       "      <td>none</td>\n",
       "      <td>1</td>\n",
       "      <td>1</td>\n",
       "      <td>0.5</td>\n",
       "      <td>none</td>\n",
       "    </tr>\n",
       "    <tr>\n",
       "      <th>18</th>\n",
       "      <td>atl</td>\n",
       "      <td>1997</td>\n",
       "      <td>7</td>\n",
       "      <td>9</td>\n",
       "      <td>0</td>\n",
       "      <td>0.438</td>\n",
       "      <td>2nd in nfc west</td>\n",
       "      <td>none</td>\n",
       "      <td>none</td>\n",
       "      <td>none</td>\n",
       "      <td>none</td>\n",
       "    </tr>\n",
       "    <tr>\n",
       "      <th>19</th>\n",
       "      <td>atl</td>\n",
       "      <td>1998</td>\n",
       "      <td>14</td>\n",
       "      <td>2</td>\n",
       "      <td>0</td>\n",
       "      <td>0.875</td>\n",
       "      <td>1st in nfc west</td>\n",
       "      <td>2</td>\n",
       "      <td>1</td>\n",
       "      <td>0.667</td>\n",
       "      <td>lost to denver broncos in super bowl xxxiii</td>\n",
       "    </tr>\n",
       "    <tr>\n",
       "      <th>20</th>\n",
       "      <td>atl</td>\n",
       "      <td>1999</td>\n",
       "      <td>5</td>\n",
       "      <td>11</td>\n",
       "      <td>0</td>\n",
       "      <td>0.313</td>\n",
       "      <td>3rd in nfc west</td>\n",
       "      <td>none</td>\n",
       "      <td>none</td>\n",
       "      <td>none</td>\n",
       "      <td>none</td>\n",
       "    </tr>\n",
       "    <tr>\n",
       "      <th>21</th>\n",
       "      <td>atl</td>\n",
       "      <td>2000</td>\n",
       "      <td>4</td>\n",
       "      <td>12</td>\n",
       "      <td>0</td>\n",
       "      <td>0.25</td>\n",
       "      <td>5th in nfc west</td>\n",
       "      <td>none</td>\n",
       "      <td>none</td>\n",
       "      <td>none</td>\n",
       "      <td>none</td>\n",
       "    </tr>\n",
       "    <tr>\n",
       "      <th>22</th>\n",
       "      <td>atl</td>\n",
       "      <td>2001</td>\n",
       "      <td>7</td>\n",
       "      <td>9</td>\n",
       "      <td>0</td>\n",
       "      <td>0.438</td>\n",
       "      <td>3rd in nfc south</td>\n",
       "      <td>none</td>\n",
       "      <td>none</td>\n",
       "      <td>none</td>\n",
       "      <td>none</td>\n",
       "    </tr>\n",
       "    <tr>\n",
       "      <th>23</th>\n",
       "      <td>atl</td>\n",
       "      <td>2002</td>\n",
       "      <td>9</td>\n",
       "      <td>6</td>\n",
       "      <td>1</td>\n",
       "      <td>0.594</td>\n",
       "      <td>2nd in nfc south</td>\n",
       "      <td>1</td>\n",
       "      <td>1</td>\n",
       "      <td>0.5</td>\n",
       "      <td>lost to philadelphia eagles in nfc divisional ...</td>\n",
       "    </tr>\n",
       "    <tr>\n",
       "      <th>24</th>\n",
       "      <td>atl</td>\n",
       "      <td>2003</td>\n",
       "      <td>3</td>\n",
       "      <td>10</td>\n",
       "      <td>0</td>\n",
       "      <td>0.231</td>\n",
       "      <td>4th in nfc south</td>\n",
       "      <td>none</td>\n",
       "      <td>none</td>\n",
       "      <td>none</td>\n",
       "      <td>none</td>\n",
       "    </tr>\n",
       "    <tr>\n",
       "      <th>25</th>\n",
       "      <td>atl total</td>\n",
       "      <td>atl total</td>\n",
       "      <td>49</td>\n",
       "      <td>59</td>\n",
       "      <td>1</td>\n",
       "      <td>0.454</td>\n",
       "      <td>none</td>\n",
       "      <td>3</td>\n",
       "      <td>2</td>\n",
       "      <td>0.6</td>\n",
       "      <td>none</td>\n",
       "    </tr>\n",
       "    <tr>\n",
       "      <th>26</th>\n",
       "      <td>total</td>\n",
       "      <td>total</td>\n",
       "      <td>190</td>\n",
       "      <td>165</td>\n",
       "      <td>2</td>\n",
       "      <td>0.535</td>\n",
       "      <td>none</td>\n",
       "      <td>11</td>\n",
       "      <td>9</td>\n",
       "      <td>0.55</td>\n",
       "      <td>none</td>\n",
       "    </tr>\n",
       "  </tbody>\n",
       "</table>\n",
       "</div>"
      ],
      "text/plain": [
       "         team       year \"regular_season_won\" \"regular_season_lost\"  \\\n",
       "0         den       1981                   10                     6   \n",
       "1         den       1982                    2                     7   \n",
       "2         den       1983                    9                     7   \n",
       "3         den       1984                   13                     3   \n",
       "4         den       1985                   11                     5   \n",
       "5         den       1986                   11                     5   \n",
       "6         den       1987                   10                     4   \n",
       "7         den       1988                    8                     8   \n",
       "8         den       1989                   11                     5   \n",
       "9         den       1990                    5                    11   \n",
       "10        den       1991                   12                     4   \n",
       "11        den       1992                    8                     8   \n",
       "12  den total  den total                  110                    73   \n",
       "13        nyg       1993                   11                     5   \n",
       "14        nyg       1994                    9                     7   \n",
       "15        nyg       1995                    5                    11   \n",
       "16        nyg       1996                    6                    10   \n",
       "17  nyg total  nyg total                   31                    33   \n",
       "18        atl       1997                    7                     9   \n",
       "19        atl       1998                   14                     2   \n",
       "20        atl       1999                    5                    11   \n",
       "21        atl       2000                    4                    12   \n",
       "22        atl       2001                    7                     9   \n",
       "23        atl       2002                    9                     6   \n",
       "24        atl       2003                    3                    10   \n",
       "25  atl total  atl total                   49                    59   \n",
       "26      total      total                  190                   165   \n",
       "\n",
       "   \"regular_season_ties\" \"regular_season_win_%\" \"regular_season_finish\"  \\\n",
       "0                      0                  0.625         2nd in afc west   \n",
       "1                      0                  0.222         5th in afc west   \n",
       "2                      0                  0.563         2nd in afc west   \n",
       "3                      0                  0.813         1st in afc west   \n",
       "4                      0                  0.688         2nd in afc west   \n",
       "5                      0                  0.688         1st in afc west   \n",
       "6                      1                  0.714         1st in afc west   \n",
       "7                      0                    0.5         2nd in afc west   \n",
       "8                      0                  0.688         1st in afc west   \n",
       "9                      0                  0.313         5th in afc west   \n",
       "10                     0                   0.75         1st in afc west   \n",
       "11                     0                    0.5         3rd in afc west   \n",
       "12                     1                  0.601                    none   \n",
       "13                     0                  0.688         2nd in nfc east   \n",
       "14                     0                  0.563         2nd in nfc east   \n",
       "15                     0                  0.313         4th in nfc east   \n",
       "16                     0                  0.375         5th in nfc east   \n",
       "17                     0                  0.484                    none   \n",
       "18                     0                  0.438         2nd in nfc west   \n",
       "19                     0                  0.875         1st in nfc west   \n",
       "20                     0                  0.313         3rd in nfc west   \n",
       "21                     0                   0.25         5th in nfc west   \n",
       "22                     0                  0.438        3rd in nfc south   \n",
       "23                     1                  0.594        2nd in nfc south   \n",
       "24                     0                  0.231        4th in nfc south   \n",
       "25                     1                  0.454                    none   \n",
       "26                     2                  0.535                    none   \n",
       "\n",
       "   \"post_season_won\" \"post_season_lost\" \"post_season_win_%\"  \\\n",
       "0               none               none                none   \n",
       "1               none               none                none   \n",
       "2                  0                  1                   0   \n",
       "3                  0                  1                   0   \n",
       "4               none               none                none   \n",
       "5                  2                  1               0.667   \n",
       "6                  2                  1               0.667   \n",
       "7               none               none                none   \n",
       "8                  2                  1               0.667   \n",
       "9               none               none                none   \n",
       "10                 1                  1                 0.5   \n",
       "11              none               none                none   \n",
       "12                 7                  6               0.538   \n",
       "13                 1                  1                 0.5   \n",
       "14              none               none                none   \n",
       "15              none               none                none   \n",
       "16              none               none                none   \n",
       "17                 1                  1                 0.5   \n",
       "18              none               none                none   \n",
       "19                 2                  1               0.667   \n",
       "20              none               none                none   \n",
       "21              none               none                none   \n",
       "22              none               none                none   \n",
       "23                 1                  1                 0.5   \n",
       "24              none               none                none   \n",
       "25                 3                  2                 0.6   \n",
       "26                11                  9                0.55   \n",
       "\n",
       "                                 \"post_season_result\"  \n",
       "0                                                none  \n",
       "1                                                none  \n",
       "2      lost to seattle seahawks in afc wild card game  \n",
       "3   lost to pittsburgh steelers in afc divisional ...  \n",
       "4                                                none  \n",
       "5           lost to new york giants in super bowl xxi  \n",
       "6      lost to washington redskins in super bowl xxii  \n",
       "7                                                none  \n",
       "8      lost to san francisco 49ers in super bowl xxiv  \n",
       "9                                                none  \n",
       "10     lost to buffalo bills in afc championship game  \n",
       "11                                               none  \n",
       "12                                               none  \n",
       "13  lost to san francisco 49ers in nfc divisional ...  \n",
       "14                                               none  \n",
       "15                                               none  \n",
       "16                                               none  \n",
       "17                                               none  \n",
       "18                                               none  \n",
       "19        lost to denver broncos in super bowl xxxiii  \n",
       "20                                               none  \n",
       "21                                               none  \n",
       "22                                               none  \n",
       "23  lost to philadelphia eagles in nfc divisional ...  \n",
       "24                                               none  \n",
       "25                                               none  \n",
       "26                                               none  "
      ]
     },
     "execution_count": 12,
     "metadata": {},
     "output_type": "execute_result"
    }
   ],
   "source": [
    "df"
   ]
  },
  {
   "cell_type": "code",
   "execution_count": 13,
   "id": "eb394d9c",
   "metadata": {},
   "outputs": [
    {
     "data": {
      "text/plain": [
       "'select \"post_season_result\" order by \"regular_season_win_%\" desc limit 1'"
      ]
     },
     "execution_count": 13,
     "metadata": {},
     "output_type": "execute_result"
    }
   ],
   "source": [
    "sql"
   ]
  },
  {
   "cell_type": "markdown",
   "id": "0b423d2f",
   "metadata": {},
   "source": [
    "# Modify Table for PartExec scrypts"
   ]
  },
  {
   "cell_type": "code",
   "execution_count": 14,
   "id": "758382d9",
   "metadata": {},
   "outputs": [],
   "source": [
    "import numpy as np"
   ]
  },
  {
   "cell_type": "code",
   "execution_count": 15,
   "id": "27f8e61f",
   "metadata": {},
   "outputs": [],
   "source": [
    "df['agg'] = np.zeros(df.shape[0])"
   ]
  },
  {
   "cell_type": "code",
   "execution_count": 16,
   "id": "53f54a7c",
   "metadata": {},
   "outputs": [
    {
     "data": {
      "text/html": [
       "<div>\n",
       "<style scoped>\n",
       "    .dataframe tbody tr th:only-of-type {\n",
       "        vertical-align: middle;\n",
       "    }\n",
       "\n",
       "    .dataframe tbody tr th {\n",
       "        vertical-align: top;\n",
       "    }\n",
       "\n",
       "    .dataframe thead th {\n",
       "        text-align: right;\n",
       "    }\n",
       "</style>\n",
       "<table border=\"1\" class=\"dataframe\">\n",
       "  <thead>\n",
       "    <tr style=\"text-align: right;\">\n",
       "      <th></th>\n",
       "      <th>team</th>\n",
       "      <th>year</th>\n",
       "      <th>\"regular_season_won\"</th>\n",
       "      <th>\"regular_season_lost\"</th>\n",
       "      <th>\"regular_season_ties\"</th>\n",
       "      <th>\"regular_season_win_%\"</th>\n",
       "      <th>\"regular_season_finish\"</th>\n",
       "      <th>\"post_season_won\"</th>\n",
       "      <th>\"post_season_lost\"</th>\n",
       "      <th>\"post_season_win_%\"</th>\n",
       "      <th>\"post_season_result\"</th>\n",
       "      <th>agg</th>\n",
       "    </tr>\n",
       "  </thead>\n",
       "  <tbody>\n",
       "    <tr>\n",
       "      <th>0</th>\n",
       "      <td>den</td>\n",
       "      <td>1981</td>\n",
       "      <td>10</td>\n",
       "      <td>6</td>\n",
       "      <td>0</td>\n",
       "      <td>0.625</td>\n",
       "      <td>2nd in afc west</td>\n",
       "      <td>none</td>\n",
       "      <td>none</td>\n",
       "      <td>none</td>\n",
       "      <td>none</td>\n",
       "      <td>0.0</td>\n",
       "    </tr>\n",
       "    <tr>\n",
       "      <th>1</th>\n",
       "      <td>den</td>\n",
       "      <td>1982</td>\n",
       "      <td>2</td>\n",
       "      <td>7</td>\n",
       "      <td>0</td>\n",
       "      <td>0.222</td>\n",
       "      <td>5th in afc west</td>\n",
       "      <td>none</td>\n",
       "      <td>none</td>\n",
       "      <td>none</td>\n",
       "      <td>none</td>\n",
       "      <td>0.0</td>\n",
       "    </tr>\n",
       "    <tr>\n",
       "      <th>2</th>\n",
       "      <td>den</td>\n",
       "      <td>1983</td>\n",
       "      <td>9</td>\n",
       "      <td>7</td>\n",
       "      <td>0</td>\n",
       "      <td>0.563</td>\n",
       "      <td>2nd in afc west</td>\n",
       "      <td>0</td>\n",
       "      <td>1</td>\n",
       "      <td>0</td>\n",
       "      <td>lost to seattle seahawks in afc wild card game</td>\n",
       "      <td>0.0</td>\n",
       "    </tr>\n",
       "    <tr>\n",
       "      <th>3</th>\n",
       "      <td>den</td>\n",
       "      <td>1984</td>\n",
       "      <td>13</td>\n",
       "      <td>3</td>\n",
       "      <td>0</td>\n",
       "      <td>0.813</td>\n",
       "      <td>1st in afc west</td>\n",
       "      <td>0</td>\n",
       "      <td>1</td>\n",
       "      <td>0</td>\n",
       "      <td>lost to pittsburgh steelers in afc divisional ...</td>\n",
       "      <td>0.0</td>\n",
       "    </tr>\n",
       "    <tr>\n",
       "      <th>4</th>\n",
       "      <td>den</td>\n",
       "      <td>1985</td>\n",
       "      <td>11</td>\n",
       "      <td>5</td>\n",
       "      <td>0</td>\n",
       "      <td>0.688</td>\n",
       "      <td>2nd in afc west</td>\n",
       "      <td>none</td>\n",
       "      <td>none</td>\n",
       "      <td>none</td>\n",
       "      <td>none</td>\n",
       "      <td>0.0</td>\n",
       "    </tr>\n",
       "    <tr>\n",
       "      <th>5</th>\n",
       "      <td>den</td>\n",
       "      <td>1986</td>\n",
       "      <td>11</td>\n",
       "      <td>5</td>\n",
       "      <td>0</td>\n",
       "      <td>0.688</td>\n",
       "      <td>1st in afc west</td>\n",
       "      <td>2</td>\n",
       "      <td>1</td>\n",
       "      <td>0.667</td>\n",
       "      <td>lost to new york giants in super bowl xxi</td>\n",
       "      <td>0.0</td>\n",
       "    </tr>\n",
       "    <tr>\n",
       "      <th>6</th>\n",
       "      <td>den</td>\n",
       "      <td>1987</td>\n",
       "      <td>10</td>\n",
       "      <td>4</td>\n",
       "      <td>1</td>\n",
       "      <td>0.714</td>\n",
       "      <td>1st in afc west</td>\n",
       "      <td>2</td>\n",
       "      <td>1</td>\n",
       "      <td>0.667</td>\n",
       "      <td>lost to washington redskins in super bowl xxii</td>\n",
       "      <td>0.0</td>\n",
       "    </tr>\n",
       "    <tr>\n",
       "      <th>7</th>\n",
       "      <td>den</td>\n",
       "      <td>1988</td>\n",
       "      <td>8</td>\n",
       "      <td>8</td>\n",
       "      <td>0</td>\n",
       "      <td>0.5</td>\n",
       "      <td>2nd in afc west</td>\n",
       "      <td>none</td>\n",
       "      <td>none</td>\n",
       "      <td>none</td>\n",
       "      <td>none</td>\n",
       "      <td>0.0</td>\n",
       "    </tr>\n",
       "    <tr>\n",
       "      <th>8</th>\n",
       "      <td>den</td>\n",
       "      <td>1989</td>\n",
       "      <td>11</td>\n",
       "      <td>5</td>\n",
       "      <td>0</td>\n",
       "      <td>0.688</td>\n",
       "      <td>1st in afc west</td>\n",
       "      <td>2</td>\n",
       "      <td>1</td>\n",
       "      <td>0.667</td>\n",
       "      <td>lost to san francisco 49ers in super bowl xxiv</td>\n",
       "      <td>0.0</td>\n",
       "    </tr>\n",
       "    <tr>\n",
       "      <th>9</th>\n",
       "      <td>den</td>\n",
       "      <td>1990</td>\n",
       "      <td>5</td>\n",
       "      <td>11</td>\n",
       "      <td>0</td>\n",
       "      <td>0.313</td>\n",
       "      <td>5th in afc west</td>\n",
       "      <td>none</td>\n",
       "      <td>none</td>\n",
       "      <td>none</td>\n",
       "      <td>none</td>\n",
       "      <td>0.0</td>\n",
       "    </tr>\n",
       "    <tr>\n",
       "      <th>10</th>\n",
       "      <td>den</td>\n",
       "      <td>1991</td>\n",
       "      <td>12</td>\n",
       "      <td>4</td>\n",
       "      <td>0</td>\n",
       "      <td>0.75</td>\n",
       "      <td>1st in afc west</td>\n",
       "      <td>1</td>\n",
       "      <td>1</td>\n",
       "      <td>0.5</td>\n",
       "      <td>lost to buffalo bills in afc championship game</td>\n",
       "      <td>0.0</td>\n",
       "    </tr>\n",
       "    <tr>\n",
       "      <th>11</th>\n",
       "      <td>den</td>\n",
       "      <td>1992</td>\n",
       "      <td>8</td>\n",
       "      <td>8</td>\n",
       "      <td>0</td>\n",
       "      <td>0.5</td>\n",
       "      <td>3rd in afc west</td>\n",
       "      <td>none</td>\n",
       "      <td>none</td>\n",
       "      <td>none</td>\n",
       "      <td>none</td>\n",
       "      <td>0.0</td>\n",
       "    </tr>\n",
       "    <tr>\n",
       "      <th>12</th>\n",
       "      <td>den total</td>\n",
       "      <td>den total</td>\n",
       "      <td>110</td>\n",
       "      <td>73</td>\n",
       "      <td>1</td>\n",
       "      <td>0.601</td>\n",
       "      <td>none</td>\n",
       "      <td>7</td>\n",
       "      <td>6</td>\n",
       "      <td>0.538</td>\n",
       "      <td>none</td>\n",
       "      <td>0.0</td>\n",
       "    </tr>\n",
       "    <tr>\n",
       "      <th>13</th>\n",
       "      <td>nyg</td>\n",
       "      <td>1993</td>\n",
       "      <td>11</td>\n",
       "      <td>5</td>\n",
       "      <td>0</td>\n",
       "      <td>0.688</td>\n",
       "      <td>2nd in nfc east</td>\n",
       "      <td>1</td>\n",
       "      <td>1</td>\n",
       "      <td>0.5</td>\n",
       "      <td>lost to san francisco 49ers in nfc divisional ...</td>\n",
       "      <td>0.0</td>\n",
       "    </tr>\n",
       "    <tr>\n",
       "      <th>14</th>\n",
       "      <td>nyg</td>\n",
       "      <td>1994</td>\n",
       "      <td>9</td>\n",
       "      <td>7</td>\n",
       "      <td>0</td>\n",
       "      <td>0.563</td>\n",
       "      <td>2nd in nfc east</td>\n",
       "      <td>none</td>\n",
       "      <td>none</td>\n",
       "      <td>none</td>\n",
       "      <td>none</td>\n",
       "      <td>0.0</td>\n",
       "    </tr>\n",
       "    <tr>\n",
       "      <th>15</th>\n",
       "      <td>nyg</td>\n",
       "      <td>1995</td>\n",
       "      <td>5</td>\n",
       "      <td>11</td>\n",
       "      <td>0</td>\n",
       "      <td>0.313</td>\n",
       "      <td>4th in nfc east</td>\n",
       "      <td>none</td>\n",
       "      <td>none</td>\n",
       "      <td>none</td>\n",
       "      <td>none</td>\n",
       "      <td>0.0</td>\n",
       "    </tr>\n",
       "    <tr>\n",
       "      <th>16</th>\n",
       "      <td>nyg</td>\n",
       "      <td>1996</td>\n",
       "      <td>6</td>\n",
       "      <td>10</td>\n",
       "      <td>0</td>\n",
       "      <td>0.375</td>\n",
       "      <td>5th in nfc east</td>\n",
       "      <td>none</td>\n",
       "      <td>none</td>\n",
       "      <td>none</td>\n",
       "      <td>none</td>\n",
       "      <td>0.0</td>\n",
       "    </tr>\n",
       "    <tr>\n",
       "      <th>17</th>\n",
       "      <td>nyg total</td>\n",
       "      <td>nyg total</td>\n",
       "      <td>31</td>\n",
       "      <td>33</td>\n",
       "      <td>0</td>\n",
       "      <td>0.484</td>\n",
       "      <td>none</td>\n",
       "      <td>1</td>\n",
       "      <td>1</td>\n",
       "      <td>0.5</td>\n",
       "      <td>none</td>\n",
       "      <td>0.0</td>\n",
       "    </tr>\n",
       "    <tr>\n",
       "      <th>18</th>\n",
       "      <td>atl</td>\n",
       "      <td>1997</td>\n",
       "      <td>7</td>\n",
       "      <td>9</td>\n",
       "      <td>0</td>\n",
       "      <td>0.438</td>\n",
       "      <td>2nd in nfc west</td>\n",
       "      <td>none</td>\n",
       "      <td>none</td>\n",
       "      <td>none</td>\n",
       "      <td>none</td>\n",
       "      <td>0.0</td>\n",
       "    </tr>\n",
       "    <tr>\n",
       "      <th>19</th>\n",
       "      <td>atl</td>\n",
       "      <td>1998</td>\n",
       "      <td>14</td>\n",
       "      <td>2</td>\n",
       "      <td>0</td>\n",
       "      <td>0.875</td>\n",
       "      <td>1st in nfc west</td>\n",
       "      <td>2</td>\n",
       "      <td>1</td>\n",
       "      <td>0.667</td>\n",
       "      <td>lost to denver broncos in super bowl xxxiii</td>\n",
       "      <td>0.0</td>\n",
       "    </tr>\n",
       "    <tr>\n",
       "      <th>20</th>\n",
       "      <td>atl</td>\n",
       "      <td>1999</td>\n",
       "      <td>5</td>\n",
       "      <td>11</td>\n",
       "      <td>0</td>\n",
       "      <td>0.313</td>\n",
       "      <td>3rd in nfc west</td>\n",
       "      <td>none</td>\n",
       "      <td>none</td>\n",
       "      <td>none</td>\n",
       "      <td>none</td>\n",
       "      <td>0.0</td>\n",
       "    </tr>\n",
       "    <tr>\n",
       "      <th>21</th>\n",
       "      <td>atl</td>\n",
       "      <td>2000</td>\n",
       "      <td>4</td>\n",
       "      <td>12</td>\n",
       "      <td>0</td>\n",
       "      <td>0.25</td>\n",
       "      <td>5th in nfc west</td>\n",
       "      <td>none</td>\n",
       "      <td>none</td>\n",
       "      <td>none</td>\n",
       "      <td>none</td>\n",
       "      <td>0.0</td>\n",
       "    </tr>\n",
       "    <tr>\n",
       "      <th>22</th>\n",
       "      <td>atl</td>\n",
       "      <td>2001</td>\n",
       "      <td>7</td>\n",
       "      <td>9</td>\n",
       "      <td>0</td>\n",
       "      <td>0.438</td>\n",
       "      <td>3rd in nfc south</td>\n",
       "      <td>none</td>\n",
       "      <td>none</td>\n",
       "      <td>none</td>\n",
       "      <td>none</td>\n",
       "      <td>0.0</td>\n",
       "    </tr>\n",
       "    <tr>\n",
       "      <th>23</th>\n",
       "      <td>atl</td>\n",
       "      <td>2002</td>\n",
       "      <td>9</td>\n",
       "      <td>6</td>\n",
       "      <td>1</td>\n",
       "      <td>0.594</td>\n",
       "      <td>2nd in nfc south</td>\n",
       "      <td>1</td>\n",
       "      <td>1</td>\n",
       "      <td>0.5</td>\n",
       "      <td>lost to philadelphia eagles in nfc divisional ...</td>\n",
       "      <td>0.0</td>\n",
       "    </tr>\n",
       "    <tr>\n",
       "      <th>24</th>\n",
       "      <td>atl</td>\n",
       "      <td>2003</td>\n",
       "      <td>3</td>\n",
       "      <td>10</td>\n",
       "      <td>0</td>\n",
       "      <td>0.231</td>\n",
       "      <td>4th in nfc south</td>\n",
       "      <td>none</td>\n",
       "      <td>none</td>\n",
       "      <td>none</td>\n",
       "      <td>none</td>\n",
       "      <td>0.0</td>\n",
       "    </tr>\n",
       "    <tr>\n",
       "      <th>25</th>\n",
       "      <td>atl total</td>\n",
       "      <td>atl total</td>\n",
       "      <td>49</td>\n",
       "      <td>59</td>\n",
       "      <td>1</td>\n",
       "      <td>0.454</td>\n",
       "      <td>none</td>\n",
       "      <td>3</td>\n",
       "      <td>2</td>\n",
       "      <td>0.6</td>\n",
       "      <td>none</td>\n",
       "      <td>0.0</td>\n",
       "    </tr>\n",
       "    <tr>\n",
       "      <th>26</th>\n",
       "      <td>total</td>\n",
       "      <td>total</td>\n",
       "      <td>190</td>\n",
       "      <td>165</td>\n",
       "      <td>2</td>\n",
       "      <td>0.535</td>\n",
       "      <td>none</td>\n",
       "      <td>11</td>\n",
       "      <td>9</td>\n",
       "      <td>0.55</td>\n",
       "      <td>none</td>\n",
       "      <td>0.0</td>\n",
       "    </tr>\n",
       "  </tbody>\n",
       "</table>\n",
       "</div>"
      ],
      "text/plain": [
       "         team       year \"regular_season_won\" \"regular_season_lost\"  \\\n",
       "0         den       1981                   10                     6   \n",
       "1         den       1982                    2                     7   \n",
       "2         den       1983                    9                     7   \n",
       "3         den       1984                   13                     3   \n",
       "4         den       1985                   11                     5   \n",
       "5         den       1986                   11                     5   \n",
       "6         den       1987                   10                     4   \n",
       "7         den       1988                    8                     8   \n",
       "8         den       1989                   11                     5   \n",
       "9         den       1990                    5                    11   \n",
       "10        den       1991                   12                     4   \n",
       "11        den       1992                    8                     8   \n",
       "12  den total  den total                  110                    73   \n",
       "13        nyg       1993                   11                     5   \n",
       "14        nyg       1994                    9                     7   \n",
       "15        nyg       1995                    5                    11   \n",
       "16        nyg       1996                    6                    10   \n",
       "17  nyg total  nyg total                   31                    33   \n",
       "18        atl       1997                    7                     9   \n",
       "19        atl       1998                   14                     2   \n",
       "20        atl       1999                    5                    11   \n",
       "21        atl       2000                    4                    12   \n",
       "22        atl       2001                    7                     9   \n",
       "23        atl       2002                    9                     6   \n",
       "24        atl       2003                    3                    10   \n",
       "25  atl total  atl total                   49                    59   \n",
       "26      total      total                  190                   165   \n",
       "\n",
       "   \"regular_season_ties\" \"regular_season_win_%\" \"regular_season_finish\"  \\\n",
       "0                      0                  0.625         2nd in afc west   \n",
       "1                      0                  0.222         5th in afc west   \n",
       "2                      0                  0.563         2nd in afc west   \n",
       "3                      0                  0.813         1st in afc west   \n",
       "4                      0                  0.688         2nd in afc west   \n",
       "5                      0                  0.688         1st in afc west   \n",
       "6                      1                  0.714         1st in afc west   \n",
       "7                      0                    0.5         2nd in afc west   \n",
       "8                      0                  0.688         1st in afc west   \n",
       "9                      0                  0.313         5th in afc west   \n",
       "10                     0                   0.75         1st in afc west   \n",
       "11                     0                    0.5         3rd in afc west   \n",
       "12                     1                  0.601                    none   \n",
       "13                     0                  0.688         2nd in nfc east   \n",
       "14                     0                  0.563         2nd in nfc east   \n",
       "15                     0                  0.313         4th in nfc east   \n",
       "16                     0                  0.375         5th in nfc east   \n",
       "17                     0                  0.484                    none   \n",
       "18                     0                  0.438         2nd in nfc west   \n",
       "19                     0                  0.875         1st in nfc west   \n",
       "20                     0                  0.313         3rd in nfc west   \n",
       "21                     0                   0.25         5th in nfc west   \n",
       "22                     0                  0.438        3rd in nfc south   \n",
       "23                     1                  0.594        2nd in nfc south   \n",
       "24                     0                  0.231        4th in nfc south   \n",
       "25                     1                  0.454                    none   \n",
       "26                     2                  0.535                    none   \n",
       "\n",
       "   \"post_season_won\" \"post_season_lost\" \"post_season_win_%\"  \\\n",
       "0               none               none                none   \n",
       "1               none               none                none   \n",
       "2                  0                  1                   0   \n",
       "3                  0                  1                   0   \n",
       "4               none               none                none   \n",
       "5                  2                  1               0.667   \n",
       "6                  2                  1               0.667   \n",
       "7               none               none                none   \n",
       "8                  2                  1               0.667   \n",
       "9               none               none                none   \n",
       "10                 1                  1                 0.5   \n",
       "11              none               none                none   \n",
       "12                 7                  6               0.538   \n",
       "13                 1                  1                 0.5   \n",
       "14              none               none                none   \n",
       "15              none               none                none   \n",
       "16              none               none                none   \n",
       "17                 1                  1                 0.5   \n",
       "18              none               none                none   \n",
       "19                 2                  1               0.667   \n",
       "20              none               none                none   \n",
       "21              none               none                none   \n",
       "22              none               none                none   \n",
       "23                 1                  1                 0.5   \n",
       "24              none               none                none   \n",
       "25                 3                  2                 0.6   \n",
       "26                11                  9                0.55   \n",
       "\n",
       "                                 \"post_season_result\"  agg  \n",
       "0                                                none  0.0  \n",
       "1                                                none  0.0  \n",
       "2      lost to seattle seahawks in afc wild card game  0.0  \n",
       "3   lost to pittsburgh steelers in afc divisional ...  0.0  \n",
       "4                                                none  0.0  \n",
       "5           lost to new york giants in super bowl xxi  0.0  \n",
       "6      lost to washington redskins in super bowl xxii  0.0  \n",
       "7                                                none  0.0  \n",
       "8      lost to san francisco 49ers in super bowl xxiv  0.0  \n",
       "9                                                none  0.0  \n",
       "10     lost to buffalo bills in afc championship game  0.0  \n",
       "11                                               none  0.0  \n",
       "12                                               none  0.0  \n",
       "13  lost to san francisco 49ers in nfc divisional ...  0.0  \n",
       "14                                               none  0.0  \n",
       "15                                               none  0.0  \n",
       "16                                               none  0.0  \n",
       "17                                               none  0.0  \n",
       "18                                               none  0.0  \n",
       "19        lost to denver broncos in super bowl xxxiii  0.0  \n",
       "20                                               none  0.0  \n",
       "21                                               none  0.0  \n",
       "22                                               none  0.0  \n",
       "23  lost to philadelphia eagles in nfc divisional ...  0.0  \n",
       "24                                               none  0.0  \n",
       "25                                               none  0.0  \n",
       "26                                               none  0.0  "
      ]
     },
     "execution_count": 16,
     "metadata": {},
     "output_type": "execute_result"
    }
   ],
   "source": [
    "df"
   ]
  },
  {
   "cell_type": "markdown",
   "id": "ab2f5c32",
   "metadata": {},
   "source": [
    "# translate SQL to GRAPH\n"
   ]
  },
  {
   "cell_type": "code",
   "execution_count": 17,
   "id": "2c5ae6a7",
   "metadata": {},
   "outputs": [
    {
     "name": "stdout",
     "output_type": "stream",
     "text": [
      " row 1 : \n",
      " row 2 : \n",
      " row 3 : \n",
      " row 4 : \n",
      " row 5 : \n",
      " row 6 : \n",
      " row 7 : \n",
      " row 8 : \n",
      " row 9 : \n",
      " row 10 : \n",
      " row 11 : \n",
      " row 12 : \n",
      " row 13 : \n",
      " row 14 : \n",
      " row 15 : \n",
      " row 16 : \n",
      " row 17 : \n",
      " row 18 : \n",
      " row 19 : \n",
      " row 20 : \n",
      " row 21 : \n",
      " row 22 : \n",
      " row 23 : \n",
      " row 24 : \n",
      " row 25 : \n",
      " row 26 : \n",
      " row 27 : \n"
     ]
    }
   ],
   "source": [
    "lin_table2 = serialize_table_to_tapex_format(df)"
   ]
  },
  {
   "cell_type": "code",
   "execution_count": 18,
   "id": "67b6facd",
   "metadata": {},
   "outputs": [
    {
     "data": {
      "text/plain": [
       "' col : team | year | regular season won | regular season lost | regular season ties | regular season win % | regular season finish | post season won | post season lost | post season win % | post season result row 1 : den | 1981 | 10 | 6 | 0 | 0.625 | 2nd in afc west | none | none | none | none row 2 : den | 1982 | 2 | 7 | 0 | 0.222 | 5th in afc west | none | none | none | none row 3 : den | 1983 | 9 | 7 | 0 | 0.563 | 2nd in afc west | 0 | 1 | 0 | lost to seattle seahawks in afc wild card game row 4 : den | 1984 | 13 | 3 | 0 | 0.813 | 1st in afc west | 0 | 1 | 0 | lost to pittsburgh steelers in afc divisional game row 5 : den | 1985 | 11 | 5 | 0 | 0.688 | 2nd in afc west | none | none | none | none row 6 : den | 1986 | 11 | 5 | 0 | 0.688 | 1st in afc west | 2 | 1 | 0.667 | lost to new york giants in super bowl xxi row 7 : den | 1987 | 10 | 4 | 1 | 0.714 | 1st in afc west | 2 | 1 | 0.667 | lost to washington redskins in super bowl xxii row 8 : den | 1988 | 8 | 8 | 0 | 0.5 | 2nd in afc west | none | none | none | none row 9 : den | 1989 | 11 | 5 | 0 | 0.688 | 1st in afc west | 2 | 1 | 0.667 | lost to san francisco 49ers in super bowl xxiv row 10 : den | 1990 | 5 | 11 | 0 | 0.313 | 5th in afc west | none | none | none | none row 11 : den | 1991 | 12 | 4 | 0 | 0.75 | 1st in afc west | 1 | 1 | 0.5 | lost to buffalo bills in afc championship game row 12 : den | 1992 | 8 | 8 | 0 | 0.5 | 3rd in afc west | none | none | none | none row 13 : den total | den total | 110 | 73 | 1 | 0.601 | none | 7 | 6 | 0.538 | none row 14 : nyg | 1993 | 11 | 5 | 0 | 0.688 | 2nd in nfc east | 1 | 1 | 0.5 | lost to san francisco 49ers in nfc divisional game row 15 : nyg | 1994 | 9 | 7 | 0 | 0.563 | 2nd in nfc east | none | none | none | none row 16 : nyg | 1995 | 5 | 11 | 0 | 0.313 | 4th in nfc east | none | none | none | none row 17 : nyg | 1996 | 6 | 10 | 0 | 0.375 | 5th in nfc east | none | none | none | none row 18 : nyg total | nyg total | 31 | 33 | 0 | 0.484 | none | 1 | 1 | 0.5 | none row 19 : atl | 1997 | 7 | 9 | 0 | 0.438 | 2nd in nfc west | none | none | none | none row 20 : atl | 1998 | 14 | 2 | 0 | 0.875 | 1st in nfc west | 2 | 1 | 0.667 | lost to denver broncos in super bowl xxxiii row 21 : atl | 1999 | 5 | 11 | 0 | 0.313 | 3rd in nfc west | none | none | none | none row 22 : atl | 2000 | 4 | 12 | 0 | 0.25 | 5th in nfc west | none | none | none | none row 23 : atl | 2001 | 7 | 9 | 0 | 0.438 | 3rd in nfc south | none | none | none | none row 24 : atl | 2002 | 9 | 6 | 1 | 0.594 | 2nd in nfc south | 1 | 1 | 0.5 | lost to philadelphia eagles in nfc divisional game row 25 : atl | 2003 | 3 | 10 | 0 | 0.231 | 4th in nfc south | none | none | none | none row 26 : atl total | atl total | 49 | 59 | 1 | 0.454 | none | 3 | 2 | 0.6 | none row 27 : total | total | 190 | 165 | 2 | 0.535 | none | 11 | 9 | 0.55 | none'"
      ]
     },
     "execution_count": 18,
     "metadata": {},
     "output_type": "execute_result"
    }
   ],
   "source": [
    "lin_table"
   ]
  },
  {
   "cell_type": "code",
   "execution_count": 19,
   "id": "87b43db0",
   "metadata": {},
   "outputs": [
    {
     "data": {
      "text/plain": [
       "' col : team | year | \"regular_season_won\" | \"regular_season_lost\" | \"regular_season_ties\" | \"regular_season_win_%\" | \"regular_season_finish\" | \"post_season_won\" | \"post_season_lost\" | \"post_season_win_%\" | \"post_season_result\" | agg row 1 : den | 1981 | 10 | 6 | 0 | 0.625 | 2nd in afc west | none | none | none | none | 0.0 row 2 : den | 1982 | 2 | 7 | 0 | 0.222 | 5th in afc west | none | none | none | none | 0.0 row 3 : den | 1983 | 9 | 7 | 0 | 0.563 | 2nd in afc west | 0 | 1 | 0 | lost to seattle seahawks in afc wild card game | 0.0 row 4 : den | 1984 | 13 | 3 | 0 | 0.813 | 1st in afc west | 0 | 1 | 0 | lost to pittsburgh steelers in afc divisional game | 0.0 row 5 : den | 1985 | 11 | 5 | 0 | 0.688 | 2nd in afc west | none | none | none | none | 0.0 row 6 : den | 1986 | 11 | 5 | 0 | 0.688 | 1st in afc west | 2 | 1 | 0.667 | lost to new york giants in super bowl xxi | 0.0 row 7 : den | 1987 | 10 | 4 | 1 | 0.714 | 1st in afc west | 2 | 1 | 0.667 | lost to washington redskins in super bowl xxii | 0.0 row 8 : den | 1988 | 8 | 8 | 0 | 0.5 | 2nd in afc west | none | none | none | none | 0.0 row 9 : den | 1989 | 11 | 5 | 0 | 0.688 | 1st in afc west | 2 | 1 | 0.667 | lost to san francisco 49ers in super bowl xxiv | 0.0 row 10 : den | 1990 | 5 | 11 | 0 | 0.313 | 5th in afc west | none | none | none | none | 0.0 row 11 : den | 1991 | 12 | 4 | 0 | 0.75 | 1st in afc west | 1 | 1 | 0.5 | lost to buffalo bills in afc championship game | 0.0 row 12 : den | 1992 | 8 | 8 | 0 | 0.5 | 3rd in afc west | none | none | none | none | 0.0 row 13 : den total | den total | 110 | 73 | 1 | 0.601 | none | 7 | 6 | 0.538 | none | 0.0 row 14 : nyg | 1993 | 11 | 5 | 0 | 0.688 | 2nd in nfc east | 1 | 1 | 0.5 | lost to san francisco 49ers in nfc divisional game | 0.0 row 15 : nyg | 1994 | 9 | 7 | 0 | 0.563 | 2nd in nfc east | none | none | none | none | 0.0 row 16 : nyg | 1995 | 5 | 11 | 0 | 0.313 | 4th in nfc east | none | none | none | none | 0.0 row 17 : nyg | 1996 | 6 | 10 | 0 | 0.375 | 5th in nfc east | none | none | none | none | 0.0 row 18 : nyg total | nyg total | 31 | 33 | 0 | 0.484 | none | 1 | 1 | 0.5 | none | 0.0 row 19 : atl | 1997 | 7 | 9 | 0 | 0.438 | 2nd in nfc west | none | none | none | none | 0.0 row 20 : atl | 1998 | 14 | 2 | 0 | 0.875 | 1st in nfc west | 2 | 1 | 0.667 | lost to denver broncos in super bowl xxxiii | 0.0 row 21 : atl | 1999 | 5 | 11 | 0 | 0.313 | 3rd in nfc west | none | none | none | none | 0.0 row 22 : atl | 2000 | 4 | 12 | 0 | 0.25 | 5th in nfc west | none | none | none | none | 0.0 row 23 : atl | 2001 | 7 | 9 | 0 | 0.438 | 3rd in nfc south | none | none | none | none | 0.0 row 24 : atl | 2002 | 9 | 6 | 1 | 0.594 | 2nd in nfc south | 1 | 1 | 0.5 | lost to philadelphia eagles in nfc divisional game | 0.0 row 25 : atl | 2003 | 3 | 10 | 0 | 0.231 | 4th in nfc south | none | none | none | none | 0.0 row 26 : atl total | atl total | 49 | 59 | 1 | 0.454 | none | 3 | 2 | 0.6 | none | 0.0 row 27 : total | total | 190 | 165 | 2 | 0.535 | none | 11 | 9 | 0.55 | none | 0.0'"
      ]
     },
     "execution_count": 19,
     "metadata": {},
     "output_type": "execute_result"
    }
   ],
   "source": [
    "lin_table2"
   ]
  },
  {
   "cell_type": "code",
   "execution_count": 20,
   "id": "3b85ec03",
   "metadata": {},
   "outputs": [],
   "source": [
    "import importlib\n",
    "import sql_graph_translate.nodes"
   ]
  },
  {
   "cell_type": "code",
   "execution_count": 21,
   "id": "d2e7ceed",
   "metadata": {},
   "outputs": [],
   "source": [
    "import importlib\n",
    "\n",
    "import sys\n",
    "\n",
    "from sql_graph_translate import nodes  # Пусть новый модуль\n",
    "\n",
    "\n",
    "# Перезагрузка модуля\n",
    "\n",
    "importlib.reload(nodes)\n",
    "\n",
    "\n",
    "# Удаляем старую ссылку на функцию\n",
    "\n",
    "if 'create_nodes' in sys.modules:\n",
    "\n",
    "    del sys.modules['sql_graph_translate.nodes.create_nodes']\n"
   ]
  },
  {
   "cell_type": "code",
   "execution_count": 22,
   "id": "a154c493",
   "metadata": {},
   "outputs": [
    {
     "data": {
      "text/plain": [
       "<module 'sql_graph_translate.nodes' from '/home/jovyan/cloud/postgraduate/works/OmniGraph/TapexGraph/sql_graph_translate/nodes.py'>"
      ]
     },
     "execution_count": 22,
     "metadata": {},
     "output_type": "execute_result"
    }
   ],
   "source": [
    "importlib.reload(sql_graph_translate.nodes)"
   ]
  },
  {
   "cell_type": "code",
   "execution_count": 24,
   "id": "d9073688",
   "metadata": {},
   "outputs": [],
   "source": [
    "from sql_graph_translate import nodes"
   ]
  },
  {
   "cell_type": "code",
   "execution_count": 26,
   "id": "9d7a0f33",
   "metadata": {},
   "outputs": [
    {
     "data": {
      "text/plain": [
       "'select \"post_season_result\" order by \"regular_season_win_%\" desc limit 1'"
      ]
     },
     "execution_count": 26,
     "metadata": {},
     "output_type": "execute_result"
    }
   ],
   "source": [
    "sql"
   ]
  },
  {
   "cell_type": "code",
   "execution_count": 12,
   "id": "075f38f9",
   "metadata": {},
   "outputs": [],
   "source": [
    "flatten_mode = 'preorder'"
   ]
  },
  {
   "cell_type": "markdown",
   "id": "97c371ce",
   "metadata": {},
   "source": [
    "G0 = create_nodes(sql, df=df)\n",
    "header = G0.header\n",
    "result0 = to_value_list(G0.executed_last_node())\n",
    "flatten_sequence = G0.linearize_graph(Omega_include, flatten_mode=traversal)\n",
    "G1 = parse(flatten_sequence, header, flatten_mode=traversal)\n",
    "\n",
    "\n",
    "logging.info(\"Flatten sequence: %s\", flatten_sequence)\n",
    "result1 = to_value_list(G1.executed_last_node())"
   ]
  },
  {
   "cell_type": "code",
   "execution_count": 13,
   "id": "0c64d66c",
   "metadata": {},
   "outputs": [],
   "source": [
    "u=[]\n",
    "d={}"
   ]
  },
  {
   "cell_type": "code",
   "execution_count": 14,
   "id": "ff10e0ca",
   "metadata": {},
   "outputs": [],
   "source": [
    "create_nodes?"
   ]
  },
  {
   "cell_type": "code",
   "execution_count": 26,
   "id": "ccc2e84a",
   "metadata": {},
   "outputs": [
    {
     "name": "stdout",
     "output_type": "stream",
     "text": [
      "[]\n",
      "[(SELECT expressions: \n",
      "  (COLUMN this: \n",
      "    (IDENTIFIER this: post_season_result, quoted: True)), limit: \n",
      "  (LIMIT expression: \n",
      "    (LITERAL this: 1, is_string: False)), order: \n",
      "  (ORDER expressions: \n",
      "    (ORDERED this: \n",
      "      (COLUMN this: \n",
      "        (IDENTIFIER this: regular_season_win_%, quoted: True)), desc: True, nulls_first: False)))]\n",
      "sub-query SELECT \"post_season_result\" ORDER BY \"regular_season_win_%\" DESC LIMIT 1 type <class 'sqlglot.expressions.Select'>\n",
      "edges,cond\n",
      "[('N22|P|select|0|0|\"post_season_result\"', 'N14|OB|order|0|0|desc'), ('N14|OB|order|0|0|desc', 'N6|L|limit|0|0|limit 1'), ('N17|P|order|0|0|\"regular_season_win_%\"', 'N14|OB|order|0|0|desc')] {'P|select|0|0|\"post_season_result\"': (COLUMN this: \n",
      "  (IDENTIFIER this: post_season_result, quoted: True)), 'L|limit|0|0|limit 1': (LIMIT expression: \n",
      "  (LITERAL this: 1, is_string: False)), 'OB|order|0|0|desc': 'desc', 'P|order|0|0|\"regular_season_win_%\"': (COLUMN this: \n",
      "  (IDENTIFIER this: regular_season_win_%, quoted: True))}\n",
      "cols\n",
      "['\"post_season_result\"', '\"regular_season_win_%\"']\n",
      "-----------\n"
     ]
    }
   ],
   "source": [
    "G0 = nodes.create_nodes(sql, df=df,edges=u, condi_expressions=d)"
   ]
  },
  {
   "cell_type": "code",
   "execution_count": 39,
   "id": "35bf9308",
   "metadata": {},
   "outputs": [
    {
     "data": {
      "text/plain": [
       "[('N22|P|select|0|0|\"post_season_result\"', 'N14|OB|order|0|0|desc'),\n",
       " ('N14|OB|order|0|0|desc', 'N6|L|limit|0|0|limit 1'),\n",
       " ('N17|P|order|0|0|\"regular_season_win_%\"', 'N14|OB|order|0|0|desc')]"
      ]
     },
     "execution_count": 39,
     "metadata": {},
     "output_type": "execute_result"
    }
   ],
   "source": [
    "u"
   ]
  },
  {
   "cell_type": "code",
   "execution_count": 28,
   "id": "47b99186",
   "metadata": {},
   "outputs": [
    {
     "data": {
      "text/plain": [
       "{'P|select|0|0|\"post_season_result\"': (COLUMN this: \n",
       "   (IDENTIFIER this: post_season_result, quoted: True)),\n",
       " 'L|limit|0|0|limit 1': (LIMIT expression: \n",
       "   (LITERAL this: 1, is_string: False)),\n",
       " 'OB|order|0|0|desc': 'desc',\n",
       " 'P|order|0|0|\"regular_season_win_%\"': (COLUMN this: \n",
       "   (IDENTIFIER this: regular_season_win_%, quoted: True))}"
      ]
     },
     "execution_count": 28,
     "metadata": {},
     "output_type": "execute_result"
    }
   ],
   "source": [
    "d"
   ]
  },
  {
   "cell_type": "code",
   "execution_count": 42,
   "id": "e2bed06a",
   "metadata": {},
   "outputs": [
    {
     "data": {
      "text/plain": [
       "[('N11|P|select|0|0|\"regular_season_ties\"', 'N26|OP|select0|0|0|+'),\n",
       " ('N15|P|select|1|0|\"regular_season_lost\"', 'N26|OP|select0|0|0|+'),\n",
       " ('N12|OB|order|0|0|desc', 'N14|L|limit|0|0|limit 1'),\n",
       " ('N2|P|order|0|0|\"regular_season_win_%\"', 'N12|OB|order|0|0|desc')]"
      ]
     },
     "execution_count": 42,
     "metadata": {},
     "output_type": "execute_result"
    }
   ],
   "source": [
    "p = [('N11|P|select|0|0|\"regular_season_ties\"', 'N26|OP|select0|0|0|+'), ('N15|P|select|1|0|\"regular_season_lost\"', 'N26|OP|select0|0|0|+'), ('N12|OB|order|0|0|desc', 'N14|L|limit|0|0|limit 1'), ('N2|P|order|0|0|\"regular_season_win_%\"', 'N12|OB|order|0|0|desc')]\n",
    "p"
   ]
  },
  {
   "cell_type": "code",
   "execution_count": null,
   "id": "0c19d47b",
   "metadata": {},
   "outputs": [],
   "source": []
  },
  {
   "cell_type": "code",
   "execution_count": 29,
   "id": "3bca9fa6",
   "metadata": {},
   "outputs": [
    {
     "name": "stdout",
     "output_type": "stream",
     "text": [
      "[1, 2, 3, 4]\n",
      "[4]\n"
     ]
    }
   ],
   "source": [
    "def modify_list(my_list=None):\n",
    "\n",
    "    if my_list is None:\n",
    "\n",
    "        my_list = []  # Инициализация списка, если он не передан\n",
    "\n",
    "    my_list.append(4)  # Добавляем элемент\n",
    "\n",
    "    return my_list\n",
    "\n",
    "\n",
    "numbers = [1, 2, 3]\n",
    "\n",
    "modify_list(my_list=numbers)\n",
    "\n",
    "print(numbers)  # Вывод: [1, 2, 3, 4]\n",
    "\n",
    "\n",
    "# Если не передать список\n",
    "\n",
    "new_list = modify_list()  \n",
    "\n",
    "print(new_list)"
   ]
  },
  {
   "cell_type": "code",
   "execution_count": 41,
   "id": "844ec139",
   "metadata": {},
   "outputs": [
    {
     "ename": "SyntaxError",
     "evalue": "invalid syntax (<ipython-input-41-89554e8f4b48>, line 1)",
     "output_type": "error",
     "traceback": [
      "\u001b[0;36m  File \u001b[0;32m\"<ipython-input-41-89554e8f4b48>\"\u001b[0;36m, line \u001b[0;32m1\u001b[0m\n\u001b[0;31m    dd = {'OP|select0|0|0|+': <class 'sqlglot.expressions.Add'>, 'P|select|0|0|\"regular_season_ties\"': (COLUMN this:\u001b[0m\n\u001b[0m                              ^\u001b[0m\n\u001b[0;31mSyntaxError\u001b[0m\u001b[0;31m:\u001b[0m invalid syntax\n"
     ]
    }
   ],
   "source": [
    "dd = {'OP|select0|0|0|+': <class 'sqlglot.expressions.Add'>, 'P|select|0|0|\"regular_season_ties\"': (COLUMN this: \n",
    "  (IDENTIFIER this: regular_season_ties, quoted: True)), 'P|select|1|0|\"regular_season_lost\"': (COLUMN this: \n",
    "  (IDENTIFIER this: regular_season_lost, quoted: True)), 'L|limit|0|0|limit 1': (LIMIT expression: \n",
    "  (LITERAL this: 1, is_string: False)), 'OB|order|0|0|desc': 'desc', 'P|order|0|0|\"regular_season_win_%\"': (COLUMN this: \n",
    "  (IDENTIFIER this: regular_season_win_%, quoted: True))}\n",
    "dd"
   ]
  },
  {
   "cell_type": "code",
   "execution_count": 29,
   "id": "c4143179",
   "metadata": {},
   "outputs": [],
   "source": [
    "sql = 'select \"regular_season_ties\"+\"regular_season_lost\" order by \"regular_season_win_%\" desc limit 1'"
   ]
  },
  {
   "cell_type": "code",
   "execution_count": 25,
   "id": "ea34ae4e",
   "metadata": {},
   "outputs": [
    {
     "data": {
      "text/html": [
       "<div>\n",
       "<style scoped>\n",
       "    .dataframe tbody tr th:only-of-type {\n",
       "        vertical-align: middle;\n",
       "    }\n",
       "\n",
       "    .dataframe tbody tr th {\n",
       "        vertical-align: top;\n",
       "    }\n",
       "\n",
       "    .dataframe thead th {\n",
       "        text-align: right;\n",
       "    }\n",
       "</style>\n",
       "<table border=\"1\" class=\"dataframe\">\n",
       "  <thead>\n",
       "    <tr style=\"text-align: right;\">\n",
       "      <th></th>\n",
       "      <th>team</th>\n",
       "      <th>year</th>\n",
       "      <th>\"regular_season_won\"</th>\n",
       "      <th>\"regular_season_lost\"</th>\n",
       "      <th>\"regular_season_ties\"</th>\n",
       "      <th>\"regular_season_win_%\"</th>\n",
       "      <th>\"regular_season_finish\"</th>\n",
       "      <th>\"post_season_won\"</th>\n",
       "      <th>\"post_season_lost\"</th>\n",
       "      <th>\"post_season_win_%\"</th>\n",
       "      <th>\"post_season_result\"</th>\n",
       "      <th>agg</th>\n",
       "    </tr>\n",
       "  </thead>\n",
       "  <tbody>\n",
       "    <tr>\n",
       "      <th>0</th>\n",
       "      <td>den</td>\n",
       "      <td>1981</td>\n",
       "      <td>10</td>\n",
       "      <td>6</td>\n",
       "      <td>0</td>\n",
       "      <td>0.625</td>\n",
       "      <td>2nd in afc west</td>\n",
       "      <td>none</td>\n",
       "      <td>none</td>\n",
       "      <td>none</td>\n",
       "      <td>none</td>\n",
       "      <td>0.0</td>\n",
       "    </tr>\n",
       "    <tr>\n",
       "      <th>1</th>\n",
       "      <td>den</td>\n",
       "      <td>1982</td>\n",
       "      <td>2</td>\n",
       "      <td>7</td>\n",
       "      <td>0</td>\n",
       "      <td>0.222</td>\n",
       "      <td>5th in afc west</td>\n",
       "      <td>none</td>\n",
       "      <td>none</td>\n",
       "      <td>none</td>\n",
       "      <td>none</td>\n",
       "      <td>0.0</td>\n",
       "    </tr>\n",
       "    <tr>\n",
       "      <th>2</th>\n",
       "      <td>den</td>\n",
       "      <td>1983</td>\n",
       "      <td>9</td>\n",
       "      <td>7</td>\n",
       "      <td>0</td>\n",
       "      <td>0.563</td>\n",
       "      <td>2nd in afc west</td>\n",
       "      <td>0</td>\n",
       "      <td>1</td>\n",
       "      <td>0</td>\n",
       "      <td>lost to seattle seahawks in afc wild card game</td>\n",
       "      <td>0.0</td>\n",
       "    </tr>\n",
       "    <tr>\n",
       "      <th>3</th>\n",
       "      <td>den</td>\n",
       "      <td>1984</td>\n",
       "      <td>13</td>\n",
       "      <td>3</td>\n",
       "      <td>0</td>\n",
       "      <td>0.813</td>\n",
       "      <td>1st in afc west</td>\n",
       "      <td>0</td>\n",
       "      <td>1</td>\n",
       "      <td>0</td>\n",
       "      <td>lost to pittsburgh steelers in afc divisional ...</td>\n",
       "      <td>0.0</td>\n",
       "    </tr>\n",
       "    <tr>\n",
       "      <th>4</th>\n",
       "      <td>den</td>\n",
       "      <td>1985</td>\n",
       "      <td>11</td>\n",
       "      <td>5</td>\n",
       "      <td>0</td>\n",
       "      <td>0.688</td>\n",
       "      <td>2nd in afc west</td>\n",
       "      <td>none</td>\n",
       "      <td>none</td>\n",
       "      <td>none</td>\n",
       "      <td>none</td>\n",
       "      <td>0.0</td>\n",
       "    </tr>\n",
       "    <tr>\n",
       "      <th>5</th>\n",
       "      <td>den</td>\n",
       "      <td>1986</td>\n",
       "      <td>11</td>\n",
       "      <td>5</td>\n",
       "      <td>0</td>\n",
       "      <td>0.688</td>\n",
       "      <td>1st in afc west</td>\n",
       "      <td>2</td>\n",
       "      <td>1</td>\n",
       "      <td>0.667</td>\n",
       "      <td>lost to new york giants in super bowl xxi</td>\n",
       "      <td>0.0</td>\n",
       "    </tr>\n",
       "    <tr>\n",
       "      <th>6</th>\n",
       "      <td>den</td>\n",
       "      <td>1987</td>\n",
       "      <td>10</td>\n",
       "      <td>4</td>\n",
       "      <td>1</td>\n",
       "      <td>0.714</td>\n",
       "      <td>1st in afc west</td>\n",
       "      <td>2</td>\n",
       "      <td>1</td>\n",
       "      <td>0.667</td>\n",
       "      <td>lost to washington redskins in super bowl xxii</td>\n",
       "      <td>0.0</td>\n",
       "    </tr>\n",
       "    <tr>\n",
       "      <th>7</th>\n",
       "      <td>den</td>\n",
       "      <td>1988</td>\n",
       "      <td>8</td>\n",
       "      <td>8</td>\n",
       "      <td>0</td>\n",
       "      <td>0.5</td>\n",
       "      <td>2nd in afc west</td>\n",
       "      <td>none</td>\n",
       "      <td>none</td>\n",
       "      <td>none</td>\n",
       "      <td>none</td>\n",
       "      <td>0.0</td>\n",
       "    </tr>\n",
       "    <tr>\n",
       "      <th>8</th>\n",
       "      <td>den</td>\n",
       "      <td>1989</td>\n",
       "      <td>11</td>\n",
       "      <td>5</td>\n",
       "      <td>0</td>\n",
       "      <td>0.688</td>\n",
       "      <td>1st in afc west</td>\n",
       "      <td>2</td>\n",
       "      <td>1</td>\n",
       "      <td>0.667</td>\n",
       "      <td>lost to san francisco 49ers in super bowl xxiv</td>\n",
       "      <td>0.0</td>\n",
       "    </tr>\n",
       "    <tr>\n",
       "      <th>9</th>\n",
       "      <td>den</td>\n",
       "      <td>1990</td>\n",
       "      <td>5</td>\n",
       "      <td>11</td>\n",
       "      <td>0</td>\n",
       "      <td>0.313</td>\n",
       "      <td>5th in afc west</td>\n",
       "      <td>none</td>\n",
       "      <td>none</td>\n",
       "      <td>none</td>\n",
       "      <td>none</td>\n",
       "      <td>0.0</td>\n",
       "    </tr>\n",
       "    <tr>\n",
       "      <th>10</th>\n",
       "      <td>den</td>\n",
       "      <td>1991</td>\n",
       "      <td>12</td>\n",
       "      <td>4</td>\n",
       "      <td>0</td>\n",
       "      <td>0.75</td>\n",
       "      <td>1st in afc west</td>\n",
       "      <td>1</td>\n",
       "      <td>1</td>\n",
       "      <td>0.5</td>\n",
       "      <td>lost to buffalo bills in afc championship game</td>\n",
       "      <td>0.0</td>\n",
       "    </tr>\n",
       "    <tr>\n",
       "      <th>11</th>\n",
       "      <td>den</td>\n",
       "      <td>1992</td>\n",
       "      <td>8</td>\n",
       "      <td>8</td>\n",
       "      <td>0</td>\n",
       "      <td>0.5</td>\n",
       "      <td>3rd in afc west</td>\n",
       "      <td>none</td>\n",
       "      <td>none</td>\n",
       "      <td>none</td>\n",
       "      <td>none</td>\n",
       "      <td>0.0</td>\n",
       "    </tr>\n",
       "    <tr>\n",
       "      <th>12</th>\n",
       "      <td>den total</td>\n",
       "      <td>den total</td>\n",
       "      <td>110</td>\n",
       "      <td>73</td>\n",
       "      <td>1</td>\n",
       "      <td>0.601</td>\n",
       "      <td>none</td>\n",
       "      <td>7</td>\n",
       "      <td>6</td>\n",
       "      <td>0.538</td>\n",
       "      <td>none</td>\n",
       "      <td>0.0</td>\n",
       "    </tr>\n",
       "    <tr>\n",
       "      <th>13</th>\n",
       "      <td>nyg</td>\n",
       "      <td>1993</td>\n",
       "      <td>11</td>\n",
       "      <td>5</td>\n",
       "      <td>0</td>\n",
       "      <td>0.688</td>\n",
       "      <td>2nd in nfc east</td>\n",
       "      <td>1</td>\n",
       "      <td>1</td>\n",
       "      <td>0.5</td>\n",
       "      <td>lost to san francisco 49ers in nfc divisional ...</td>\n",
       "      <td>0.0</td>\n",
       "    </tr>\n",
       "    <tr>\n",
       "      <th>14</th>\n",
       "      <td>nyg</td>\n",
       "      <td>1994</td>\n",
       "      <td>9</td>\n",
       "      <td>7</td>\n",
       "      <td>0</td>\n",
       "      <td>0.563</td>\n",
       "      <td>2nd in nfc east</td>\n",
       "      <td>none</td>\n",
       "      <td>none</td>\n",
       "      <td>none</td>\n",
       "      <td>none</td>\n",
       "      <td>0.0</td>\n",
       "    </tr>\n",
       "    <tr>\n",
       "      <th>15</th>\n",
       "      <td>nyg</td>\n",
       "      <td>1995</td>\n",
       "      <td>5</td>\n",
       "      <td>11</td>\n",
       "      <td>0</td>\n",
       "      <td>0.313</td>\n",
       "      <td>4th in nfc east</td>\n",
       "      <td>none</td>\n",
       "      <td>none</td>\n",
       "      <td>none</td>\n",
       "      <td>none</td>\n",
       "      <td>0.0</td>\n",
       "    </tr>\n",
       "    <tr>\n",
       "      <th>16</th>\n",
       "      <td>nyg</td>\n",
       "      <td>1996</td>\n",
       "      <td>6</td>\n",
       "      <td>10</td>\n",
       "      <td>0</td>\n",
       "      <td>0.375</td>\n",
       "      <td>5th in nfc east</td>\n",
       "      <td>none</td>\n",
       "      <td>none</td>\n",
       "      <td>none</td>\n",
       "      <td>none</td>\n",
       "      <td>0.0</td>\n",
       "    </tr>\n",
       "    <tr>\n",
       "      <th>17</th>\n",
       "      <td>nyg total</td>\n",
       "      <td>nyg total</td>\n",
       "      <td>31</td>\n",
       "      <td>33</td>\n",
       "      <td>0</td>\n",
       "      <td>0.484</td>\n",
       "      <td>none</td>\n",
       "      <td>1</td>\n",
       "      <td>1</td>\n",
       "      <td>0.5</td>\n",
       "      <td>none</td>\n",
       "      <td>0.0</td>\n",
       "    </tr>\n",
       "    <tr>\n",
       "      <th>18</th>\n",
       "      <td>atl</td>\n",
       "      <td>1997</td>\n",
       "      <td>7</td>\n",
       "      <td>9</td>\n",
       "      <td>0</td>\n",
       "      <td>0.438</td>\n",
       "      <td>2nd in nfc west</td>\n",
       "      <td>none</td>\n",
       "      <td>none</td>\n",
       "      <td>none</td>\n",
       "      <td>none</td>\n",
       "      <td>0.0</td>\n",
       "    </tr>\n",
       "    <tr>\n",
       "      <th>19</th>\n",
       "      <td>atl</td>\n",
       "      <td>1998</td>\n",
       "      <td>14</td>\n",
       "      <td>2</td>\n",
       "      <td>0</td>\n",
       "      <td>0.875</td>\n",
       "      <td>1st in nfc west</td>\n",
       "      <td>2</td>\n",
       "      <td>1</td>\n",
       "      <td>0.667</td>\n",
       "      <td>lost to denver broncos in super bowl xxxiii</td>\n",
       "      <td>0.0</td>\n",
       "    </tr>\n",
       "    <tr>\n",
       "      <th>20</th>\n",
       "      <td>atl</td>\n",
       "      <td>1999</td>\n",
       "      <td>5</td>\n",
       "      <td>11</td>\n",
       "      <td>0</td>\n",
       "      <td>0.313</td>\n",
       "      <td>3rd in nfc west</td>\n",
       "      <td>none</td>\n",
       "      <td>none</td>\n",
       "      <td>none</td>\n",
       "      <td>none</td>\n",
       "      <td>0.0</td>\n",
       "    </tr>\n",
       "    <tr>\n",
       "      <th>21</th>\n",
       "      <td>atl</td>\n",
       "      <td>2000</td>\n",
       "      <td>4</td>\n",
       "      <td>12</td>\n",
       "      <td>0</td>\n",
       "      <td>0.25</td>\n",
       "      <td>5th in nfc west</td>\n",
       "      <td>none</td>\n",
       "      <td>none</td>\n",
       "      <td>none</td>\n",
       "      <td>none</td>\n",
       "      <td>0.0</td>\n",
       "    </tr>\n",
       "    <tr>\n",
       "      <th>22</th>\n",
       "      <td>atl</td>\n",
       "      <td>2001</td>\n",
       "      <td>7</td>\n",
       "      <td>9</td>\n",
       "      <td>0</td>\n",
       "      <td>0.438</td>\n",
       "      <td>3rd in nfc south</td>\n",
       "      <td>none</td>\n",
       "      <td>none</td>\n",
       "      <td>none</td>\n",
       "      <td>none</td>\n",
       "      <td>0.0</td>\n",
       "    </tr>\n",
       "    <tr>\n",
       "      <th>23</th>\n",
       "      <td>atl</td>\n",
       "      <td>2002</td>\n",
       "      <td>9</td>\n",
       "      <td>6</td>\n",
       "      <td>1</td>\n",
       "      <td>0.594</td>\n",
       "      <td>2nd in nfc south</td>\n",
       "      <td>1</td>\n",
       "      <td>1</td>\n",
       "      <td>0.5</td>\n",
       "      <td>lost to philadelphia eagles in nfc divisional ...</td>\n",
       "      <td>0.0</td>\n",
       "    </tr>\n",
       "    <tr>\n",
       "      <th>24</th>\n",
       "      <td>atl</td>\n",
       "      <td>2003</td>\n",
       "      <td>3</td>\n",
       "      <td>10</td>\n",
       "      <td>0</td>\n",
       "      <td>0.231</td>\n",
       "      <td>4th in nfc south</td>\n",
       "      <td>none</td>\n",
       "      <td>none</td>\n",
       "      <td>none</td>\n",
       "      <td>none</td>\n",
       "      <td>0.0</td>\n",
       "    </tr>\n",
       "    <tr>\n",
       "      <th>25</th>\n",
       "      <td>atl total</td>\n",
       "      <td>atl total</td>\n",
       "      <td>49</td>\n",
       "      <td>59</td>\n",
       "      <td>1</td>\n",
       "      <td>0.454</td>\n",
       "      <td>none</td>\n",
       "      <td>3</td>\n",
       "      <td>2</td>\n",
       "      <td>0.6</td>\n",
       "      <td>none</td>\n",
       "      <td>0.0</td>\n",
       "    </tr>\n",
       "    <tr>\n",
       "      <th>26</th>\n",
       "      <td>total</td>\n",
       "      <td>total</td>\n",
       "      <td>190</td>\n",
       "      <td>165</td>\n",
       "      <td>2</td>\n",
       "      <td>0.535</td>\n",
       "      <td>none</td>\n",
       "      <td>11</td>\n",
       "      <td>9</td>\n",
       "      <td>0.55</td>\n",
       "      <td>none</td>\n",
       "      <td>0.0</td>\n",
       "    </tr>\n",
       "  </tbody>\n",
       "</table>\n",
       "</div>"
      ],
      "text/plain": [
       "         team       year \"regular_season_won\" \"regular_season_lost\"  \\\n",
       "0         den       1981                   10                     6   \n",
       "1         den       1982                    2                     7   \n",
       "2         den       1983                    9                     7   \n",
       "3         den       1984                   13                     3   \n",
       "4         den       1985                   11                     5   \n",
       "5         den       1986                   11                     5   \n",
       "6         den       1987                   10                     4   \n",
       "7         den       1988                    8                     8   \n",
       "8         den       1989                   11                     5   \n",
       "9         den       1990                    5                    11   \n",
       "10        den       1991                   12                     4   \n",
       "11        den       1992                    8                     8   \n",
       "12  den total  den total                  110                    73   \n",
       "13        nyg       1993                   11                     5   \n",
       "14        nyg       1994                    9                     7   \n",
       "15        nyg       1995                    5                    11   \n",
       "16        nyg       1996                    6                    10   \n",
       "17  nyg total  nyg total                   31                    33   \n",
       "18        atl       1997                    7                     9   \n",
       "19        atl       1998                   14                     2   \n",
       "20        atl       1999                    5                    11   \n",
       "21        atl       2000                    4                    12   \n",
       "22        atl       2001                    7                     9   \n",
       "23        atl       2002                    9                     6   \n",
       "24        atl       2003                    3                    10   \n",
       "25  atl total  atl total                   49                    59   \n",
       "26      total      total                  190                   165   \n",
       "\n",
       "   \"regular_season_ties\" \"regular_season_win_%\" \"regular_season_finish\"  \\\n",
       "0                      0                  0.625         2nd in afc west   \n",
       "1                      0                  0.222         5th in afc west   \n",
       "2                      0                  0.563         2nd in afc west   \n",
       "3                      0                  0.813         1st in afc west   \n",
       "4                      0                  0.688         2nd in afc west   \n",
       "5                      0                  0.688         1st in afc west   \n",
       "6                      1                  0.714         1st in afc west   \n",
       "7                      0                    0.5         2nd in afc west   \n",
       "8                      0                  0.688         1st in afc west   \n",
       "9                      0                  0.313         5th in afc west   \n",
       "10                     0                   0.75         1st in afc west   \n",
       "11                     0                    0.5         3rd in afc west   \n",
       "12                     1                  0.601                    none   \n",
       "13                     0                  0.688         2nd in nfc east   \n",
       "14                     0                  0.563         2nd in nfc east   \n",
       "15                     0                  0.313         4th in nfc east   \n",
       "16                     0                  0.375         5th in nfc east   \n",
       "17                     0                  0.484                    none   \n",
       "18                     0                  0.438         2nd in nfc west   \n",
       "19                     0                  0.875         1st in nfc west   \n",
       "20                     0                  0.313         3rd in nfc west   \n",
       "21                     0                   0.25         5th in nfc west   \n",
       "22                     0                  0.438        3rd in nfc south   \n",
       "23                     1                  0.594        2nd in nfc south   \n",
       "24                     0                  0.231        4th in nfc south   \n",
       "25                     1                  0.454                    none   \n",
       "26                     2                  0.535                    none   \n",
       "\n",
       "   \"post_season_won\" \"post_season_lost\" \"post_season_win_%\"  \\\n",
       "0               none               none                none   \n",
       "1               none               none                none   \n",
       "2                  0                  1                   0   \n",
       "3                  0                  1                   0   \n",
       "4               none               none                none   \n",
       "5                  2                  1               0.667   \n",
       "6                  2                  1               0.667   \n",
       "7               none               none                none   \n",
       "8                  2                  1               0.667   \n",
       "9               none               none                none   \n",
       "10                 1                  1                 0.5   \n",
       "11              none               none                none   \n",
       "12                 7                  6               0.538   \n",
       "13                 1                  1                 0.5   \n",
       "14              none               none                none   \n",
       "15              none               none                none   \n",
       "16              none               none                none   \n",
       "17                 1                  1                 0.5   \n",
       "18              none               none                none   \n",
       "19                 2                  1               0.667   \n",
       "20              none               none                none   \n",
       "21              none               none                none   \n",
       "22              none               none                none   \n",
       "23                 1                  1                 0.5   \n",
       "24              none               none                none   \n",
       "25                 3                  2                 0.6   \n",
       "26                11                  9                0.55   \n",
       "\n",
       "                                 \"post_season_result\"  agg  \n",
       "0                                                none  0.0  \n",
       "1                                                none  0.0  \n",
       "2      lost to seattle seahawks in afc wild card game  0.0  \n",
       "3   lost to pittsburgh steelers in afc divisional ...  0.0  \n",
       "4                                                none  0.0  \n",
       "5           lost to new york giants in super bowl xxi  0.0  \n",
       "6      lost to washington redskins in super bowl xxii  0.0  \n",
       "7                                                none  0.0  \n",
       "8      lost to san francisco 49ers in super bowl xxiv  0.0  \n",
       "9                                                none  0.0  \n",
       "10     lost to buffalo bills in afc championship game  0.0  \n",
       "11                                               none  0.0  \n",
       "12                                               none  0.0  \n",
       "13  lost to san francisco 49ers in nfc divisional ...  0.0  \n",
       "14                                               none  0.0  \n",
       "15                                               none  0.0  \n",
       "16                                               none  0.0  \n",
       "17                                               none  0.0  \n",
       "18                                               none  0.0  \n",
       "19        lost to denver broncos in super bowl xxxiii  0.0  \n",
       "20                                               none  0.0  \n",
       "21                                               none  0.0  \n",
       "22                                               none  0.0  \n",
       "23  lost to philadelphia eagles in nfc divisional ...  0.0  \n",
       "24                                               none  0.0  \n",
       "25                                               none  0.0  \n",
       "26                                               none  0.0  "
      ]
     },
     "execution_count": 25,
     "metadata": {},
     "output_type": "execute_result"
    }
   ],
   "source": [
    "df\n"
   ]
  },
  {
   "cell_type": "code",
   "execution_count": 31,
   "id": "c3e18ca7",
   "metadata": {},
   "outputs": [
    {
     "ename": "UnboundLocalError",
     "evalue": "local variable 'R' referenced before assignment",
     "output_type": "error",
     "traceback": [
      "\u001b[0;31m---------------------------------------------------------------------------\u001b[0m",
      "\u001b[0;31mUnboundLocalError\u001b[0m                         Traceback (most recent call last)",
      "\u001b[0;32m<ipython-input-31-431c61c6f211>\u001b[0m in \u001b[0;36m<module>\u001b[0;34m\u001b[0m\n\u001b[0;32m----> 1\u001b[0;31m \u001b[0mresult0\u001b[0m \u001b[0;34m=\u001b[0m \u001b[0mto_value_list\u001b[0m\u001b[0;34m(\u001b[0m\u001b[0mG0\u001b[0m\u001b[0;34m.\u001b[0m\u001b[0mexecuted_last_node\u001b[0m\u001b[0;34m(\u001b[0m\u001b[0;34m)\u001b[0m\u001b[0;34m)\u001b[0m\u001b[0;34m\u001b[0m\u001b[0;34m\u001b[0m\u001b[0m\n\u001b[0m\u001b[1;32m      2\u001b[0m \u001b[0mresult0\u001b[0m\u001b[0;34m\u001b[0m\u001b[0;34m\u001b[0m\u001b[0m\n",
      "\u001b[0;32m~/cloud/postgraduate/works/OmniGraph/TapexGraph/sql_graph_translate/graph.py\u001b[0m in \u001b[0;36mexecuted_last_node\u001b[0;34m(self)\u001b[0m\n\u001b[1;32m     54\u001b[0m             \u001b[0mnode\u001b[0m \u001b[0;34m=\u001b[0m \u001b[0mself\u001b[0m\u001b[0;34m.\u001b[0m\u001b[0mnodes\u001b[0m\u001b[0;34m[\u001b[0m\u001b[0mlast_node\u001b[0m\u001b[0;34m[\u001b[0m\u001b[0;36m0\u001b[0m\u001b[0;34m]\u001b[0m\u001b[0;34m]\u001b[0m\u001b[0;34m\u001b[0m\u001b[0;34m\u001b[0m\u001b[0m\n\u001b[1;32m     55\u001b[0m             \u001b[0mparent_counts\u001b[0m \u001b[0;34m=\u001b[0m \u001b[0;34m{\u001b[0m\u001b[0;34m}\u001b[0m\u001b[0;34m\u001b[0m\u001b[0;34m\u001b[0m\u001b[0m\n\u001b[0;32m---> 56\u001b[0;31m             \u001b[0mresult\u001b[0m \u001b[0;34m=\u001b[0m \u001b[0mself\u001b[0m\u001b[0;34m.\u001b[0m\u001b[0mexecute_node\u001b[0m\u001b[0;34m(\u001b[0m\u001b[0mnode\u001b[0m\u001b[0;34m,\u001b[0m \u001b[0mparent_counts\u001b[0m\u001b[0;34m)\u001b[0m\u001b[0;34m\u001b[0m\u001b[0;34m\u001b[0m\u001b[0m\n\u001b[0m\u001b[1;32m     57\u001b[0m             \u001b[0mself\u001b[0m\u001b[0;34m.\u001b[0m\u001b[0mparent_counts\u001b[0m \u001b[0;34m=\u001b[0m \u001b[0mparent_counts\u001b[0m\u001b[0;34m\u001b[0m\u001b[0;34m\u001b[0m\u001b[0m\n\u001b[1;32m     58\u001b[0m             \u001b[0mself\u001b[0m\u001b[0;34m.\u001b[0m\u001b[0mremove_operator_comp\u001b[0m\u001b[0;34m(\u001b[0m\u001b[0;34m)\u001b[0m\u001b[0;34m\u001b[0m\u001b[0;34m\u001b[0m\u001b[0m\n",
      "\u001b[0;32m~/cloud/postgraduate/works/OmniGraph/TapexGraph/sql_graph_translate/graph.py\u001b[0m in \u001b[0;36mexecute_node\u001b[0;34m(self, node, parent_counts)\u001b[0m\n\u001b[1;32m     25\u001b[0m \u001b[0;34m\u001b[0m\u001b[0m\n\u001b[1;32m     26\u001b[0m         \u001b[0;31m# Execute all operands first and collect their results\u001b[0m\u001b[0;34m\u001b[0m\u001b[0;34m\u001b[0m\u001b[0;34m\u001b[0m\u001b[0m\n\u001b[0;32m---> 27\u001b[0;31m         \u001b[0moperand_results\u001b[0m \u001b[0;34m=\u001b[0m \u001b[0;34m[\u001b[0m\u001b[0mself\u001b[0m\u001b[0;34m.\u001b[0m\u001b[0mexecute_node\u001b[0m\u001b[0;34m(\u001b[0m\u001b[0moperand\u001b[0m\u001b[0;34m,\u001b[0m \u001b[0mparent_counts\u001b[0m\u001b[0;34m)\u001b[0m \u001b[0;32mfor\u001b[0m \u001b[0moperand\u001b[0m \u001b[0;32min\u001b[0m \u001b[0mnode\u001b[0m\u001b[0;34m.\u001b[0m\u001b[0moperands\u001b[0m\u001b[0;34m]\u001b[0m\u001b[0;34m\u001b[0m\u001b[0;34m\u001b[0m\u001b[0m\n\u001b[0m\u001b[1;32m     28\u001b[0m \u001b[0;34m\u001b[0m\u001b[0m\n\u001b[1;32m     29\u001b[0m         \u001b[0;31m# Execute the node with the results of its operands\u001b[0m\u001b[0;34m\u001b[0m\u001b[0;34m\u001b[0m\u001b[0;34m\u001b[0m\u001b[0m\n",
      "\u001b[0;32m~/cloud/postgraduate/works/OmniGraph/TapexGraph/sql_graph_translate/graph.py\u001b[0m in \u001b[0;36m<listcomp>\u001b[0;34m(.0)\u001b[0m\n\u001b[1;32m     25\u001b[0m \u001b[0;34m\u001b[0m\u001b[0m\n\u001b[1;32m     26\u001b[0m         \u001b[0;31m# Execute all operands first and collect their results\u001b[0m\u001b[0;34m\u001b[0m\u001b[0;34m\u001b[0m\u001b[0;34m\u001b[0m\u001b[0m\n\u001b[0;32m---> 27\u001b[0;31m         \u001b[0moperand_results\u001b[0m \u001b[0;34m=\u001b[0m \u001b[0;34m[\u001b[0m\u001b[0mself\u001b[0m\u001b[0;34m.\u001b[0m\u001b[0mexecute_node\u001b[0m\u001b[0;34m(\u001b[0m\u001b[0moperand\u001b[0m\u001b[0;34m,\u001b[0m \u001b[0mparent_counts\u001b[0m\u001b[0;34m)\u001b[0m \u001b[0;32mfor\u001b[0m \u001b[0moperand\u001b[0m \u001b[0;32min\u001b[0m \u001b[0mnode\u001b[0m\u001b[0;34m.\u001b[0m\u001b[0moperands\u001b[0m\u001b[0;34m]\u001b[0m\u001b[0;34m\u001b[0m\u001b[0;34m\u001b[0m\u001b[0m\n\u001b[0m\u001b[1;32m     28\u001b[0m \u001b[0;34m\u001b[0m\u001b[0m\n\u001b[1;32m     29\u001b[0m         \u001b[0;31m# Execute the node with the results of its operands\u001b[0m\u001b[0;34m\u001b[0m\u001b[0;34m\u001b[0m\u001b[0;34m\u001b[0m\u001b[0m\n",
      "\u001b[0;32m~/cloud/postgraduate/works/OmniGraph/TapexGraph/sql_graph_translate/graph.py\u001b[0m in \u001b[0;36mexecute_node\u001b[0;34m(self, node, parent_counts)\u001b[0m\n\u001b[1;32m     28\u001b[0m \u001b[0;34m\u001b[0m\u001b[0m\n\u001b[1;32m     29\u001b[0m         \u001b[0;31m# Execute the node with the results of its operands\u001b[0m\u001b[0;34m\u001b[0m\u001b[0;34m\u001b[0m\u001b[0;34m\u001b[0m\u001b[0m\n\u001b[0;32m---> 30\u001b[0;31m         \u001b[0mresult\u001b[0m \u001b[0;34m=\u001b[0m \u001b[0mnode\u001b[0m\u001b[0;34m.\u001b[0m\u001b[0mexecute\u001b[0m\u001b[0;34m(\u001b[0m\u001b[0moperand_results\u001b[0m\u001b[0;34m)\u001b[0m\u001b[0;34m\u001b[0m\u001b[0;34m\u001b[0m\u001b[0m\n\u001b[0m\u001b[1;32m     31\u001b[0m \u001b[0;34m\u001b[0m\u001b[0m\n\u001b[1;32m     32\u001b[0m         \u001b[0;31m# Store the result in the cache\u001b[0m\u001b[0;34m\u001b[0m\u001b[0;34m\u001b[0m\u001b[0;34m\u001b[0m\u001b[0m\n",
      "\u001b[0;32m~/cloud/postgraduate/works/OmniGraph/TapexGraph/sql_graph_translate/nodes.py\u001b[0m in \u001b[0;36mexecute\u001b[0;34m(self, operand_results)\u001b[0m\n\u001b[1;32m    575\u001b[0m         \u001b[0mdirection\u001b[0m \u001b[0;34m=\u001b[0m \u001b[0mself\u001b[0m\u001b[0;34m.\u001b[0m\u001b[0mparameter\u001b[0m\u001b[0;34m.\u001b[0m\u001b[0msplit\u001b[0m\u001b[0;34m(\u001b[0m\u001b[0;34m' '\u001b[0m\u001b[0;34m)\u001b[0m\u001b[0;34m[\u001b[0m\u001b[0;36m1\u001b[0m\u001b[0;34m]\u001b[0m \u001b[0;32mif\u001b[0m \u001b[0mself\u001b[0m\u001b[0;34m.\u001b[0m\u001b[0mparameter\u001b[0m\u001b[0;34m!=\u001b[0m\u001b[0;34m\"ob\"\u001b[0m \u001b[0;32melse\u001b[0m \u001b[0;34m\"ob\"\u001b[0m\u001b[0;34m\u001b[0m\u001b[0;34m\u001b[0m\u001b[0m\n\u001b[1;32m    576\u001b[0m         \u001b[0mascending\u001b[0m \u001b[0;34m=\u001b[0m \u001b[0;32mFalse\u001b[0m \u001b[0;32mif\u001b[0m \u001b[0mdirection\u001b[0m \u001b[0;34m==\u001b[0m \u001b[0;34m\"desc\"\u001b[0m \u001b[0;32melse\u001b[0m \u001b[0;32mTrue\u001b[0m\u001b[0;34m\u001b[0m\u001b[0;34m\u001b[0m\u001b[0m\n\u001b[0;32m--> 577\u001b[0;31m         \u001b[0mresult\u001b[0m \u001b[0;34m=\u001b[0m \u001b[0mR\u001b[0m\u001b[0;34m.\u001b[0m\u001b[0msort_values\u001b[0m\u001b[0;34m(\u001b[0m\u001b[0mby\u001b[0m\u001b[0;34m=\u001b[0m\u001b[0;34m'R2'\u001b[0m\u001b[0;34m,\u001b[0m \u001b[0mascending\u001b[0m\u001b[0;34m=\u001b[0m\u001b[0mascending\u001b[0m \u001b[0;34m)\u001b[0m\u001b[0;34m[\u001b[0m\u001b[0;34m\"R1\"\u001b[0m\u001b[0;34m]\u001b[0m\u001b[0;34m\u001b[0m\u001b[0;34m\u001b[0m\u001b[0m\n\u001b[0m\u001b[1;32m    578\u001b[0m         \u001b[0;32mif\u001b[0m \u001b[0mascending\u001b[0m \u001b[0;34m==\u001b[0m \u001b[0;32mFalse\u001b[0m \u001b[0;32mand\u001b[0m \u001b[0mlen\u001b[0m\u001b[0;34m(\u001b[0m\u001b[0mR\u001b[0m\u001b[0;34m[\u001b[0m\u001b[0;34m\"R2\"\u001b[0m\u001b[0;34m]\u001b[0m\u001b[0;34m.\u001b[0m\u001b[0munique\u001b[0m\u001b[0;34m(\u001b[0m\u001b[0;34m)\u001b[0m\u001b[0;34m)\u001b[0m\u001b[0;34m==\u001b[0m\u001b[0;36m1\u001b[0m\u001b[0;34m:\u001b[0m\u001b[0;34m\u001b[0m\u001b[0;34m\u001b[0m\u001b[0m\n\u001b[1;32m    579\u001b[0m             \u001b[0mall_lists\u001b[0m \u001b[0;34m=\u001b[0m \u001b[0mall\u001b[0m\u001b[0;34m(\u001b[0m\u001b[0misinstance\u001b[0m\u001b[0;34m(\u001b[0m\u001b[0mitem\u001b[0m\u001b[0;34m,\u001b[0m \u001b[0mlist\u001b[0m\u001b[0;34m)\u001b[0m \u001b[0;32mor\u001b[0m \u001b[0mitem\u001b[0m \u001b[0;32mis\u001b[0m \u001b[0;32mNone\u001b[0m \u001b[0;32mfor\u001b[0m \u001b[0mitem\u001b[0m \u001b[0;32min\u001b[0m \u001b[0mresult\u001b[0m\u001b[0;34m)\u001b[0m\u001b[0;34m\u001b[0m\u001b[0;34m\u001b[0m\u001b[0m\n",
      "\u001b[0;31mUnboundLocalError\u001b[0m: local variable 'R' referenced before assignment"
     ]
    }
   ],
   "source": [
    "result0 = to_value_list(G0.executed_last_node())\n",
    "result0"
   ]
  },
  {
   "cell_type": "code",
   "execution_count": 417,
   "id": "b211b1df",
   "metadata": {},
   "outputs": [
    {
     "data": {
      "text/plain": [
       "'lost to denver broncos in super bowl xxxiii'"
      ]
     },
     "execution_count": 417,
     "metadata": {},
     "output_type": "execute_result"
    }
   ],
   "source": [
    "train_tgt[28050]"
   ]
  },
  {
   "cell_type": "code",
   "execution_count": 32,
   "id": "1c4e3b80",
   "metadata": {},
   "outputs": [],
   "source": [
    "Omega_includes = [\n",
    "                    [\"P\"],\n",
    "                    [\"P\",\"C\"],\n",
    "                    [\"P\",\"C\",\"S\"],\n",
    "                    [\"P\",\"C\",\"S\",\"GB\",\"H\"],\n",
    "                    [\"P\",\"C\",\"S\",\"GB\",\"H\",\"OB\"],\n",
    "                    [\"P\",\"C\",\"S\",\"GB\",\"H\",\"OB\",\"A\"],\n",
    "                    [\"P\",\"C\",\"S\",\"GB\",\"H\",\"OB\",\"A\",\"OP\"],\n",
    "                    [\"P\",\"C\",\"S\",\"GB\",\"H\",\"OB\",\"A\",\"OP\",\"L\"]]\n",
    "Omega_include = Omega_includes[2]"
   ]
  },
  {
   "cell_type": "code",
   "execution_count": 238,
   "id": "b5ad1000",
   "metadata": {},
   "outputs": [
    {
     "data": {
      "text/plain": [
       "['P', 'C', 'S']"
      ]
     },
     "execution_count": 238,
     "metadata": {},
     "output_type": "execute_result"
    }
   ],
   "source": [
    "Omega_includes[2]"
   ]
  },
  {
   "cell_type": "code",
   "execution_count": 33,
   "id": "5eebf583",
   "metadata": {},
   "outputs": [],
   "source": [
    "result0 = to_value_list(G0.executed_last_node())\n",
    "flatten_sequence = G0.linearize_graph(Omega_include, flatten_mode=flatten_mode)\n",
    "#G1 = parse(flatten_sequence, header, flatten_mode=flatten_mode)\n",
    "\n",
    "\n",
    "#logging.info(\"Flatten sequence: %s\", flatten_sequence)\n",
    "#result1 = to_value_list(G1.executed_last_node())"
   ]
  },
  {
   "cell_type": "code",
   "execution_count": 240,
   "id": "7dd84f89",
   "metadata": {},
   "outputs": [
    {
     "data": {
      "text/plain": [
       "'l 1 ||ob ob ||moca ||angela maria garcia ruiz ||'"
      ]
     },
     "execution_count": 240,
     "metadata": {},
     "output_type": "execute_result"
    }
   ],
   "source": [
    "flatten_sequence"
   ]
  },
  {
   "cell_type": "markdown",
   "id": "58f3c380",
   "metadata": {},
   "source": []
  },
  {
   "cell_type": "code",
   "execution_count": 76,
   "id": "801a3383",
   "metadata": {},
   "outputs": [],
   "source": [
    "test = \"select number where language = 'total' col : language | number | percentage (%) | males | females row 1 : polish | 1420436 | 73.52 | 687210 | 733226 row 2 : yiddish | 317169 | 16.41 | 154603 | 162566 row 3 : russian | 87850 | 4.54 | 13551 | 1586 row 4 : german | 77160 | 3.99 | 37984 | 39176 row 5 : ukrainian | 15930 | 0.82 | 15623 | 307 row 6 : romanian | 2299 | >0.01 | 2293 | 6 row 7 : latvian | 1759 | >0.01 | 1738 | 21 row 8 : estonian | 1566 | >0.01 | 1555 | 11 row 9 : tatar | 1473 | >0.01 | 1437 | 36 row 10 : belarusian | 1343 | >0.01 | 1234 | 109 row 11 : other | 4824 | 0.24 | 3289 | 1535 row 12 : persons that didn't name their native language | 54 | >0.01 | 33 | 21 row 13 : total | 1931867 | 100 | 977948 | 953919\""
   ]
  },
  {
   "cell_type": "code",
   "execution_count": 65,
   "id": "d8e489d1",
   "metadata": {},
   "outputs": [
    {
     "name": "stdout",
     "output_type": "stream",
     "text": [
      "select number where language = 'total'\n"
     ]
    },
    {
     "ename": "TypeError",
     "evalue": "'NoneType' object is not subscriptable",
     "output_type": "error",
     "traceback": [
      "\u001b[0;31m---------------------------------------------------------------------------\u001b[0m",
      "\u001b[0;31mTypeError\u001b[0m                                 Traceback (most recent call last)",
      "\u001b[0;32m<ipython-input-65-1b256887866c>\u001b[0m in \u001b[0;36m<module>\u001b[0;34m\u001b[0m\n\u001b[1;32m      7\u001b[0m \u001b[0msql\u001b[0m  \u001b[0;34m=\u001b[0m \u001b[0msql\u001b[0m\u001b[0;34m.\u001b[0m\u001b[0mstrip\u001b[0m\u001b[0;34m(\u001b[0m\u001b[0;34m)\u001b[0m\u001b[0;34m\u001b[0m\u001b[0;34m\u001b[0m\u001b[0m\n\u001b[1;32m      8\u001b[0m \u001b[0mlin_table\u001b[0m \u001b[0;34m=\u001b[0m \u001b[0;34m\" col : \"\u001b[0m\u001b[0;34m+\u001b[0m\u001b[0mtest\u001b[0m\u001b[0;34m.\u001b[0m\u001b[0msplit\u001b[0m\u001b[0;34m(\u001b[0m\u001b[0;34m\" col : \"\u001b[0m \u001b[0;34m)\u001b[0m\u001b[0;34m[\u001b[0m\u001b[0;36m1\u001b[0m\u001b[0;34m]\u001b[0m\u001b[0;34m\u001b[0m\u001b[0;34m\u001b[0m\u001b[0m\n\u001b[0;32m----> 9\u001b[0;31m \u001b[0mdf\u001b[0m \u001b[0;34m=\u001b[0m \u001b[0mdeserializ_tapex_linear_table\u001b[0m\u001b[0;34m(\u001b[0m\u001b[0mlin_table\u001b[0m\u001b[0;34m)\u001b[0m\u001b[0;34m\u001b[0m\u001b[0;34m\u001b[0m\u001b[0m\n\u001b[0m",
      "\u001b[0;32m<ipython-input-60-84ace37544a2>\u001b[0m in \u001b[0;36mdeserializ_tapex_linear_table\u001b[0;34m(linear_table)\u001b[0m\n\u001b[1;32m      7\u001b[0m     \u001b[0mcoll_delimetr\u001b[0m \u001b[0;34m=\u001b[0m \u001b[0;34m\" | \"\u001b[0m\u001b[0;34m\u001b[0m\u001b[0;34m\u001b[0m\u001b[0m\n\u001b[1;32m      8\u001b[0m     heads = [h.strip() for h in \n\u001b[0;32m----> 9\u001b[0;31m              re.search(head_pattern,linear_table)[0].lstrip(\"col :\").rstrip(\"row 1 :\").split(coll_delimetr)]\n\u001b[0m\u001b[1;32m     10\u001b[0m     \u001b[0mrows\u001b[0m \u001b[0;34m=\u001b[0m \u001b[0;34m[\u001b[0m\u001b[0;34m[\u001b[0m\u001b[0mr\u001b[0m\u001b[0;34m.\u001b[0m\u001b[0mstrip\u001b[0m\u001b[0;34m(\u001b[0m\u001b[0;34m)\u001b[0m \u001b[0;32mfor\u001b[0m \u001b[0mr\u001b[0m \u001b[0;32min\u001b[0m \u001b[0mrow\u001b[0m\u001b[0;34m.\u001b[0m\u001b[0msplit\u001b[0m\u001b[0;34m(\u001b[0m\u001b[0mcoll_delimetr\u001b[0m\u001b[0;34m)\u001b[0m\u001b[0;34m]\u001b[0m \u001b[0;32mfor\u001b[0m \u001b[0mrow\u001b[0m \u001b[0;32min\u001b[0m \u001b[0mre\u001b[0m\u001b[0;34m.\u001b[0m\u001b[0msplit\u001b[0m\u001b[0;34m(\u001b[0m\u001b[0mrow_pattern\u001b[0m\u001b[0;34m,\u001b[0m\u001b[0mlinear_table\u001b[0m\u001b[0;34m)\u001b[0m\u001b[0;34m[\u001b[0m\u001b[0;36m1\u001b[0m\u001b[0;34m:\u001b[0m\u001b[0;34m]\u001b[0m\u001b[0;34m]\u001b[0m\u001b[0;34m\u001b[0m\u001b[0;34m\u001b[0m\u001b[0m\n\u001b[1;32m     11\u001b[0m     \u001b[0;32mreturn\u001b[0m \u001b[0mpd\u001b[0m\u001b[0;34m.\u001b[0m\u001b[0mDataFrame\u001b[0m\u001b[0;34m(\u001b[0m\u001b[0mrows\u001b[0m\u001b[0;34m,\u001b[0m\u001b[0mcolumns\u001b[0m\u001b[0;34m=\u001b[0m\u001b[0mheads\u001b[0m\u001b[0;34m)\u001b[0m\u001b[0;34m\u001b[0m\u001b[0;34m\u001b[0m\u001b[0m\n",
      "\u001b[0;31mTypeError\u001b[0m: 'NoneType' object is not subscriptable"
     ]
    }
   ],
   "source": [
    "pattern = ' col : '\n",
    "try:\n",
    "    sql,_ = test.split(pattern)\n",
    "    print(sql)\n",
    "except Exception as e:\n",
    "    print(e)\n",
    "sql  = sql.strip()\n",
    "lin_table = \" col : \"+test.split(\" col : \" )[1]\n",
    "df = deserializ_tapex_linear_table(lin_table)"
   ]
  },
  {
   "cell_type": "code",
   "execution_count": 75,
   "id": "73dd34fb",
   "metadata": {},
   "outputs": [
    {
     "data": {
      "text/plain": [
       "' col : language | number | percentage (%) | males | females row 1 : '"
      ]
     },
     "execution_count": 75,
     "metadata": {},
     "output_type": "execute_result"
    }
   ],
   "source": [
    "re.search(head_pattern,lin_table)[0]"
   ]
  },
  {
   "cell_type": "code",
   "execution_count": 72,
   "id": "c16007eb",
   "metadata": {},
   "outputs": [],
   "source": [
    "head_pattern = r\" col :(.*) row 1 : \"\n",
    "row_pattern = \" row {num} : \"\n",
    "coll_delimetr = \" | \""
   ]
  },
  {
   "cell_type": "code",
   "execution_count": 74,
   "id": "7acee564",
   "metadata": {},
   "outputs": [
    {
     "data": {
      "text/plain": [
       "\" col : language | number | percentage (%) | males | females row 1 : polish | 1420436 | 73.52 | 687210 | 733226 row 2 : yiddish | 317169 | 16.41 | 154603 | 162566 row 3 : russian | 87850 | 4.54 | 13551 | 1586 row 4 : german | 77160 | 3.99 | 37984 | 39176 row 5 : ukrainian | 15930 | 0.82 | 15623 | 307 row 6 : romanian | 2299 | >0.01 | 2293 | 6 row 7 : latvian | 1759 | >0.01 | 1738 | 21 row 8 : estonian | 1566 | >0.01 | 1555 | 11 row 9 : tatar | 1473 | >0.01 | 1437 | 36 row 10 : belarusian | 1343 | >0.01 | 1234 | 109 row 11 : other | 4824 | 0.24 | 3289 | 1535 row 12 : persons that didn't name their native language | 54 | >0.01 | 33 | 21 row 13 : total | 1931867 | 100 | 977948 | 953919\""
      ]
     },
     "execution_count": 74,
     "metadata": {},
     "output_type": "execute_result"
    }
   ],
   "source": [
    "lin_table"
   ]
  },
  {
   "cell_type": "code",
   "execution_count": 77,
   "id": "5d2838fe",
   "metadata": {},
   "outputs": [
    {
     "name": "stdout",
     "output_type": "stream",
     "text": [
      "select number where language = 'total'\n"
     ]
    },
    {
     "ename": "TypeError",
     "evalue": "'NoneType' object is not subscriptable",
     "output_type": "error",
     "traceback": [
      "\u001b[0;31m---------------------------------------------------------------------------\u001b[0m",
      "\u001b[0;31mTypeError\u001b[0m                                 Traceback (most recent call last)",
      "\u001b[0;32m<ipython-input-77-8b533209ad7b>\u001b[0m in \u001b[0;36m<module>\u001b[0;34m\u001b[0m\n\u001b[0;32m----> 1\u001b[0;31m \u001b[0mtranslate_query_to_graph_form\u001b[0m\u001b[0;34m(\u001b[0m\u001b[0mtest\u001b[0m\u001b[0;34m)\u001b[0m\u001b[0;34m\u001b[0m\u001b[0;34m\u001b[0m\u001b[0m\n\u001b[0m",
      "\u001b[0;32m<ipython-input-64-b29062fe337b>\u001b[0m in \u001b[0;36mtranslate_query_to_graph_form\u001b[0;34m(query, flatten_mode, Omega_include)\u001b[0m\n\u001b[1;32m      8\u001b[0m         \u001b[0mprint\u001b[0m\u001b[0;34m(\u001b[0m\u001b[0me\u001b[0m\u001b[0;34m)\u001b[0m\u001b[0;34m\u001b[0m\u001b[0;34m\u001b[0m\u001b[0m\n\u001b[1;32m      9\u001b[0m     \u001b[0msql\u001b[0m  \u001b[0;34m=\u001b[0m \u001b[0msql\u001b[0m\u001b[0;34m.\u001b[0m\u001b[0mstrip\u001b[0m\u001b[0;34m(\u001b[0m\u001b[0;34m)\u001b[0m\u001b[0;34m\u001b[0m\u001b[0;34m\u001b[0m\u001b[0m\n\u001b[0;32m---> 10\u001b[0;31m     \u001b[0mdf\u001b[0m \u001b[0;34m=\u001b[0m \u001b[0mdeserializ_tapex_linear_table\u001b[0m\u001b[0;34m(\u001b[0m\u001b[0;34m\" col : \"\u001b[0m\u001b[0;34m+\u001b[0m\u001b[0mquery\u001b[0m\u001b[0;34m.\u001b[0m\u001b[0msplit\u001b[0m\u001b[0;34m(\u001b[0m\u001b[0;34m\" col : \"\u001b[0m\u001b[0;34m)\u001b[0m\u001b[0;34m[\u001b[0m\u001b[0;36m1\u001b[0m\u001b[0;34m]\u001b[0m\u001b[0;34m)\u001b[0m\u001b[0;34m\u001b[0m\u001b[0;34m\u001b[0m\u001b[0m\n\u001b[0m\u001b[1;32m     11\u001b[0m \u001b[0;34m\u001b[0m\u001b[0m\n\u001b[1;32m     12\u001b[0m     \u001b[0mnew_column_names\u001b[0m \u001b[0;34m=\u001b[0m \u001b[0;34m[\u001b[0m\u001b[0;34m]\u001b[0m\u001b[0;34m\u001b[0m\u001b[0;34m\u001b[0m\u001b[0m\n",
      "\u001b[0;32m<ipython-input-60-84ace37544a2>\u001b[0m in \u001b[0;36mdeserializ_tapex_linear_table\u001b[0;34m(linear_table)\u001b[0m\n\u001b[1;32m      7\u001b[0m     \u001b[0mcoll_delimetr\u001b[0m \u001b[0;34m=\u001b[0m \u001b[0;34m\" | \"\u001b[0m\u001b[0;34m\u001b[0m\u001b[0;34m\u001b[0m\u001b[0m\n\u001b[1;32m      8\u001b[0m     heads = [h.strip() for h in \n\u001b[0;32m----> 9\u001b[0;31m              re.search(head_pattern,linear_table)[0].lstrip(\"col :\").rstrip(\"row 1 :\").split(coll_delimetr)]\n\u001b[0m\u001b[1;32m     10\u001b[0m     \u001b[0mrows\u001b[0m \u001b[0;34m=\u001b[0m \u001b[0;34m[\u001b[0m\u001b[0;34m[\u001b[0m\u001b[0mr\u001b[0m\u001b[0;34m.\u001b[0m\u001b[0mstrip\u001b[0m\u001b[0;34m(\u001b[0m\u001b[0;34m)\u001b[0m \u001b[0;32mfor\u001b[0m \u001b[0mr\u001b[0m \u001b[0;32min\u001b[0m \u001b[0mrow\u001b[0m\u001b[0;34m.\u001b[0m\u001b[0msplit\u001b[0m\u001b[0;34m(\u001b[0m\u001b[0mcoll_delimetr\u001b[0m\u001b[0;34m)\u001b[0m\u001b[0;34m]\u001b[0m \u001b[0;32mfor\u001b[0m \u001b[0mrow\u001b[0m \u001b[0;32min\u001b[0m \u001b[0mre\u001b[0m\u001b[0;34m.\u001b[0m\u001b[0msplit\u001b[0m\u001b[0;34m(\u001b[0m\u001b[0mrow_pattern\u001b[0m\u001b[0;34m,\u001b[0m\u001b[0mlinear_table\u001b[0m\u001b[0;34m)\u001b[0m\u001b[0;34m[\u001b[0m\u001b[0;36m1\u001b[0m\u001b[0;34m:\u001b[0m\u001b[0;34m]\u001b[0m\u001b[0;34m]\u001b[0m\u001b[0;34m\u001b[0m\u001b[0;34m\u001b[0m\u001b[0m\n\u001b[1;32m     11\u001b[0m     \u001b[0;32mreturn\u001b[0m \u001b[0mpd\u001b[0m\u001b[0;34m.\u001b[0m\u001b[0mDataFrame\u001b[0m\u001b[0;34m(\u001b[0m\u001b[0mrows\u001b[0m\u001b[0;34m,\u001b[0m\u001b[0mcolumns\u001b[0m\u001b[0;34m=\u001b[0m\u001b[0mheads\u001b[0m\u001b[0;34m)\u001b[0m\u001b[0;34m\u001b[0m\u001b[0;34m\u001b[0m\u001b[0m\n",
      "\u001b[0;31mTypeError\u001b[0m: 'NoneType' object is not subscriptable"
     ]
    }
   ],
   "source": [
    "translate_query_to_graph_form(test)"
   ]
  },
  {
   "cell_type": "code",
   "execution_count": 36,
   "id": "77598125",
   "metadata": {},
   "outputs": [
    {
     "data": {
      "image/png": "[encoded data removed]",
      "text/plain": [
       "<Figure size 1296x792 with 1 Axes>"
      ]
     },
     "metadata": {},
     "output_type": "display_data"
    }
   ],
   "source": [
    "G0.create_cool_dag()"
   ]
  },
  {
   "cell_type": "code",
   "execution_count": 33,
   "id": "4e6fe310",
   "metadata": {},
   "outputs": [
    {
     "data": {
      "text/plain": [
       "[('N11', 'N26'), ('N15', 'N26'), ('N12', 'N14'), ('N2', 'N12')]"
      ]
     },
     "execution_count": 33,
     "metadata": {},
     "output_type": "execute_result"
    }
   ],
   "source": [
    "G0.edges"
   ]
  },
  {
   "cell_type": "code",
   "execution_count": 87,
   "id": "ff6933a2",
   "metadata": {},
   "outputs": [
    {
     "data": {
      "text/plain": [
       "{'N22': <sql_graph_translate.nodes.Projection at 0x7fabd4491040>,\n",
       " 'N14': <sql_graph_translate.nodes.OrderBy at 0x7fabd4491370>,\n",
       " 'N6': <sql_graph_translate.nodes.Limit at 0x7fabd4491610>,\n",
       " 'N17': <sql_graph_translate.nodes.Projection at 0x7fabd44910a0>}"
      ]
     },
     "execution_count": 87,
     "metadata": {},
     "output_type": "execute_result"
    }
   ],
   "source": [
    "G0.nodes\n"
   ]
  },
  {
   "cell_type": "code",
   "execution_count": 35,
   "id": "668df34e",
   "metadata": {},
   "outputs": [
    {
     "name": "stdout",
     "output_type": "stream",
     "text": [
      "0                                                  none\n",
      "1                                                  none\n",
      "2        lost to seattle seahawks in afc wild card game\n",
      "3     lost to pittsburgh steelers in afc divisional ...\n",
      "4                                                  none\n",
      "5             lost to new york giants in super bowl xxi\n",
      "6        lost to washington redskins in super bowl xxii\n",
      "7                                                  none\n",
      "8        lost to san francisco 49ers in super bowl xxiv\n",
      "9                                                  none\n",
      "10       lost to buffalo bills in afc championship game\n",
      "11                                                 none\n",
      "12                                                 none\n",
      "13    lost to san francisco 49ers in nfc divisional ...\n",
      "14                                                 none\n",
      "15                                                 none\n",
      "16                                                 none\n",
      "17                                                 none\n",
      "18                                                 none\n",
      "19          lost to denver broncos in super bowl xxxiii\n",
      "20                                                 none\n",
      "21                                                 none\n",
      "22                                                 none\n",
      "23    lost to philadelphia eagles in nfc divisional ...\n",
      "24                                                 none\n",
      "25                                                 none\n",
      "26                                                 none\n",
      "Name: \"post_season_result\", dtype: object\n",
      "19          lost to denver broncos in super bowl xxxiii\n",
      "3     lost to pittsburgh steelers in afc divisional ...\n",
      "10       lost to buffalo bills in afc championship game\n",
      "6        lost to washington redskins in super bowl xxii\n",
      "13    lost to san francisco 49ers in nfc divisional ...\n",
      "8        lost to san francisco 49ers in super bowl xxiv\n",
      "4                                                  none\n",
      "5             lost to new york giants in super bowl xxi\n",
      "0                                                  none\n",
      "12                                                 none\n",
      "23    lost to philadelphia eagles in nfc divisional ...\n",
      "2        lost to seattle seahawks in afc wild card game\n",
      "14                                                 none\n",
      "26                                                 none\n",
      "11                                                 none\n",
      "7                                                  none\n",
      "17                                                 none\n",
      "25                                                 none\n",
      "22                                                 none\n",
      "18                                                 none\n",
      "16                                                 none\n",
      "20                                                 none\n",
      "15                                                 none\n",
      "9                                                  none\n",
      "21                                                 none\n",
      "24                                                 none\n",
      "1                                                  none\n",
      "Name: R1, dtype: object\n",
      "19    lost to denver broncos in super bowl xxxiii\n",
      "Name: R1, dtype: object\n",
      "0     0.625\n",
      "1     0.222\n",
      "2     0.563\n",
      "3     0.813\n",
      "4     0.688\n",
      "5     0.688\n",
      "6     0.714\n",
      "7       0.5\n",
      "8     0.688\n",
      "9     0.313\n",
      "10     0.75\n",
      "11      0.5\n",
      "12    0.601\n",
      "13    0.688\n",
      "14    0.563\n",
      "15    0.313\n",
      "16    0.375\n",
      "17    0.484\n",
      "18    0.438\n",
      "19    0.875\n",
      "20    0.313\n",
      "21     0.25\n",
      "22    0.438\n",
      "23    0.594\n",
      "24    0.231\n",
      "25    0.454\n",
      "26    0.535\n",
      "Name: \"regular_season_win_%\", dtype: object\n"
     ]
    }
   ],
   "source": [
    "for n in G0.nodes.values():\n",
    "    #print(n.node_name,n.is_exec,n.parameter)\n",
    "    print(n.result)"
   ]
  },
  {
   "cell_type": "code",
   "execution_count": 336,
   "id": "3429721e",
   "metadata": {},
   "outputs": [
    {
     "ename": "ImportError",
     "evalue": "cannot import name 'directions' from 'sql_graph_translate.utils' (/home/jovyan/cloud/postgraduate/works/OmniGraph/TapexGraph/sql_graph_translate/utils.py)",
     "output_type": "error",
     "traceback": [
      "\u001b[0;31m---------------------------------------------------------------------------\u001b[0m",
      "\u001b[0;31mImportError\u001b[0m                               Traceback (most recent call last)",
      "\u001b[0;32m<ipython-input-336-21d2a07834ea>\u001b[0m in \u001b[0;36m<module>\u001b[0;34m\u001b[0m\n\u001b[0;32m----> 1\u001b[0;31m \u001b[0;32mfrom\u001b[0m \u001b[0msql_graph_translate\u001b[0m\u001b[0;34m.\u001b[0m\u001b[0mutils\u001b[0m \u001b[0;32mimport\u001b[0m \u001b[0mfind_neighboor\u001b[0m\u001b[0;34m,\u001b[0m \u001b[0mfind_last_edges\u001b[0m\u001b[0;34m,\u001b[0m \u001b[0mfind_first_edges\u001b[0m\u001b[0;34m,\u001b[0m \u001b[0mremove_edges_first\u001b[0m\u001b[0;34m,\u001b[0m \u001b[0mcompare_objects\u001b[0m\u001b[0;34m,\u001b[0m\u001b[0mdirections\u001b[0m\u001b[0;34m\u001b[0m\u001b[0;34m\u001b[0m\u001b[0m\n\u001b[0m",
      "\u001b[0;31mImportError\u001b[0m: cannot import name 'directions' from 'sql_graph_translate.utils' (/home/jovyan/cloud/postgraduate/works/OmniGraph/TapexGraph/sql_graph_translate/utils.py)"
     ]
    }
   ],
   "source": [
    "from sql_graph_translate.utils import find_neighboor, find_last_edges, find_first_edges, remove_edges_first, compare_objects\n"
   ]
  },
  {
   "cell_type": "code",
   "execution_count": 36,
   "id": "d9189e59",
   "metadata": {},
   "outputs": [],
   "source": [
    "G0.mapping_exec"
   ]
  },
  {
   "cell_type": "code",
   "execution_count": 31,
   "id": "8c844a7a",
   "metadata": {},
   "outputs": [
    {
     "ename": "NameError",
     "evalue": "name 'Omega_includes' is not defined",
     "output_type": "error",
     "traceback": [
      "\u001b[0;31m---------------------------------------------------------------------------\u001b[0m",
      "\u001b[0;31mNameError\u001b[0m                                 Traceback (most recent call last)",
      "\u001b[0;32m<ipython-input-31-8f2d6a690168>\u001b[0m in \u001b[0;36m<module>\u001b[0;34m\u001b[0m\n\u001b[0;32m----> 1\u001b[0;31m \u001b[0mG0\u001b[0m\u001b[0;34m.\u001b[0m\u001b[0mlinearize_graph\u001b[0m\u001b[0;34m(\u001b[0m\u001b[0mOmega_includes\u001b[0m\u001b[0;34m[\u001b[0m\u001b[0;34m-\u001b[0m\u001b[0;36m1\u001b[0m\u001b[0;34m]\u001b[0m\u001b[0;34m)\u001b[0m\u001b[0;34m\u001b[0m\u001b[0;34m\u001b[0m\u001b[0m\n\u001b[0m",
      "\u001b[0;31mNameError\u001b[0m: name 'Omega_includes' is not defined"
     ]
    }
   ],
   "source": [
    "G0.linearize_graph(Omega_includes[-1])"
   ]
  },
  {
   "cell_type": "code",
   "execution_count": 16,
   "id": "ac2e64ae",
   "metadata": {},
   "outputs": [],
   "source": [
    "from sql_graph_translate.utils import find_first_edges"
   ]
  },
  {
   "cell_type": "code",
   "execution_count": 17,
   "id": "cb222bb6",
   "metadata": {},
   "outputs": [],
   "source": [
    "def find_layer_neighboors(parent_node_names,edges):\n",
    "    layer_neighboors = []\n",
    "    for node in parent_node_names:\n",
    "        layer_neighboors.extend(find_neighboors(node,edges))\n",
    "    return set(layer_neighboors)"
   ]
  },
  {
   "cell_type": "code",
   "execution_count": 18,
   "id": "5bc887ac",
   "metadata": {},
   "outputs": [],
   "source": [
    "def find_neighboors(node_name, edges):\n",
    "    return set(edge[1] for edge in list(filter(lambda t: t[0] == node_name, edges)))"
   ]
  },
  {
   "cell_type": "code",
   "execution_count": 19,
   "id": "aa782f53",
   "metadata": {},
   "outputs": [],
   "source": [
    "def sort_graphe_execute_nodes(edges):\n",
    "    sorted_nodes = []\n",
    "    sorted_nodes.extend(find_first_edges(edges))\n",
    "    layer_neighboors = sorted_nodes\n",
    "    \n",
    "    while len(layer_neighboors) > 0:\n",
    "        print(layer_neighboors)\n",
    "        layer_neighboors = find_layer_neighboors(layer_neighboors,edges)\n",
    "        sorted_nodes.extend(layer_neighboors)\n",
    "    return sorted_nodes"
   ]
  },
  {
   "cell_type": "code",
   "execution_count": 20,
   "id": "2da27df2",
   "metadata": {},
   "outputs": [
    {
     "ename": "NameError",
     "evalue": "name 'u' is not defined",
     "output_type": "error",
     "traceback": [
      "\u001b[0;31m---------------------------------------------------------------------------\u001b[0m",
      "\u001b[0;31mNameError\u001b[0m                                 Traceback (most recent call last)",
      "\u001b[0;32m<ipython-input-20-03e7c7e09e7b>\u001b[0m in \u001b[0;36m<module>\u001b[0;34m\u001b[0m\n\u001b[0;32m----> 1\u001b[0;31m \u001b[0msort_graphe_execute_nodes\u001b[0m\u001b[0;34m(\u001b[0m\u001b[0mu\u001b[0m\u001b[0;34m)\u001b[0m\u001b[0;34m\u001b[0m\u001b[0;34m\u001b[0m\u001b[0m\n\u001b[0m",
      "\u001b[0;31mNameError\u001b[0m: name 'u' is not defined"
     ]
    }
   ],
   "source": [
    "sort_graphe_execute_nodes(u)"
   ]
  },
  {
   "cell_type": "code",
   "execution_count": 134,
   "id": "e69c499b",
   "metadata": {},
   "outputs": [],
   "source": [
    "def escape_special_characters(string):\n",
    "    special_symbols = '.^$*+?{}[]\\|()'\n",
    "    return ''.join([f'\\\\{w}' if w in special_symbols else w for w in string])"
   ]
  },
  {
   "cell_type": "code",
   "execution_count": 85,
   "id": "8cc90db2",
   "metadata": {},
   "outputs": [
    {
     "data": {
      "text/plain": [
       "' sss kgjke? kgjke kgjkes \"sdfgkj\"/djjkjd sgfj /'"
      ]
     },
     "execution_count": 85,
     "metadata": {},
     "output_type": "execute_result"
    }
   ],
   "source": [
    "\" sss kgjke? kgjke kgjkes sdfgkj/djjkjd sgfj /\".replace('sdfgkj','\"sdfgkj\"')"
   ]
  },
  {
   "cell_type": "code",
   "execution_count": 125,
   "id": "6f2713b6",
   "metadata": {},
   "outputs": [],
   "source": [
    "#['\"#\"', '\"air_date\"', '\"timeslot_(est)\"', '\"season\"', '\"rating\"', '\"share\"', '\"18-49_(rating/share)\"', '\"viewers_(m)\"', '\"weekly_rank_(#)\"']\n",
    "\n",
    "x = escape_special_characters(\"select share where 18-49 (rating/share) = '3.2/9'\")"
   ]
  },
  {
   "cell_type": "code",
   "execution_count": 148,
   "id": "0657b3be",
   "metadata": {},
   "outputs": [],
   "source": [
    "def translate_query_to_graph_form(query,answer=None,flatten_mode = 'preorder',\n",
    "                                  Omega_include=[\"P\",\"C\",\"S\",\"GB\",\"H\",\"OB\",\"A\",\"OP\",\"L\"],task='tapex'):\n",
    "    \n",
    "    pattern = ' col : '\n",
    "    try:\n",
    "        sql,_ = query.split(pattern)\n",
    "    except Exception as e:\n",
    "        print(e)\n",
    "    sql  = sql.strip()\n",
    "    df = deserializ_tapex_linear_table(\" col : \"+query.split(\" col : \")[1])\n",
    "    \n",
    "    new_column_names = [f'\"{\"_\".join(head.split(\" \"))}\"' for head in df.columns]\n",
    "    print(new_column_names)\n",
    "    for head in sorted(set(df.columns),key=len, reverse=True):\n",
    "        sql = sql.replace(head,f'{\"_\".join(head.split(\" \"))}')\n",
    "    print(sql)\n",
    "    for head in set(df.columns):  \n",
    "        print(escape_special_characters(\"_\".join(head.split(\" \"))))\n",
    "        sql = re.sub(f' {escape_special_characters(\"_\".join(head.split(\" \")))} '\n",
    "                     ,f' \"{\"_\".join(head.split(\" \"))}\" ',sql) \n",
    "        #sql = sql.replace(head,f'\"{\"_\".join(head.split(\" \"))}\"') \n",
    "        print(sql)\n",
    "    df.columns = new_column_names\n",
    "    df['agg'] = np.zeros(df.shape[0])\n",
    "    edges = []\n",
    "    condi_expressions = {}\n",
    "    G0 = create_nodes(sql, df=df,condi_expressions=condi_expressions,edges=edges)\n",
    "    if task == 'tapex':\n",
    "        sort_nodes = sort_graphe_execute_nodes(edges)\n",
    "        #result = to_value_list(G0.executed_last_node())\n",
    "        sort_nodes = sort_graphe_execute_nodes(edges)\n",
    "        transformed_query = ' NODE '+f' NODE '.join(sort_nodes)\n",
    "        return transformed_query+serialize_table_to_tapex_format(df), answer"
   ]
  },
  {
   "cell_type": "code",
   "execution_count": 149,
   "id": "f7633fa5",
   "metadata": {},
   "outputs": [
    {
     "name": "stdout",
     "output_type": "stream",
     "text": [
      "['\"team\"', '\"city\"', '\"venue\"', '\"capacity\"', '\"head_coach\"', '\"team_captain\"', '\"past_season\"']\n",
      "select capacity where team_captain = 'saeed khani'\n",
      "team_captain\n",
      "select capacity where \"team_captain\" = 'saeed khani'\n",
      "past_season\n",
      "select capacity where \"team_captain\" = 'saeed khani'\n",
      "city\n",
      "select capacity where \"team_captain\" = 'saeed khani'\n",
      "team\n",
      "select capacity where \"team_captain\" = 'saeed khani'\n",
      "venue\n",
      "select capacity where \"team_captain\" = 'saeed khani'\n",
      "head_coach\n",
      "select capacity where \"team_captain\" = 'saeed khani'\n",
      "capacity\n",
      "select \"capacity\" where \"team_captain\" = 'saeed khani'\n",
      "[]\n",
      "[(SELECT expressions: \n",
      "  (COLUMN this: \n",
      "    (IDENTIFIER this: capacity, quoted: True)), where: \n",
      "  (WHERE this: \n",
      "    (EQ this: \n",
      "      (COLUMN this: \n",
      "        (IDENTIFIER this: team_captain, quoted: True)), expression: \n",
      "      (LITERAL this: saeed khani, is_string: True))))]\n",
      "sub-query SELECT \"capacity\" WHERE \"team_captain\" = 'saeed khani' type <class 'sqlglot.expressions.Select'>\n",
      "edges,cond\n",
      "[('N13|P|select|0|0|\"capacity\"', 'N29|S|selectwherep0|0|0|wherep0'), ('N20|P|where0|0|0|\"team_captain\"', \"N25|C|where|0|0|= 'saeed khani'\"), (\"N25|C|where|0|0|= 'saeed khani'\", 'N29|S|selectwherep0|0|0|wherep0')] {'S|selectwherep0|0|0|wherep0': 'wherep0', 'P|select|0|0|\"capacity\"': (COLUMN this: \n",
      "  (IDENTIFIER this: capacity, quoted: True)), 'P|where0|0|0|\"team_captain\"': (COLUMN this: \n",
      "  (IDENTIFIER this: team_captain, quoted: True)), \"C|where|0|0|= 'saeed khani'\": ((LITERAL this: saeed khani, is_string: True), <class 'sqlglot.expressions.EQ'>)}\n",
      "cols\n",
      "['\"capacity\"', '\"team_captain\"']\n",
      "-----------\n",
      "['N13|P|select|0|0|\"capacity\"', 'N20|P|where0|0|0|\"team_captain\"']\n",
      "{'N29|S|selectwherep0|0|0|wherep0', \"N25|C|where|0|0|= 'saeed khani'\"}\n",
      "{'N29|S|selectwherep0|0|0|wherep0'}\n",
      "['N13|P|select|0|0|\"capacity\"', 'N20|P|where0|0|0|\"team_captain\"']\n",
      "{'N29|S|selectwherep0|0|0|wherep0', \"N25|C|where|0|0|= 'saeed khani'\"}\n",
      "{'N29|S|selectwherep0|0|0|wherep0'}\n",
      " row 1 : \n",
      " row 2 : \n",
      " row 3 : \n",
      " row 4 : \n",
      " row 5 : \n",
      " row 6 : \n",
      " row 7 : \n",
      " row 8 : \n",
      " row 9 : \n",
      " row 10 : \n",
      " row 11 : \n",
      " row 12 : \n",
      " row 13 : \n",
      " row 14 : \n",
      " row 15 : \n",
      " row 16 : \n",
      " row 17 : \n",
      " row 18 : \n"
     ]
    },
    {
     "data": {
      "text/plain": [
       "(' NODE N13|P|select|0|0|\"capacity\" NODE N20|P|where0|0|0|\"team_captain\" NODE N29|S|selectwherep0|0|0|wherep0 NODE N25|C|where|0|0|= \\'saeed khani\\' NODE N29|S|selectwherep0|0|0|wherep0 col : \"team\" | \"city\" | \"venue\" | \"capacity\" | \"head_coach\" | \"team_captain\" | \"past_season\" | agg row 1 : aboomoslem | mashhad | samen | 35000 | ali hanteh | saeed khani | 4th | 0.0 row 2 : bargh shiraz | shiraz | hafezieh | 20000 | rasoul korbekandi | sattar zare | 7th | 0.0 row 3 : damash gilan | rasht | sardar jangal | 15000 | stanko poklepovic | mohammad reza mahdavi | 15th | 0.0 row 4 : est. ahvaz | ahvaz | takhti ahvaz | 30000 | khodadad azizi | afshin komaei | 8th | 0.0 row 5 : esteghlal | tehran | azadi | 90000 | amir ghalenoei | farhad majidi | 13th | 0.0 row 6 : foolad | ahvaz | takhti ahvaz | 15000 | majid jalali | ali badavi | qualifier | 0.0 row 7 : malavan | anzali | takhti anzali | 8000 | mohammad ahmadzadeh | masoud gholamalizad | 16th | 0.0 row 8 : mes kerman | kerman | shahid bahonar | 15000 | parviz mazloomi | farzad hosseinkhani | 10th | 0.0 row 9 : moghavemat | shiraz | hafezieh | 20000 | gholam hossein peyrovani | mostafa sabri | 14th | 0.0 row 10 : pas hamedan | hamedan | ghods | 5000 | vinko begovic | omid khouraj | 5th | 0.0 row 11 : paykan | qazvin | shahid rajaei | 5000 | ali asghar modir roosta | mohammad reza tahmasebi | 9th | 0.0 row 12 : payam | mashhad | samen | 35000 | kazem ghiyasiyan | mehdi hasheminasab | qualifier | 0.0 row 13 : persepolis | tehran | azadi | 90000 | nelo vingada | karim bagheri | champion | 0.0 row 14 : rah ahan | rey, iran | rah ahan | 15000 | mehdi tartar | ahmad taghavi | 12th | 0.0 row 15 : saba qom | qom | yadegar emam | 15000 | firouz karimi | yahya golmohammadi | 3rd | 0.0 row 16 : saipa | karaj | enghelab karaj | 15000 | mohammad mayeli kohan | ebrahim sadeghi | 11th | 0.0 row 17 : sepahan | esfahan | foolad shahr | 25000 | farhad kazemi | moharram navidkia | 2nd | 0.0 row 18 : zob ahan | esfahan | foolad shahr | 25000 | mansour ebrahimzadeh | mohammad salsali | 6th | 0.0',\n",
       " None)"
      ]
     },
     "execution_count": 149,
     "metadata": {},
     "output_type": "execute_result"
    }
   ],
   "source": [
    "translate_query_to_graph_form(train_src[226])"
   ]
  },
  {
   "cell_type": "code",
   "execution_count": 42,
   "id": "f00e5cb5",
   "metadata": {},
   "outputs": [
    {
     "data": {
      "text/plain": [
       "\"select when? where who? = 'leonardo da vinci' col : subject | robot's name | who? | when? | where? | occupation row 1 : solar system | cosmo-bot | copernicus | 1531 | poland | cosmonaut row 2 : olympics | rhonda robot | greeks | 776 b.c | greece | beauty queen row 3 : basketball | danny defrost-bot | james naismith | 1891 | united states | snowman row 4 : nursing | dr. bug-bot | florence nightengale | 1860 | england | doctor row 5 : scuba gear | flip the high-diving robot | jacques cousteau | 1946 | france | diver row 6 : helicopter | amelia air-bot | leonardo da vinci | 1483 | italy | pilot row 7 : corn flakes | chef boy-robot | william kellogg | 1894 | battle creek, michigan | cook row 8 : radium | miss battery-bot | marie curie | 1898 | france | battery lady row 9 : chewing gum | bubble-bot | mayans | 400 | mexico | bubble man row 10 : painting | pierro-bot | stone-age humans | 35,000 b.c | europe | clown/artist row 11 : phonograph | slide the heavy-metal robot | thomas edison | 1877 | new jersey | rock star row 12 : paper | noshi origami | ts'ai lun | 105 | china | origami maker row 13 : round earth | vasco da robot | ferdinand magellan | 1522 | spain | early sailor row 14 : dynamite | robby robot | alfred nobel | 1866 | sweden | prankster row 15 : microscope | slobot | antonie van leeuwenhoek | 1674 | the netherlands | dirty person row 16 : writing | eraser-bot | sumerians | 3,500 b.c | middle east | pencil man row 17 : sausage | sock-bot | babylonians | 3,000 b.c | middle east | sock man row 18 : bicycle | booster-bot | karl von drais | 1816 | germany | rocket man row 19 : wheel | rollin' road-bot | sumerians | 3,000 b.c | middle east | race starter row 20 : germs | roast-bot | louis pasteur | 1865 | france | firefighter row 21 : boomerang | oswald the mailman robot | aborigines | 40,000 years ago | australia | mailman row 22 : coins | verna the vend-bot | lydians | 600 b.c | turkey | vending machine row 23 : tools | hank the handyman robot | stone-age humans | 21⁄2 million years ago | africa | mechanic row 24 : saxophone | bongo-bot the six-armed robot | antoine-joseph sax | 1846 | france | six-armed drum player row 25 : toilet | brunwella the bombshell | minoans | 2000 b.c | crete | demolisher\""
      ]
     },
     "execution_count": 42,
     "metadata": {},
     "output_type": "execute_result"
    }
   ],
   "source": [
    "train_src[10]"
   ]
  },
  {
   "cell_type": "code",
   "execution_count": 91,
   "id": "522e52b4",
   "metadata": {},
   "outputs": [
    {
     "data": {
      "text/plain": [
       "'wilson & young'"
      ]
     },
     "execution_count": 91,
     "metadata": {},
     "output_type": "execute_result"
    }
   ],
   "source": [
    "train_tgt[28555]"
   ]
  },
  {
   "cell_type": "code",
   "execution_count": 96,
   "id": "d230e7f0",
   "metadata": {},
   "outputs": [
    {
     "name": "stdout",
     "output_type": "stream",
     "text": [
      "select owner where horse = 'bootmaker'\n",
      "[]\n",
      "[(SELECT expressions: \n",
      "  (COLUMN this: \n",
      "    (IDENTIFIER this: owner, quoted: False)), where: \n",
      "  (WHERE this: \n",
      "    (EQ this: \n",
      "      (COLUMN this: \n",
      "        (IDENTIFIER this: horse, quoted: False)), expression: \n",
      "      (LITERAL this: bootmaker, is_string: True))))]\n",
      "sub-query SELECT owner WHERE horse = 'bootmaker' type <class 'sqlglot.expressions.Select'>\n",
      "edges,cond\n",
      "[('N16|P|select|0|0|owner', 'N22|S|selectwherep0|0|0|wherep0'), ('N5|P|where0|0|0|horse', \"N23|C|where|0|0|= 'bootmaker'\"), (\"N23|C|where|0|0|= 'bootmaker'\", 'N22|S|selectwherep0|0|0|wherep0')] {'S|selectwherep0|0|0|wherep0': 'wherep0', 'P|select|0|0|owner': (COLUMN this: \n",
      "  (IDENTIFIER this: owner, quoted: False)), 'P|where0|0|0|horse': (COLUMN this: \n",
      "  (IDENTIFIER this: horse, quoted: False)), \"C|where|0|0|= 'bootmaker'\": ((LITERAL this: bootmaker, is_string: True), <class 'sqlglot.expressions.EQ'>)}\n",
      "cols\n",
      "['owner', 'horse']\n",
      "-----------\n",
      "['N5|P|where0|0|0|horse', 'N16|P|select|0|0|owner']\n",
      "{'N22|S|selectwherep0|0|0|wherep0', \"N23|C|where|0|0|= 'bootmaker'\"}\n",
      "{'N22|S|selectwherep0|0|0|wherep0'}\n",
      "['N5|P|where0|0|0|horse', 'N16|P|select|0|0|owner']\n",
      "{'N22|S|selectwherep0|0|0|wherep0', \"N23|C|where|0|0|= 'bootmaker'\"}\n",
      "{'N22|S|selectwherep0|0|0|wherep0'}\n",
      " row 1 : \n",
      " row 2 : \n",
      " row 3 : \n",
      " row 4 : \n",
      " row 5 : \n",
      " row 6 : \n",
      " row 7 : \n",
      " row 8 : \n"
     ]
    }
   ],
   "source": [
    "_,result0=translate_query_to_graph_form(train_src[28555])"
   ]
  },
  {
   "cell_type": "code",
   "execution_count": 35,
   "id": "6302c9b9",
   "metadata": {},
   "outputs": [
    {
     "name": "stdout",
     "output_type": "stream",
     "text": [
      "[]\n",
      "[(SELECT expressions: \n",
      "  (COLUMN this: \n",
      "    (IDENTIFIER this: year_opened, quoted: True)), where: \n",
      "  (WHERE this: \n",
      "    (EQ this: \n",
      "      (COLUMN this: \n",
      "        (IDENTIFIER this: termini, quoted: True)), expression: \n",
      "      (LITERAL this: west portal station, is_string: True))))]\n",
      "sub-query SELECT \"year_opened\" WHERE \"termini\" = 'west portal station' type <class 'sqlglot.expressions.Select'>\n",
      "edges,cond\n",
      "[('N5|P|select|0|0|\"year_opened\"', 'N25|S|selectwherep0|0|0|wherep0'), ('N2|P|where0|0|0|\"termini\"', \"N4|C|where|0|0|= 'west portal station'\"), (\"N4|C|where|0|0|= 'west portal station'\", 'N25|S|selectwherep0|0|0|wherep0')] {'S|selectwherep0|0|0|wherep0': 'wherep0', 'P|select|0|0|\"year_opened\"': (COLUMN this: \n",
      "  (IDENTIFIER this: year_opened, quoted: True)), 'P|where0|0|0|\"termini\"': (COLUMN this: \n",
      "  (IDENTIFIER this: termini, quoted: True)), \"C|where|0|0|= 'west portal station'\": ((LITERAL this: west portal station, is_string: True), <class 'sqlglot.expressions.EQ'>)}\n",
      "cols\n",
      "['\"year_opened\"', '\"termini\"']\n",
      "-----------\n",
      "['N2|P|where0|0|0|\"termini\"', 'N5|P|select|0|0|\"year_opened\"']\n",
      "{\"N4|C|where|0|0|= 'west portal station'\", 'N25|S|selectwherep0|0|0|wherep0'}\n",
      "{'N25|S|selectwherep0|0|0|wherep0'}\n",
      "['N2|P|where0|0|0|\"termini\"', 'N5|P|select|0|0|\"year_opened\"']\n",
      "{\"N4|C|where|0|0|= 'west portal station'\", 'N25|S|selectwherep0|0|0|wherep0'}\n",
      "{'N25|S|selectwherep0|0|0|wherep0'}\n",
      " row 1 : \n",
      " row 2 : \n",
      " row 3 : \n",
      " row 4 : \n",
      " row 5 : \n",
      " row 6 : \n",
      " row 7 : \n"
     ]
    }
   ],
   "source": [
    "a,b = translate_query_to_graph_form(\"select year opened where termini = 'west portal station' col : line | year opened | termini | termini row 1 : j church | 1917 | embarcadero station | balboa park station row 2 : k ingleside | 1918 | embarcadero station | balboa park station row 3 : l taraval | 1919 | embarcadero station | 46th avenue and wawona san francisco zoo row 4 : m ocean view | 1925 | embarcadero station | san jose and geneva balboa park station row 5 : n judah | 1928 | 4th and king station caltrain depot | judah and la playa ocean beach row 6 : t third street | 2007 | west portal station | sunnydale station row 7 : s castro shuttle (peak hours & game days) | none | embarcadero station 4th and king station (game days) | castro station west portal station (game days)\")"
   ]
  },
  {
   "cell_type": "code",
   "execution_count": 28,
   "id": "1bac558b",
   "metadata": {},
   "outputs": [
    {
     "name": "stdout",
     "output_type": "stream",
     "text": [
      "absl-py @ file:///home/conda/feedstock_root/build_artifacts/absl-py_1695154477682/work\n",
      "accelerate==1.0.1\n",
      "aiohttp @ file:///home/conda/feedstock_root/build_artifacts/aiohttp_1701099495371/work\n",
      "aiosignal @ file:///home/conda/feedstock_root/build_artifacts/aiosignal_1667935791922/work\n",
      "alembic @ file:///home/conda/feedstock_root/build_artifacts/alembic_1616532146974/work\n",
      "anyio @ file:///home/conda/feedstock_root/build_artifacts/anyio_1614388751160/work/dist\n",
      "argon2-cffi @ file:///home/conda/feedstock_root/build_artifacts/argon2-cffi_1610522574055/work\n",
      "astunparse @ file:///home/conda/feedstock_root/build_artifacts/astunparse_1610696312422/work\n",
      "async-generator==1.10\n",
      "async-timeout @ file:///home/conda/feedstock_root/build_artifacts/async-timeout_1691763562544/work\n",
      "attrs @ file:///home/conda/feedstock_root/build_artifacts/attrs_1605083924122/work\n",
      "Babel @ file:///home/conda/feedstock_root/build_artifacts/babel_1605182336601/work\n",
      "backcall @ file:///home/conda/feedstock_root/build_artifacts/backcall_1592338393461/work\n",
      "backports.functools-lru-cache @ file:///home/conda/feedstock_root/build_artifacts/backports.functools_lru_cache_1618230623929/work\n",
      "beautifulsoup4==4.9.3\n",
      "bleach @ file:///home/conda/feedstock_root/build_artifacts/bleach_1612213472466/work\n",
      "blinker==1.4\n",
      "Bottleneck==1.3.2\n",
      "brotlipy==0.7.0\n",
      "cached-property @ file:///home/conda/feedstock_root/build_artifacts/cached_property_1615209429212/work\n",
      "cachetools @ file:///home/conda/feedstock_root/build_artifacts/cachetools_1698197297464/work\n",
      "certifi @ file:///home/conda/feedstock_root/build_artifacts/certifi_1700303426725/work/certifi\n",
      "certipy==0.1.3\n",
      "cffi @ file:///home/conda/feedstock_root/build_artifacts/cffi_1613413861439/work\n",
      "chardet @ file:///home/conda/feedstock_root/build_artifacts/chardet_1610093490430/work\n",
      "charset-normalizer==2.1.1\n",
      "clang==5.0\n",
      "click @ file:///home/conda/feedstock_root/build_artifacts/click_1692311806742/work\n",
      "comm==0.2.2\n",
      "conda==4.10.0\n",
      "conda-package-handling @ file:///home/conda/feedstock_root/build_artifacts/conda-package-handling_1618231394280/work\n",
      "cryptography @ file:///home/conda/feedstock_root/build_artifacts/cryptography_1616851476134/work\n",
      "cycler==0.10.0\n",
      "datasets==3.0.1\n",
      "decorator==4.4.2\n",
      "defusedxml @ file:///home/conda/feedstock_root/build_artifacts/defusedxml_1615232257335/work\n",
      "dill==0.3.8\n",
      "efficientnet==1.0.0\n",
      "entrypoints @ file:///home/conda/feedstock_root/build_artifacts/entrypoints_1605121927639/work/dist/entrypoints-0.3-py2.py3-none-any.whl\n",
      "fastai==1.0.61\n",
      "fastprogress==1.0.0\n",
      "filelock==3.16.1\n",
      "flatbuffers @ file:///home/conda/feedstock_root/build_artifacts/python-flatbuffers_1685164110706/work\n",
      "frozenlist @ file:///home/conda/feedstock_root/build_artifacts/frozenlist_1695377782835/work\n",
      "fsspec==2024.6.1\n",
      "fuzzywuzzy==0.18.0\n",
      "gast @ file:///home/conda/feedstock_root/build_artifacts/gast_1596839682936/work\n",
      "GDAL==2.2.3\n",
      "google-auth @ file:///home/conda/feedstock_root/build_artifacts/google-auth_1694495354132/work\n",
      "google-auth-oauthlib @ file:///home/conda/feedstock_root/build_artifacts/google-auth-oauthlib_1630497468950/work\n",
      "google-pasta==0.2.0\n",
      "greenlet @ file:///home/conda/feedstock_root/build_artifacts/greenlet_1615997404757/work\n",
      "grpcio @ file:///home/conda/feedstock_root/build_artifacts/grpc-split_1670307281245/work\n",
      "h5py @ file:///home/conda/feedstock_root/build_artifacts/h5py_1687263074757/work\n",
      "huggingface-hub==0.25.2\n",
      "idna @ file:///home/conda/feedstock_root/build_artifacts/idna_1593328102638/work\n",
      "image-classifiers==1.0.0\n",
      "imageio==2.9.0\n",
      "importlib-metadata @ file:///home/conda/feedstock_root/build_artifacts/importlib-metadata_1618291653838/work\n",
      "ipykernel @ file:///home/conda/feedstock_root/build_artifacts/ipykernel_1617137062168/work/dist/ipykernel-5.5.3-py3-none-any.whl\n",
      "ipython @ file:///home/conda/feedstock_root/build_artifacts/ipython_1616836843858/work\n",
      "ipython-genutils==0.2.0\n",
      "ipywidgets==8.1.5\n",
      "jedi @ file:///home/conda/feedstock_root/build_artifacts/jedi_1610146791023/work\n",
      "Jinja2==3.1.0\n",
      "joblib @ file:///home/conda/feedstock_root/build_artifacts/joblib_1691577114857/work\n",
      "json5 @ file:///home/conda/feedstock_root/build_artifacts/json5_1600692310011/work\n",
      "jsonschema @ file:///home/conda/feedstock_root/build_artifacts/jsonschema_1614815863336/work\n",
      "jupyter-client @ file:///home/conda/feedstock_root/build_artifacts/jupyter_client_1615693636836/work\n",
      "jupyter-core @ file:///home/conda/feedstock_root/build_artifacts/jupyter_core_1612125275706/work\n",
      "jupyter-packaging @ file:///home/conda/feedstock_root/build_artifacts/jupyter-packaging_1613054948399/work\n",
      "jupyter-server @ file:///home/conda/feedstock_root/build_artifacts/jupyter_server_1618265787714/work\n",
      "jupyter-telemetry @ file:///home/conda/feedstock_root/build_artifacts/jupyter_telemetry_1605173804246/work\n",
      "jupyterhub @ file:///home/conda/feedstock_root/build_artifacts/jupyterhub-feedstock_1614255305026/work\n",
      "jupyterlab @ file:///home/conda/feedstock_root/build_artifacts/jupyterlab_1616195786210/work\n",
      "jupyterlab-pygments @ file:///home/conda/feedstock_root/build_artifacts/jupyterlab_pygments_1601375948261/work\n",
      "jupyterlab-server @ file:///home/conda/feedstock_root/build_artifacts/jupyterlab_server_1617134349851/work\n",
      "jupyterlab-widgets==3.0.13\n",
      "keras @ file:///home/conda/feedstock_root/build_artifacts/keras_1669020828024/work/keras-2.11.0-py2.py3-none-any.whl\n",
      "Keras-Applications==1.0.8\n",
      "Keras-Preprocessing @ file:///home/conda/feedstock_root/build_artifacts/keras-preprocessing_1610713559828/work\n",
      "kiwisolver==1.3.1\n",
      "Mako @ file:///home/conda/feedstock_root/build_artifacts/mako_1610659158978/work\n",
      "mamba @ file:///home/conda/feedstock_root/build_artifacts/mamba_1618657640021/work\n",
      "Markdown @ file:///home/conda/feedstock_root/build_artifacts/markdown_1614595805172/work\n",
      "MarkupSafe==2.1.5\n",
      "matplotlib==3.4.1\n",
      "mistune @ file:///home/conda/feedstock_root/build_artifacts/mistune_1610112875388/work\n",
      "mpmath==1.3.0\n",
      "multidict @ file:///home/conda/feedstock_root/build_artifacts/multidict_1696716067907/work\n",
      "multiprocess==0.70.16\n",
      "nbclassic @ file:///home/conda/feedstock_root/build_artifacts/nbclassic_1617878621483/work\n",
      "nbclient @ file:///home/conda/feedstock_root/build_artifacts/nbclient_1614336084111/work\n",
      "nbconvert @ file:///home/conda/feedstock_root/build_artifacts/nbconvert_1605401836768/work\n",
      "nbformat @ file:///home/conda/feedstock_root/build_artifacts/nbformat_1617383142101/work\n",
      "nest-asyncio @ file:///home/conda/feedstock_root/build_artifacts/nest-asyncio_1617163391303/work\n",
      "networkx==2.5.1\n",
      "nltk==3.9.1\n",
      "notebook @ file:///home/conda/feedstock_root/build_artifacts/notebook_1618415081862/work\n",
      "numexpr==2.7.3\n",
      "numpy @ file:///home/conda/feedstock_root/build_artifacts/numpy_1687808301083/work\n",
      "nvidia-cublas-cu12==12.1.3.1\n",
      "nvidia-cuda-cupti-cu12==12.1.105\n",
      "nvidia-cuda-nvrtc-cu12==12.1.105\n",
      "nvidia-cuda-runtime-cu12==12.1.105\n",
      "nvidia-cudnn-cu12==9.1.0.70\n",
      "nvidia-cufft-cu12==11.0.2.54\n",
      "nvidia-curand-cu12==10.3.2.106\n",
      "nvidia-cusolver-cu12==11.4.5.107\n",
      "nvidia-cusparse-cu12==12.1.0.106\n",
      "nvidia-ml-py3==7.352.0\n",
      "nvidia-nccl-cu12==2.20.5\n",
      "nvidia-nvjitlink-cu12==12.6.77\n",
      "nvidia-nvtx-cu12==12.1.105\n",
      "oauthlib==3.0.1\n",
      "opencv-python==4.5.1.48\n",
      "opt-einsum @ file:///home/conda/feedstock_root/build_artifacts/opt_einsum_1696448916724/work\n",
      "packaging @ file:///home/conda/feedstock_root/build_artifacts/packaging_1612459636436/work\n",
      "pamela==1.0.0\n",
      "pandas==1.2.4\n",
      "pandocfilters==1.4.2\n",
      "parso @ file:///home/conda/feedstock_root/build_artifacts/parso_1617148930513/work\n",
      "pexpect @ file:///home/conda/feedstock_root/build_artifacts/pexpect_1602535608087/work\n",
      "pickleshare @ file:///home/conda/feedstock_root/build_artifacts/pickleshare_1602536217715/work\n",
      "Pillow==8.2.0\n",
      "platformdirs @ file:///home/conda/feedstock_root/build_artifacts/platformdirs_1701708255999/work\n",
      "pooch @ file:///home/conda/feedstock_root/build_artifacts/pooch_1698245576425/work\n",
      "prometheus-client @ file:///home/conda/feedstock_root/build_artifacts/prometheus_client_1617909193315/work\n",
      "prompt-toolkit @ file:///home/conda/feedstock_root/build_artifacts/prompt-toolkit_1616432837031/work\n",
      "protobuf==4.21.12\n",
      "psutil==6.0.0\n",
      "ptyprocess @ file:///home/conda/feedstock_root/build_artifacts/ptyprocess_1609419310487/work/dist/ptyprocess-0.7.0-py2.py3-none-any.whl\n",
      "pyarrow==17.0.0\n",
      "pyasn1 @ file:///home/conda/feedstock_root/build_artifacts/pyasn1_1701287008248/work\n",
      "pyasn1-modules @ file:///home/conda/feedstock_root/build_artifacts/pyasn1-modules_1695107857548/work\n",
      "pycosat @ file:///home/conda/feedstock_root/build_artifacts/pycosat_1610094800877/work\n",
      "pycparser @ file:///home/conda/feedstock_root/build_artifacts/pycparser_1593275161868/work\n",
      "pycurl==7.43.0.6\n",
      "Pygments @ file:///home/conda/feedstock_root/build_artifacts/pygments_1615243893546/work\n",
      "PyJWT @ file:///home/conda/feedstock_root/build_artifacts/pyjwt_1617199158555/work\n",
      "pyOpenSSL @ file:///home/conda/feedstock_root/build_artifacts/pyopenssl_1608055815057/work\n",
      "pyparsing==2.4.7\n",
      "pyrsistent @ file:///home/conda/feedstock_root/build_artifacts/pyrsistent_1610146798212/work\n",
      "PySocks @ file:///home/conda/feedstock_root/build_artifacts/pysocks_1610291447907/work\n",
      "python-dateutil==2.8.1\n",
      "python-editor==1.0.4\n",
      "python-json-logger @ file:///home/conda/feedstock_root/build_artifacts/python-json-logger_1602545356084/work\n",
      "pytz @ file:///home/conda/feedstock_root/build_artifacts/pytz_1612179539967/work\n",
      "pyu2f @ file:///home/conda/feedstock_root/build_artifacts/pyu2f_1604248910016/work\n",
      "PyWavelets==1.1.1\n",
      "PyYAML==5.4.1\n",
      "pyzmq @ file:///home/conda/feedstock_root/build_artifacts/pyzmq_1614611703677/work\n",
      "regex==2024.9.11\n",
      "requests==2.32.3\n",
      "requests-oauthlib @ file:///home/conda/feedstock_root/build_artifacts/requests-oauthlib_1643557462909/work\n",
      "rsa @ file:///home/conda/feedstock_root/build_artifacts/rsa_1658328885051/work\n",
      "ruamel-yaml-conda @ file:///home/conda/feedstock_root/build_artifacts/ruamel_yaml_1611943339799/work\n",
      "ruamel.yaml @ file:///home/conda/feedstock_root/build_artifacts/ruamel.yaml_1610291375472/work\n",
      "ruamel.yaml.clib @ file:///home/conda/feedstock_root/build_artifacts/ruamel.yaml.clib_1610146840614/work\n",
      "sacremoses==0.1.1\n",
      "safetensors==0.4.5\n",
      "scikit-image==0.18.1\n",
      "scikit-learn @ file:///home/conda/feedstock_root/build_artifacts/scikit-learn_1701931997682/work\n",
      "scipy @ file:///home/conda/feedstock_root/build_artifacts/scipy-split_1683900206454/work/base/dist/scipy-1.10.1-cp38-cp38-linux_x86_64.whl#sha256=13ab5c17dedeb97a65ba90de1c51475f2d3ae0fe50bc43e9b018cc2943541de4\n",
      "seaborn==0.13.2\n",
      "segmentation-models==1.0.1\n",
      "Send2Trash==1.5.0\n",
      "sentencepiece==0.2.0\n",
      "six @ file:///home/conda/feedstock_root/build_artifacts/six_1590081179328/work\n",
      "sniffio @ file:///home/conda/feedstock_root/build_artifacts/sniffio_1610318319305/work\n",
      "soupsieve==2.2.1\n",
      "SQLAlchemy @ file:///home/conda/feedstock_root/build_artifacts/sqlalchemy_1618645869801/work\n",
      "sqlglot==18.16.0\n",
      "sympy==1.13.3\n",
      "tensorboard @ file:///home/conda/feedstock_root/build_artifacts/tensorboard_1673674224265/work/tensorboard-2.11.2-py3-none-any.whl\n",
      "tensorboard-data-server @ file:///home/conda/feedstock_root/build_artifacts/tensorboard-data-server_1670043835761/work/tensorboard_data_server-0.6.1-py3-none-manylinux2010_x86_64.whl\n",
      "tensorboard-plugin-wit @ file:///home/conda/feedstock_root/build_artifacts/tensorboard-plugin-wit_1641458951060/work/tensorboard_plugin_wit-1.8.1-py3-none-any.whl\n",
      "tensorflow @ file:///home/conda/feedstock_root/build_artifacts/tensorflow-split_1671131570292/work/tensorflow_pkg/tensorflow-2.11.0-cp38-cp38-linux_x86_64.whl\n",
      "tensorflow-estimator @ file:///home/conda/feedstock_root/build_artifacts/tensorflow-split_1671131570292/work/tensorflow-estimator/wheel_dir/tensorflow_estimator-2.11.0-py2.py3-none-any.whl\n",
      "termcolor @ file:///home/conda/feedstock_root/build_artifacts/termcolor_1682317048417/work\n",
      "terminado @ file:///home/conda/feedstock_root/build_artifacts/terminado_1617048646775/work\n",
      "testpath==0.4.4\n",
      "threadpoolctl @ file:///home/conda/feedstock_root/build_artifacts/threadpoolctl_1689261241048/work\n",
      "tifffile==2021.4.8\n",
      "tokenizers==0.20.1\n",
      "torch==2.4.1\n",
      "torchvision==0.19.1\n",
      "tornado @ file:///home/conda/feedstock_root/build_artifacts/tornado_1610094706440/work\n",
      "tqdm==4.66.5\n",
      "traitlets @ file:///home/conda/feedstock_root/build_artifacts/traitlets_1602771532708/work\n",
      "transformers==4.45.2\n",
      "triton==3.0.0\n",
      "typing-extensions @ file:///home/conda/feedstock_root/build_artifacts/typing_extensions_1702176139754/work\n",
      "urllib3 @ file:///home/conda/feedstock_root/build_artifacts/urllib3_1615828766818/work\n",
      "wcwidth @ file:///home/conda/feedstock_root/build_artifacts/wcwidth_1600965781394/work\n",
      "webencodings==0.5.1\n",
      "Werkzeug @ file:///home/conda/feedstock_root/build_artifacts/werkzeug_1651670883478/work\n",
      "widgetsnbextension==4.0.13\n",
      "wrapt @ file:///home/conda/feedstock_root/build_artifacts/wrapt_1699532804024/work\n",
      "xxhash==3.5.0\n",
      "yarl @ file:///home/conda/feedstock_root/build_artifacts/yarl_1701168550019/work\n",
      "zipp @ file:///home/conda/feedstock_root/build_artifacts/zipp_1614945704755/work\n"
     ]
    }
   ],
   "source": [
    "!pip freeze"
   ]
  },
  {
   "cell_type": "code",
   "execution_count": 36,
   "id": "50b79588",
   "metadata": {},
   "outputs": [
    {
     "data": {
      "text/plain": [
       "' NODE N2|P|where0|0|0|\"termini\" NODE N5|P|select|0|0|\"year_opened\" NODE N4|C|where|0|0|= \\'west portal station\\' NODE N25|S|selectwherep0|0|0|wherep0 NODE N25|S|selectwherep0|0|0|wherep0 col : \"line\" | \"year_opened\" | \"termini\" | \"termini\" | agg row 1 : j church | 1917 | embarcadero station | balboa park station | 0.0 row 2 : k ingleside | 1918 | embarcadero station | balboa park station | 0.0 row 3 : l taraval | 1919 | embarcadero station | 46th avenue and wawona san francisco zoo | 0.0 row 4 : m ocean view | 1925 | embarcadero station | san jose and geneva balboa park station | 0.0 row 5 : n judah | 1928 | 4th and king station caltrain depot | judah and la playa ocean beach | 0.0 row 6 : t third street | 2007 | west portal station | sunnydale station | 0.0 row 7 : s castro shuttle (peak hours & game days) | none | embarcadero station 4th and king station (game days) | castro station west portal station (game days) | 0.0'"
      ]
     },
     "execution_count": 36,
     "metadata": {},
     "output_type": "execute_result"
    }
   ],
   "source": [
    "a"
   ]
  },
  {
   "cell_type": "code",
   "execution_count": 37,
   "id": "c2aa67b2",
   "metadata": {},
   "outputs": [],
   "source": [
    "b"
   ]
  },
  {
   "cell_type": "code",
   "execution_count": 29,
   "id": "411b557d",
   "metadata": {},
   "outputs": [
    {
     "name": "stdout",
     "output_type": "stream",
     "text": [
      "Collecting pandas==1.5.2\n",
      "  Using cached pandas-1.5.2-cp38-cp38-manylinux_2_17_x86_64.manylinux2014_x86_64.whl (12.2 MB)\n",
      "Requirement already satisfied: numpy>=1.20.3 in /opt/conda/lib/python3.8/site-packages (from pandas==1.5.2) (1.24.4)\n",
      "Requirement already satisfied: pytz>=2020.1 in /opt/conda/lib/python3.8/site-packages (from pandas==1.5.2) (2021.1)\n",
      "Requirement already satisfied: python-dateutil>=2.8.1 in /opt/conda/lib/python3.8/site-packages (from pandas==1.5.2) (2.8.1)\n",
      "Requirement already satisfied: six>=1.5 in /opt/conda/lib/python3.8/site-packages (from python-dateutil>=2.8.1->pandas==1.5.2) (1.15.0)\n",
      "Installing collected packages: pandas\n",
      "  Attempting uninstall: pandas\n",
      "    Found existing installation: pandas 1.2.4\n",
      "    Uninstalling pandas-1.2.4:\n",
      "      Successfully uninstalled pandas-1.2.4\n",
      "Successfully installed pandas-1.5.2\n"
     ]
    }
   ],
   "source": [
    "!pip install pandas==1.5.2\n"
   ]
  },
  {
   "cell_type": "code",
   "execution_count": 16,
   "id": "301ca337",
   "metadata": {},
   "outputs": [],
   "source": [
    "import pandas as pd"
   ]
  },
  {
   "cell_type": "code",
   "execution_count": 47,
   "id": "6895a42e",
   "metadata": {},
   "outputs": [],
   "source": [
    "df = pd.Series({\"a\":[1,2,3]})"
   ]
  },
  {
   "cell_type": "code",
   "execution_count": 46,
   "id": "9f2277b6",
   "metadata": {},
   "outputs": [
    {
     "data": {
      "text/plain": [
       "15"
      ]
     },
     "execution_count": 46,
     "metadata": {},
     "output_type": "execute_result"
    }
   ],
   "source": [
    "type(df.dtypes[0]).type(15)"
   ]
  },
  {
   "cell_type": "code",
   "execution_count": 52,
   "id": "ad9a4dad",
   "metadata": {},
   "outputs": [
    {
     "data": {
      "text/plain": [
       "15"
      ]
     },
     "execution_count": 52,
     "metadata": {},
     "output_type": "execute_result"
    }
   ],
   "source": [
    "df.dtypes.type(15)"
   ]
  },
  {
   "cell_type": "code",
   "execution_count": 53,
   "id": "4a7a1b09",
   "metadata": {},
   "outputs": [],
   "source": [
    "df = pd.DataFrame({\"a\":[1,2,3]})"
   ]
  },
  {
   "cell_type": "code",
   "execution_count": 24,
   "id": "609354b5",
   "metadata": {
    "scrolled": true
   },
   "outputs": [
    {
     "data": {
      "text/plain": [
       "'team'"
      ]
     },
     "execution_count": 24,
     "metadata": {},
     "output_type": "execute_result"
    }
   ],
   "source": [
    "df.columns[0]"
   ]
  },
  {
   "cell_type": "code",
   "execution_count": 26,
   "id": "2a421a59",
   "metadata": {},
   "outputs": [
    {
     "ename": "AttributeError",
     "evalue": "'str' object has no attribute 'dtypes'",
     "output_type": "error",
     "traceback": [
      "\u001b[0;31m---------------------------------------------------------------------------\u001b[0m",
      "\u001b[0;31mAttributeError\u001b[0m                            Traceback (most recent call last)",
      "\u001b[0;32m<ipython-input-26-4d2ac945d762>\u001b[0m in \u001b[0;36m<module>\u001b[0;34m\u001b[0m\n\u001b[0;32m----> 1\u001b[0;31m \u001b[0mdf\u001b[0m\u001b[0;34m[\u001b[0m\u001b[0mdf\u001b[0m\u001b[0;34m.\u001b[0m\u001b[0mcolumns\u001b[0m\u001b[0;34m[\u001b[0m\u001b[0;36m0\u001b[0m\u001b[0;34m]\u001b[0m\u001b[0;34m]\u001b[0m\u001b[0;34m[\u001b[0m\u001b[0;36m1\u001b[0m\u001b[0;34m]\u001b[0m\u001b[0;34m.\u001b[0m\u001b[0mdtypes\u001b[0m\u001b[0;34m\u001b[0m\u001b[0;34m\u001b[0m\u001b[0m\n\u001b[0m",
      "\u001b[0;31mAttributeError\u001b[0m: 'str' object has no attribute 'dtypes'"
     ]
    }
   ],
   "source": [
    "df[df.columns[0]][1].dtypes"
   ]
  },
  {
   "cell_type": "code",
   "execution_count": 50,
   "id": "cf76bb6d",
   "metadata": {},
   "outputs": [],
   "source": [
    "    special_symbols = '.^$*+?{}[]\\|()'\n"
   ]
  },
  {
   "cell_type": "code",
   "execution_count": 52,
   "id": "5cf77469",
   "metadata": {},
   "outputs": [
    {
     "data": {
      "text/plain": [
       "True"
      ]
     },
     "execution_count": 52,
     "metadata": {},
     "output_type": "execute_result"
    }
   ],
   "source": [
    "'.' in special_symbols"
   ]
  },
  {
   "cell_type": "code",
   "execution_count": null,
   "id": "adc745ab",
   "metadata": {},
   "outputs": [],
   "source": []
  }
 ],
 "metadata": {
  "kernelspec": {
   "display_name": "Python 3",
   "language": "python",
   "name": "python3"
  },
  "language_info": {
   "codemirror_mode": {
    "name": "ipython",
    "version": 3
   },
   "file_extension": ".py",
   "mimetype": "text/x-python",
   "name": "python",
   "nbconvert_exporter": "python",
   "pygments_lexer": "ipython3",
   "version": "3.8.8"
  }
 },
 "nbformat": 4,
 "nbformat_minor": 5
}
